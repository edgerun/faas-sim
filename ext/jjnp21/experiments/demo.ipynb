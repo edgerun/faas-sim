{
 "cells": [
  {
   "cell_type": "code",
   "execution_count": 1,
   "metadata": {},
   "outputs": [
    {
     "name": "stdout",
     "output_type": "stream",
     "text": [
      "[nuc_0, nuc_1, rockpi_1, nx_0, nano_6, nano_11, nuc_2, nuc_3, nx_1, nano_10, nano_16, nuc_4, rpi4_2, rpi4_3, tx2_0, tx2_1, nuc_5, tx2_2, nuc_6, nano_18, coral_1, nuc_7, nano_17, nuc_8, nuc_9, nuc_10, rockpi_2, nano_14, nuc_11, nano_1, nuc_12, nano_12, nuc_13, rockpi_0, nx_3, nano_2, nano_3, nuc_14, rockpi_3, nano_4, rockpi_4, rpi3_0, rpi3_1, rpi3_2, coral_2, nano_8, nano_9, nx_2, nano_7, rpi4_4, rpi4_5, rpi3_3, rpi3_4, rpi3_5, rpi3_6, rpi3_7, rpi3_8, coral_0, rockpi_5, nano_5, nano_13, rpi4_0, rpi4_1, nano_0, nano_15, xeoncpu_0, xeoncpu_1, xeoncpu_2, xeoncpu_3, xeoncpu_4, xeoncpu_5, xeoncpu_6, xeoncpu_7, xeoncpu_8, xeoncpu_9, xeoncpu_10, xeoncpu_11, xeoncpu_12, xeoncpu_13, xeoncpu_14, xeoncpu_15, xeoncpu_16, xeoncpu_17, xeoncpu_18, xeoncpu_19, xeoncpu_20, xeoncpu_21, xeoncpu_22, xeoncpu_23, xeoncpu_24, xeoncpu_25, xeoncpu_26, xeoncpu_27, xeongpu_0, xeongpu_1, xeongpu_2, xeongpu_3, xeongpu_4, xeongpu_5, xeongpu_6, load-balancer]\n",
      "<ext.jjnp21.load_balancers.localized_lrt.LocalizedLRTLBWrapper object at 0x7fa8e3c3a490>\n"
     ]
    },
    {
     "name": "stderr",
     "output_type": "stream",
     "text": [
      "INFO:sim.faassim:initializing simulation, benchmark: ConstantBenchmark, topology nodes: 428\n",
      "INFO:sim.faassim:starting resource monitor\n",
      "INFO:sim.faassim:setting up benchmark\n",
      "INFO:root:faas-workloads/resnet-inference-cpu, latest, [ImageProperties(name='faas-workloads/resnet-inference-cpu', size=2000000000, tag='latest', arch='x86'), ImageProperties(name='faas-workloads/resnet-inference-cpu', size=2000000000, tag='latest', arch='amd64'), ImageProperties(name='faas-workloads/resnet-inference-cpu', size=700000000, tag='latest', arch='arm32v7'), ImageProperties(name='faas-workloads/resnet-inference-cpu', size=700000000, tag='latest', arch='arm32'), ImageProperties(name='faas-workloads/resnet-inference-cpu', size=700000000, tag='latest', arch='arm'), ImageProperties(name='faas-workloads/resnet-inference-cpu', size=840000000, tag='latest', arch='aarch64'), ImageProperties(name='faas-workloads/resnet-inference-cpu', size=840000000, tag='latest', arch='arm64')]\n",
      "INFO:root:faas-workloads/resnet-inference-gpu, latest, [ImageProperties(name='faas-workloads/resnet-inference-gpu', size=2000000000, tag='latest', arch='x86'), ImageProperties(name='faas-workloads/resnet-inference-gpu', size=2000000000, tag='latest', arch='amd64'), ImageProperties(name='faas-workloads/resnet-inference-gpu', size=1000000000, tag='latest', arch='aarch64'), ImageProperties(name='faas-workloads/resnet-inference-gpu', size=1000000000, tag='latest', arch='arm64')]\n",
      "INFO:root:faas-workloads/resnet-training-gpu, latest, [ImageProperties(name='faas-workloads/resnet-training-gpu', size=2000000000, tag='latest', arch='x86'), ImageProperties(name='faas-workloads/resnet-training-gpu', size=2000000000, tag='latest', arch='amd64'), ImageProperties(name='faas-workloads/resnet-training-gpu', size=1000000000, tag='latest', arch='aarch64'), ImageProperties(name='faas-workloads/resnet-training-gpu', size=1000000000, tag='latest', arch='arm64')]\n",
      "INFO:root:faas-workloads/resnet-training-cpu, latest, [ImageProperties(name='faas-workloads/resnet-training-cpu', size=2000000000, tag='latest', arch='amd64'), ImageProperties(name='faas-workloads/resnet-training-cpu', size=2000000000, tag='latest', arch='x86')]\n",
      "INFO:root:faas-workloads/speech-inference-tflite, latest, [ImageProperties(name='faas-workloads/speech-inference-tflite', size=108000000, tag='latest', arch='amd64'), ImageProperties(name='faas-workloads/speech-inference-tflite', size=108000000, tag='latest', arch='x86'), ImageProperties(name='faas-workloads/speech-inference-tflite', size=328000000, tag='latest', arch='arm32v7'), ImageProperties(name='faas-workloads/speech-inference-tflite', size=328000000, tag='latest', arch='arm32'), ImageProperties(name='faas-workloads/speech-inference-tflite', size=328000000, tag='latest', arch='arm'), ImageProperties(name='faas-workloads/speech-inference-tflite', size=400000000, tag='latest', arch='arm64'), ImageProperties(name='faas-workloads/speech-inference-tflite', size=400000000, tag='latest', arch='aarch64')]\n",
      "INFO:root:faas-workloads/speech-inference-gpu, latest, [ImageProperties(name='faas-workloads/speech-inference-gpu', size=1600000000, tag='latest', arch='amd64'), ImageProperties(name='faas-workloads/speech-inference-gpu', size=1600000000, tag='latest', arch='x86'), ImageProperties(name='faas-workloads/speech-inference-gpu', size=1300000000, tag='latest', arch='arm64'), ImageProperties(name='faas-workloads/speech-inference-gpu', size=1300000000, tag='latest', arch='aarch64')]\n",
      "INFO:root:faas-workloads/mobilenet-inference-tflite, latest, [ImageProperties(name='faas-workloads/mobilenet-inference-tflite', size=180000000, tag='latest', arch='amd64'), ImageProperties(name='faas-workloads/mobilenet-inference-tflite', size=180000000, tag='latest', arch='x86'), ImageProperties(name='faas-workloads/mobilenet-inference-tflite', size=160000000, tag='latest', arch='arm32v7'), ImageProperties(name='faas-workloads/mobilenet-inference-tflite', size=160000000, tag='latest', arch='arm32'), ImageProperties(name='faas-workloads/mobilenet-inference-tflite', size=160000000, tag='latest', arch='arm'), ImageProperties(name='faas-workloads/mobilenet-inference-tflite', size=173000000, tag='latest', arch='arm64'), ImageProperties(name='faas-workloads/mobilenet-inference-tflite', size=173000000, tag='latest', arch='aarch64')]\n",
      "INFO:root:faas-workloads/mobilenet-inference-tpu, latest, [ImageProperties(name='faas-workloads/mobilenet-inference-tpu', size=173000000, tag='latest', arch='arm64'), ImageProperties(name='faas-workloads/mobilenet-inference-tpu', size=173000000, tag='latest', arch='aarch64')]\n",
      "INFO:root:faas-workloads/python-pi, latest, [ImageProperties(name='faas-workloads/python-pi', size=88000000, tag='latest', arch='amd64'), ImageProperties(name='faas-workloads/python-pi', size=88000000, tag='latest', arch='x86'), ImageProperties(name='faas-workloads/python-pi', size=55000000, tag='latest', arch='arm32v7'), ImageProperties(name='faas-workloads/python-pi', size=55000000, tag='latest', arch='arm32'), ImageProperties(name='faas-workloads/python-pi', size=55000000, tag='latest', arch='arm'), ImageProperties(name='faas-workloads/python-pi', size=62000000, tag='latest', arch='arm64'), ImageProperties(name='faas-workloads/python-pi', size=62000000, tag='latest', arch='aarch64')]\n",
      "INFO:root:faas-workloads/fio, latest, [ImageProperties(name='faas-workloads/fio', size=24000000, tag='latest', arch='amd64'), ImageProperties(name='faas-workloads/fio', size=24000000, tag='latest', arch='x86'), ImageProperties(name='faas-workloads/fio', size=20000000, tag='latest', arch='arm32v7'), ImageProperties(name='faas-workloads/fio', size=20000000, tag='latest', arch='arm32'), ImageProperties(name='faas-workloads/fio', size=20000000, tag='latest', arch='arm'), ImageProperties(name='faas-workloads/fio', size=23000000, tag='latest', arch='arm64'), ImageProperties(name='faas-workloads/fio', size=23000000, tag='latest', arch='aarch64')]\n",
      "INFO:root:faas-workloads/tf-gpu, latest, [ImageProperties(name='faas-workloads/tf-gpu', size=4100000000, tag='latest', arch='amd64'), ImageProperties(name='faas-workloads/tf-gpu', size=4100000000, tag='latest', arch='x86'), ImageProperties(name='faas-workloads/tf-gpu', size=2240000000, tag='latest', arch='arm64'), ImageProperties(name='faas-workloads/tf-gpu', size=2240000000, tag='latest', arch='aarch64')]\n",
      "INFO:root:faas-workloads/resnet-preprocessing, latest, [ImageProperties(name='faas-workloads/resnet-preprocessing', size=4100000000, tag='latest', arch='x86'), ImageProperties(name='faas-workloads/resnet-preprocessing', size=4100000000, tag='latest', arch='amd64'), ImageProperties(name='faas-workloads/resnet-preprocessing', size=1370000000, tag='latest', arch='arm32v7'), ImageProperties(name='faas-workloads/resnet-preprocessing', size=1370000000, tag='latest', arch='arm32'), ImageProperties(name='faas-workloads/resnet-preprocessing', size=1370000000, tag='latest', arch='arm'), ImageProperties(name='faas-workloads/resnet-preprocessing', size=1910000000, tag='latest', arch='arm64'), ImageProperties(name='faas-workloads/resnet-preprocessing', size=1910000000, tag='latest', arch='aarch64')]\n"
     ]
    },
    {
     "name": "stdout",
     "output_type": "stream",
     "text": [
      "[load-balancer]"
     ]
    },
    {
     "name": "stderr",
     "output_type": "stream",
     "text": [
      "INFO:sim.faassim:starting faas system\n"
     ]
    },
    {
     "name": "stdout",
     "output_type": "stream",
     "text": [
      "\n"
     ]
    },
    {
     "name": "stderr",
     "output_type": "stream",
     "text": [
      "INFO:sim.faassim:starting benchmark process\n"
     ]
    },
    {
     "name": "stdout",
     "output_type": "stream",
     "text": [
      "<ext.jjnp21.load_balancers.localized_lrt.LocalizedLRTLBWrapper object at 0x7fa8e3c3a3d0>\n"
     ]
    },
    {
     "name": "stderr",
     "output_type": "stream",
     "text": [
      "INFO:sim.faassim:executing simulation\n",
      "INFO:sim.faassim:initializing simulation, benchmark: ConstantBenchmark, topology nodes: 428\n",
      "INFO:sim.faassim:starting resource monitor\n",
      "INFO:sim.faas.system:deploying function resnet50-inference with scale_min=1\n",
      "INFO:sim.faassim:setting up benchmark\n"
     ]
    },
    {
     "name": "stdout",
     "output_type": "stream",
     "text": [
      "alterted max replicas for resnet50-inference is 81\n",
      "function_factor was 1 and config.scale_max was 81"
     ]
    },
    {
     "name": "stderr",
     "output_type": "stream",
     "text": [
      "INFO:root:faas-workloads/resnet-inference-cpu, latest, [ImageProperties(name='faas-workloads/resnet-inference-cpu', size=2000000000, tag='latest', arch='x86'), ImageProperties(name='faas-workloads/resnet-inference-cpu', size=2000000000, tag='latest', arch='amd64'), ImageProperties(name='faas-workloads/resnet-inference-cpu', size=700000000, tag='latest', arch='arm32v7'), ImageProperties(name='faas-workloads/resnet-inference-cpu', size=700000000, tag='latest', arch='arm32'), ImageProperties(name='faas-workloads/resnet-inference-cpu', size=700000000, tag='latest', arch='arm'), ImageProperties(name='faas-workloads/resnet-inference-cpu', size=840000000, tag='latest', arch='aarch64'), ImageProperties(name='faas-workloads/resnet-inference-cpu', size=840000000, tag='latest', arch='arm64')]\n"
     ]
    },
    {
     "name": "stdout",
     "output_type": "stream",
     "text": [
      "\n",
      "[nuc_0, nuc_1, rockpi_1, nx_0, nano_6, nano_11, nuc_2, nuc_3, nx_1, nano_10, nano_16, nuc_4, rpi4_2, rpi4_3, tx2_0, tx2_1, nuc_5, tx2_2, nuc_6, nano_18, coral_1, nuc_7, nano_17, nuc_8, nuc_9, nuc_10, rockpi_2, nano_14, nuc_11, nano_1, nuc_12, nano_12, nuc_13, rockpi_0, nx_3, nano_2, nano_3, nuc_14, rockpi_3, nano_4, rockpi_4, rpi3_0, rpi3_1, rpi3_2, coral_2, nano_8, nano_9, nx_2, nano_7, rpi4_4, rpi4_5, rpi3_3, rpi3_4, rpi3_5, rpi3_6, rpi3_7, rpi3_8, coral_0, rockpi_5, nano_5, nano_13, rpi4_0, rpi4_1, nano_0, nano_15, xeoncpu_0, xeoncpu_1, xeoncpu_2, xeoncpu_3, xeoncpu_4, xeoncpu_5, xeoncpu_6, xeoncpu_7, xeoncpu_8, xeoncpu_9, xeoncpu_10, xeoncpu_11, xeoncpu_12, xeoncpu_13, xeoncpu_14, xeoncpu_15, xeoncpu_16, xeoncpu_17, xeoncpu_18, xeoncpu_19, xeoncpu_20, xeoncpu_21, xeoncpu_22, xeoncpu_23, xeoncpu_24, xeoncpu_25, xeoncpu_26, xeoncpu_27, xeongpu_0, xeongpu_1, xeongpu_2, xeongpu_3, xeongpu_4, xeongpu_5, xeongpu_6, load-balancer]\n",
      "alterted max replicas for resnet50-inference is 81\n"
     ]
    },
    {
     "name": "stderr",
     "output_type": "stream",
     "text": [
      "INFO:root:faas-workloads/resnet-inference-gpu, latest, [ImageProperties(name='faas-workloads/resnet-inference-gpu', size=2000000000, tag='latest', arch='x86'), ImageProperties(name='faas-workloads/resnet-inference-gpu', size=2000000000, tag='latest', arch='amd64'), ImageProperties(name='faas-workloads/resnet-inference-gpu', size=1000000000, tag='latest', arch='aarch64'), ImageProperties(name='faas-workloads/resnet-inference-gpu', size=1000000000, tag='latest', arch='arm64')]\n"
     ]
    },
    {
     "name": "stdout",
     "output_type": "stream",
     "text": [
      "<ext.jjnp21.load_balancers.localized_lrt.LocalizedLRTLBWrapper object at 0x7fa8e3c3a390>\n",
      "function_factor was 1 and config.scale_max was 81"
     ]
    },
    {
     "name": "stderr",
     "output_type": "stream",
     "text": [
      "INFO:root:faas-workloads/resnet-training-gpu, latest, [ImageProperties(name='faas-workloads/resnet-training-gpu', size=2000000000, tag='latest', arch='x86'), ImageProperties(name='faas-workloads/resnet-training-gpu', size=2000000000, tag='latest', arch='amd64'), ImageProperties(name='faas-workloads/resnet-training-gpu', size=1000000000, tag='latest', arch='aarch64'), ImageProperties(name='faas-workloads/resnet-training-gpu', size=1000000000, tag='latest', arch='arm64')]\n"
     ]
    },
    {
     "name": "stdout",
     "output_type": "stream",
     "text": [
      "[load-balancer]\n"
     ]
    },
    {
     "name": "stderr",
     "output_type": "stream",
     "text": [
      "INFO:sim.faassim:initializing simulation, benchmark: ConstantBenchmark, topology nodes: 428\n",
      "INFO:root:faas-workloads/resnet-training-cpu, latest, [ImageProperties(name='faas-workloads/resnet-training-cpu', size=2000000000, tag='latest', arch='amd64'), ImageProperties(name='faas-workloads/resnet-training-cpu', size=2000000000, tag='latest', arch='x86')]\n"
     ]
    },
    {
     "name": "stdout",
     "output_type": "stream",
     "text": [
      "\n"
     ]
    },
    {
     "name": "stderr",
     "output_type": "stream",
     "text": [
      "INFO:sim.faas.system:deploying function resnet50-training with scale_min=1\n",
      "INFO:sim.faassim:starting resource monitor\n",
      "INFO:root:faas-workloads/speech-inference-tflite, latest, [ImageProperties(name='faas-workloads/speech-inference-tflite', size=108000000, tag='latest', arch='amd64'), ImageProperties(name='faas-workloads/speech-inference-tflite', size=108000000, tag='latest', arch='x86'), ImageProperties(name='faas-workloads/speech-inference-tflite', size=328000000, tag='latest', arch='arm32v7'), ImageProperties(name='faas-workloads/speech-inference-tflite', size=328000000, tag='latest', arch='arm32'), ImageProperties(name='faas-workloads/speech-inference-tflite', size=328000000, tag='latest', arch='arm'), ImageProperties(name='faas-workloads/speech-inference-tflite', size=400000000, tag='latest', arch='arm64'), ImageProperties(name='faas-workloads/speech-inference-tflite', size=400000000, tag='latest', arch='aarch64')]\n"
     ]
    },
    {
     "name": "stdout",
     "output_type": "stream",
     "text": [
      "<ext.jjnp21.load_balancers.localized_lrt.LocalizedLRTLBWrapper object at 0x7fa8e3c3a410>alterted max replicas for resnet50-training is 20"
     ]
    },
    {
     "name": "stderr",
     "output_type": "stream",
     "text": [
      "INFO:sim.faassim:setting up benchmark\n",
      "INFO:root:faas-workloads/speech-inference-gpu, latest, [ImageProperties(name='faas-workloads/speech-inference-gpu', size=1600000000, tag='latest', arch='amd64'), ImageProperties(name='faas-workloads/speech-inference-gpu', size=1600000000, tag='latest', arch='x86'), ImageProperties(name='faas-workloads/speech-inference-gpu', size=1300000000, tag='latest', arch='arm64'), ImageProperties(name='faas-workloads/speech-inference-gpu', size=1300000000, tag='latest', arch='aarch64')]\n"
     ]
    },
    {
     "name": "stdout",
     "output_type": "stream",
     "text": [
      "\n",
      "\n"
     ]
    },
    {
     "name": "stderr",
     "output_type": "stream",
     "text": [
      "INFO:root:faas-workloads/mobilenet-inference-tflite, latest, [ImageProperties(name='faas-workloads/mobilenet-inference-tflite', size=180000000, tag='latest', arch='amd64'), ImageProperties(name='faas-workloads/mobilenet-inference-tflite', size=180000000, tag='latest', arch='x86'), ImageProperties(name='faas-workloads/mobilenet-inference-tflite', size=160000000, tag='latest', arch='arm32v7'), ImageProperties(name='faas-workloads/mobilenet-inference-tflite', size=160000000, tag='latest', arch='arm32'), ImageProperties(name='faas-workloads/mobilenet-inference-tflite', size=160000000, tag='latest', arch='arm'), ImageProperties(name='faas-workloads/mobilenet-inference-tflite', size=173000000, tag='latest', arch='arm64'), ImageProperties(name='faas-workloads/mobilenet-inference-tflite', size=173000000, tag='latest', arch='aarch64')]\n",
      "INFO:root:faas-workloads/resnet-inference-cpu, latest, [ImageProperties(name='faas-workloads/resnet-inference-cpu', size=2000000000, tag='latest', arch='x86'), ImageProperties(name='faas-workloads/resnet-inference-cpu', size=2000000000, tag='latest', arch='amd64'), ImageProperties(name='faas-workloads/resnet-inference-cpu', size=700000000, tag='latest', arch='arm32v7'), ImageProperties(name='faas-workloads/resnet-inference-cpu', size=700000000, tag='latest', arch='arm32'), ImageProperties(name='faas-workloads/resnet-inference-cpu', size=700000000, tag='latest', arch='arm'), ImageProperties(name='faas-workloads/resnet-inference-cpu', size=840000000, tag='latest', arch='aarch64'), ImageProperties(name='faas-workloads/resnet-inference-cpu', size=840000000, tag='latest', arch='arm64')]\n"
     ]
    },
    {
     "name": "stdout",
     "output_type": "stream",
     "text": [
      "function_factor was 1 and config.scale_max was 20"
     ]
    },
    {
     "name": "stderr",
     "output_type": "stream",
     "text": [
      "INFO:sim.faassim:initializing simulation, benchmark: ConstantBenchmark, topology nodes: 428\n",
      "INFO:root:faas-workloads/mobilenet-inference-tpu, latest, [ImageProperties(name='faas-workloads/mobilenet-inference-tpu', size=173000000, tag='latest', arch='arm64'), ImageProperties(name='faas-workloads/mobilenet-inference-tpu', size=173000000, tag='latest', arch='aarch64')]\n",
      "INFO:root:faas-workloads/resnet-inference-gpu, latest, [ImageProperties(name='faas-workloads/resnet-inference-gpu', size=2000000000, tag='latest', arch='x86'), ImageProperties(name='faas-workloads/resnet-inference-gpu', size=2000000000, tag='latest', arch='amd64'), ImageProperties(name='faas-workloads/resnet-inference-gpu', size=1000000000, tag='latest', arch='aarch64'), ImageProperties(name='faas-workloads/resnet-inference-gpu', size=1000000000, tag='latest', arch='arm64')]\n"
     ]
    },
    {
     "name": "stdout",
     "output_type": "stream",
     "text": [
      "\n"
     ]
    },
    {
     "name": "stderr",
     "output_type": "stream",
     "text": [
      "INFO:sim.faassim:starting resource monitor\n",
      "INFO:root:faas-workloads/python-pi, latest, [ImageProperties(name='faas-workloads/python-pi', size=88000000, tag='latest', arch='amd64'), ImageProperties(name='faas-workloads/python-pi', size=88000000, tag='latest', arch='x86'), ImageProperties(name='faas-workloads/python-pi', size=55000000, tag='latest', arch='arm32v7'), ImageProperties(name='faas-workloads/python-pi', size=55000000, tag='latest', arch='arm32'), ImageProperties(name='faas-workloads/python-pi', size=55000000, tag='latest', arch='arm'), ImageProperties(name='faas-workloads/python-pi', size=62000000, tag='latest', arch='arm64'), ImageProperties(name='faas-workloads/python-pi', size=62000000, tag='latest', arch='aarch64')]\n",
      "INFO:root:faas-workloads/resnet-training-gpu, latest, [ImageProperties(name='faas-workloads/resnet-training-gpu', size=2000000000, tag='latest', arch='x86'), ImageProperties(name='faas-workloads/resnet-training-gpu', size=2000000000, tag='latest', arch='amd64'), ImageProperties(name='faas-workloads/resnet-training-gpu', size=1000000000, tag='latest', arch='aarch64'), ImageProperties(name='faas-workloads/resnet-training-gpu', size=1000000000, tag='latest', arch='arm64')]\n",
      "INFO:sim.faassim:setting up benchmark\n",
      "INFO:root:faas-workloads/fio, latest, [ImageProperties(name='faas-workloads/fio', size=24000000, tag='latest', arch='amd64'), ImageProperties(name='faas-workloads/fio', size=24000000, tag='latest', arch='x86'), ImageProperties(name='faas-workloads/fio', size=20000000, tag='latest', arch='arm32v7'), ImageProperties(name='faas-workloads/fio', size=20000000, tag='latest', arch='arm32'), ImageProperties(name='faas-workloads/fio', size=20000000, tag='latest', arch='arm'), ImageProperties(name='faas-workloads/fio', size=23000000, tag='latest', arch='arm64'), ImageProperties(name='faas-workloads/fio', size=23000000, tag='latest', arch='aarch64')]\n",
      "INFO:root:faas-workloads/resnet-training-cpu, latest, [ImageProperties(name='faas-workloads/resnet-training-cpu', size=2000000000, tag='latest', arch='amd64'), ImageProperties(name='faas-workloads/resnet-training-cpu', size=2000000000, tag='latest', arch='x86')]\n",
      "INFO:root:faas-workloads/tf-gpu, latest, [ImageProperties(name='faas-workloads/tf-gpu', size=4100000000, tag='latest', arch='amd64'), ImageProperties(name='faas-workloads/tf-gpu', size=4100000000, tag='latest', arch='x86'), ImageProperties(name='faas-workloads/tf-gpu', size=2240000000, tag='latest', arch='arm64'), ImageProperties(name='faas-workloads/tf-gpu', size=2240000000, tag='latest', arch='aarch64')]\n",
      "INFO:root:faas-workloads/resnet-inference-cpu, latest, [ImageProperties(name='faas-workloads/resnet-inference-cpu', size=2000000000, tag='latest', arch='x86'), ImageProperties(name='faas-workloads/resnet-inference-cpu', size=2000000000, tag='latest', arch='amd64'), ImageProperties(name='faas-workloads/resnet-inference-cpu', size=700000000, tag='latest', arch='arm32v7'), ImageProperties(name='faas-workloads/resnet-inference-cpu', size=700000000, tag='latest', arch='arm32'), ImageProperties(name='faas-workloads/resnet-inference-cpu', size=700000000, tag='latest', arch='arm'), ImageProperties(name='faas-workloads/resnet-inference-cpu', size=840000000, tag='latest', arch='aarch64'), ImageProperties(name='faas-workloads/resnet-inference-cpu', size=840000000, tag='latest', arch='arm64')]\n",
      "INFO:root:faas-workloads/speech-inference-tflite, latest, [ImageProperties(name='faas-workloads/speech-inference-tflite', size=108000000, tag='latest', arch='amd64'), ImageProperties(name='faas-workloads/speech-inference-tflite', size=108000000, tag='latest', arch='x86'), ImageProperties(name='faas-workloads/speech-inference-tflite', size=328000000, tag='latest', arch='arm32v7'), ImageProperties(name='faas-workloads/speech-inference-tflite', size=328000000, tag='latest', arch='arm32'), ImageProperties(name='faas-workloads/speech-inference-tflite', size=328000000, tag='latest', arch='arm'), ImageProperties(name='faas-workloads/speech-inference-tflite', size=400000000, tag='latest', arch='arm64'), ImageProperties(name='faas-workloads/speech-inference-tflite', size=400000000, tag='latest', arch='aarch64')]\n",
      "INFO:root:faas-workloads/resnet-preprocessing, latest, [ImageProperties(name='faas-workloads/resnet-preprocessing', size=4100000000, tag='latest', arch='x86'), ImageProperties(name='faas-workloads/resnet-preprocessing', size=4100000000, tag='latest', arch='amd64'), ImageProperties(name='faas-workloads/resnet-preprocessing', size=1370000000, tag='latest', arch='arm32v7'), ImageProperties(name='faas-workloads/resnet-preprocessing', size=1370000000, tag='latest', arch='arm32'), ImageProperties(name='faas-workloads/resnet-preprocessing', size=1370000000, tag='latest', arch='arm'), ImageProperties(name='faas-workloads/resnet-preprocessing', size=1910000000, tag='latest', arch='arm64'), ImageProperties(name='faas-workloads/resnet-preprocessing', size=1910000000, tag='latest', arch='aarch64')]\n",
      "INFO:root:faas-workloads/resnet-inference-gpu, latest, [ImageProperties(name='faas-workloads/resnet-inference-gpu', size=2000000000, tag='latest', arch='x86'), ImageProperties(name='faas-workloads/resnet-inference-gpu', size=2000000000, tag='latest', arch='amd64'), ImageProperties(name='faas-workloads/resnet-inference-gpu', size=1000000000, tag='latest', arch='aarch64'), ImageProperties(name='faas-workloads/resnet-inference-gpu', size=1000000000, tag='latest', arch='arm64')]\n",
      "INFO:root:faas-workloads/speech-inference-gpu, latest, [ImageProperties(name='faas-workloads/speech-inference-gpu', size=1600000000, tag='latest', arch='amd64'), ImageProperties(name='faas-workloads/speech-inference-gpu', size=1600000000, tag='latest', arch='x86'), ImageProperties(name='faas-workloads/speech-inference-gpu', size=1300000000, tag='latest', arch='arm64'), ImageProperties(name='faas-workloads/speech-inference-gpu', size=1300000000, tag='latest', arch='aarch64')]\n",
      "INFO:sim.faassim:starting faas system\n",
      "INFO:root:faas-workloads/resnet-training-gpu, latest, [ImageProperties(name='faas-workloads/resnet-training-gpu', size=2000000000, tag='latest', arch='x86'), ImageProperties(name='faas-workloads/resnet-training-gpu', size=2000000000, tag='latest', arch='amd64'), ImageProperties(name='faas-workloads/resnet-training-gpu', size=1000000000, tag='latest', arch='aarch64'), ImageProperties(name='faas-workloads/resnet-training-gpu', size=1000000000, tag='latest', arch='arm64')]\n",
      "INFO:root:faas-workloads/mobilenet-inference-tflite, latest, [ImageProperties(name='faas-workloads/mobilenet-inference-tflite', size=180000000, tag='latest', arch='amd64'), ImageProperties(name='faas-workloads/mobilenet-inference-tflite', size=180000000, tag='latest', arch='x86'), ImageProperties(name='faas-workloads/mobilenet-inference-tflite', size=160000000, tag='latest', arch='arm32v7'), ImageProperties(name='faas-workloads/mobilenet-inference-tflite', size=160000000, tag='latest', arch='arm32'), ImageProperties(name='faas-workloads/mobilenet-inference-tflite', size=160000000, tag='latest', arch='arm'), ImageProperties(name='faas-workloads/mobilenet-inference-tflite', size=173000000, tag='latest', arch='arm64'), ImageProperties(name='faas-workloads/mobilenet-inference-tflite', size=173000000, tag='latest', arch='aarch64')]\n"
     ]
    },
    {
     "name": "stdout",
     "output_type": "stream",
     "text": [
      "alterted max replicas for resnet50-training is 20"
     ]
    },
    {
     "name": "stderr",
     "output_type": "stream",
     "text": [
      "INFO:root:faas-workloads/resnet-training-cpu, latest, [ImageProperties(name='faas-workloads/resnet-training-cpu', size=2000000000, tag='latest', arch='amd64'), ImageProperties(name='faas-workloads/resnet-training-cpu', size=2000000000, tag='latest', arch='x86')]\n",
      "INFO:sim.faassim:starting benchmark process\n"
     ]
    },
    {
     "name": "stdout",
     "output_type": "stream",
     "text": [
      "\n"
     ]
    },
    {
     "name": "stderr",
     "output_type": "stream",
     "text": [
      "INFO:root:faas-workloads/mobilenet-inference-tpu, latest, [ImageProperties(name='faas-workloads/mobilenet-inference-tpu', size=173000000, tag='latest', arch='arm64'), ImageProperties(name='faas-workloads/mobilenet-inference-tpu', size=173000000, tag='latest', arch='aarch64')]\n"
     ]
    },
    {
     "name": "stdout",
     "output_type": "stream",
     "text": [
      "function_factor was 1 and config.scale_max was 20"
     ]
    },
    {
     "name": "stderr",
     "output_type": "stream",
     "text": [
      "INFO:root:faas-workloads/speech-inference-tflite, latest, [ImageProperties(name='faas-workloads/speech-inference-tflite', size=108000000, tag='latest', arch='amd64'), ImageProperties(name='faas-workloads/speech-inference-tflite', size=108000000, tag='latest', arch='x86'), ImageProperties(name='faas-workloads/speech-inference-tflite', size=328000000, tag='latest', arch='arm32v7'), ImageProperties(name='faas-workloads/speech-inference-tflite', size=328000000, tag='latest', arch='arm32'), ImageProperties(name='faas-workloads/speech-inference-tflite', size=328000000, tag='latest', arch='arm'), ImageProperties(name='faas-workloads/speech-inference-tflite', size=400000000, tag='latest', arch='arm64'), ImageProperties(name='faas-workloads/speech-inference-tflite', size=400000000, tag='latest', arch='aarch64')]\n",
      "INFO:sim.faassim:executing simulation\n"
     ]
    },
    {
     "name": "stdout",
     "output_type": "stream",
     "text": [
      "\n"
     ]
    },
    {
     "name": "stderr",
     "output_type": "stream",
     "text": [
      "INFO:root:faas-workloads/python-pi, latest, [ImageProperties(name='faas-workloads/python-pi', size=88000000, tag='latest', arch='amd64'), ImageProperties(name='faas-workloads/python-pi', size=88000000, tag='latest', arch='x86'), ImageProperties(name='faas-workloads/python-pi', size=55000000, tag='latest', arch='arm32v7'), ImageProperties(name='faas-workloads/python-pi', size=55000000, tag='latest', arch='arm32'), ImageProperties(name='faas-workloads/python-pi', size=55000000, tag='latest', arch='arm'), ImageProperties(name='faas-workloads/python-pi', size=62000000, tag='latest', arch='arm64'), ImageProperties(name='faas-workloads/python-pi', size=62000000, tag='latest', arch='aarch64')]\n",
      "INFO:sim.faas.system:deploying function resnet50-inference with scale_min=1\n",
      "INFO:root:faas-workloads/speech-inference-gpu, latest, [ImageProperties(name='faas-workloads/speech-inference-gpu', size=1600000000, tag='latest', arch='amd64'), ImageProperties(name='faas-workloads/speech-inference-gpu', size=1600000000, tag='latest', arch='x86'), ImageProperties(name='faas-workloads/speech-inference-gpu', size=1300000000, tag='latest', arch='arm64'), ImageProperties(name='faas-workloads/speech-inference-gpu', size=1300000000, tag='latest', arch='aarch64')]\n"
     ]
    },
    {
     "name": "stdout",
     "output_type": "stream",
     "text": [
      "alterted max replicas for resnet50-inference is 81"
     ]
    },
    {
     "name": "stderr",
     "output_type": "stream",
     "text": [
      "INFO:sim.faas.system:deploying function mobilenet-inference with scale_min=1\n",
      "INFO:root:faas-workloads/mobilenet-inference-tflite, latest, [ImageProperties(name='faas-workloads/mobilenet-inference-tflite', size=180000000, tag='latest', arch='amd64'), ImageProperties(name='faas-workloads/mobilenet-inference-tflite', size=180000000, tag='latest', arch='x86'), ImageProperties(name='faas-workloads/mobilenet-inference-tflite', size=160000000, tag='latest', arch='arm32v7'), ImageProperties(name='faas-workloads/mobilenet-inference-tflite', size=160000000, tag='latest', arch='arm32'), ImageProperties(name='faas-workloads/mobilenet-inference-tflite', size=160000000, tag='latest', arch='arm'), ImageProperties(name='faas-workloads/mobilenet-inference-tflite', size=173000000, tag='latest', arch='arm64'), ImageProperties(name='faas-workloads/mobilenet-inference-tflite', size=173000000, tag='latest', arch='aarch64')]\n",
      "INFO:root:faas-workloads/fio, latest, [ImageProperties(name='faas-workloads/fio', size=24000000, tag='latest', arch='amd64'), ImageProperties(name='faas-workloads/fio', size=24000000, tag='latest', arch='x86'), ImageProperties(name='faas-workloads/fio', size=20000000, tag='latest', arch='arm32v7'), ImageProperties(name='faas-workloads/fio', size=20000000, tag='latest', arch='arm32'), ImageProperties(name='faas-workloads/fio', size=20000000, tag='latest', arch='arm'), ImageProperties(name='faas-workloads/fio', size=23000000, tag='latest', arch='arm64'), ImageProperties(name='faas-workloads/fio', size=23000000, tag='latest', arch='aarch64')]\n"
     ]
    },
    {
     "name": "stdout",
     "output_type": "stream",
     "text": [
      "\n",
      "alterted max replicas for mobilenet-inference is 81"
     ]
    },
    {
     "name": "stderr",
     "output_type": "stream",
     "text": [
      "INFO:root:faas-workloads/mobilenet-inference-tpu, latest, [ImageProperties(name='faas-workloads/mobilenet-inference-tpu', size=173000000, tag='latest', arch='arm64'), ImageProperties(name='faas-workloads/mobilenet-inference-tpu', size=173000000, tag='latest', arch='aarch64')]\n"
     ]
    },
    {
     "name": "stdout",
     "output_type": "stream",
     "text": [
      "function_factor was 1 and config.scale_max was 81\n"
     ]
    },
    {
     "name": "stderr",
     "output_type": "stream",
     "text": [
      "INFO:root:faas-workloads/tf-gpu, latest, [ImageProperties(name='faas-workloads/tf-gpu', size=4100000000, tag='latest', arch='amd64'), ImageProperties(name='faas-workloads/tf-gpu', size=4100000000, tag='latest', arch='x86'), ImageProperties(name='faas-workloads/tf-gpu', size=2240000000, tag='latest', arch='arm64'), ImageProperties(name='faas-workloads/tf-gpu', size=2240000000, tag='latest', arch='aarch64')]\n"
     ]
    },
    {
     "name": "stdout",
     "output_type": "stream",
     "text": [
      "\n"
     ]
    },
    {
     "name": "stderr",
     "output_type": "stream",
     "text": [
      "INFO:root:faas-workloads/python-pi, latest, [ImageProperties(name='faas-workloads/python-pi', size=88000000, tag='latest', arch='amd64'), ImageProperties(name='faas-workloads/python-pi', size=88000000, tag='latest', arch='x86'), ImageProperties(name='faas-workloads/python-pi', size=55000000, tag='latest', arch='arm32v7'), ImageProperties(name='faas-workloads/python-pi', size=55000000, tag='latest', arch='arm32'), ImageProperties(name='faas-workloads/python-pi', size=55000000, tag='latest', arch='arm'), ImageProperties(name='faas-workloads/python-pi', size=62000000, tag='latest', arch='arm64'), ImageProperties(name='faas-workloads/python-pi', size=62000000, tag='latest', arch='aarch64')]\n",
      "INFO:root:faas-workloads/resnet-preprocessing, latest, [ImageProperties(name='faas-workloads/resnet-preprocessing', size=4100000000, tag='latest', arch='x86'), ImageProperties(name='faas-workloads/resnet-preprocessing', size=4100000000, tag='latest', arch='amd64'), ImageProperties(name='faas-workloads/resnet-preprocessing', size=1370000000, tag='latest', arch='arm32v7'), ImageProperties(name='faas-workloads/resnet-preprocessing', size=1370000000, tag='latest', arch='arm32'), ImageProperties(name='faas-workloads/resnet-preprocessing', size=1370000000, tag='latest', arch='arm'), ImageProperties(name='faas-workloads/resnet-preprocessing', size=1910000000, tag='latest', arch='arm64'), ImageProperties(name='faas-workloads/resnet-preprocessing', size=1910000000, tag='latest', arch='aarch64')]\n"
     ]
    },
    {
     "name": "stdout",
     "output_type": "stream",
     "text": [
      "function_factor was 1 and config.scale_max was 81"
     ]
    },
    {
     "name": "stderr",
     "output_type": "stream",
     "text": [
      "INFO:root:faas-workloads/fio, latest, [ImageProperties(name='faas-workloads/fio', size=24000000, tag='latest', arch='amd64'), ImageProperties(name='faas-workloads/fio', size=24000000, tag='latest', arch='x86'), ImageProperties(name='faas-workloads/fio', size=20000000, tag='latest', arch='arm32v7'), ImageProperties(name='faas-workloads/fio', size=20000000, tag='latest', arch='arm32'), ImageProperties(name='faas-workloads/fio', size=20000000, tag='latest', arch='arm'), ImageProperties(name='faas-workloads/fio', size=23000000, tag='latest', arch='arm64'), ImageProperties(name='faas-workloads/fio', size=23000000, tag='latest', arch='aarch64')]\n"
     ]
    },
    {
     "name": "stdout",
     "output_type": "stream",
     "text": [
      "alterted max replicas for resnet50-inference is 81"
     ]
    },
    {
     "name": "stderr",
     "output_type": "stream",
     "text": [
      "INFO:sim.faassim:starting faas system\n"
     ]
    },
    {
     "name": "stdout",
     "output_type": "stream",
     "text": [
      "\n",
      "\n"
     ]
    },
    {
     "name": "stderr",
     "output_type": "stream",
     "text": [
      "INFO:root:faas-workloads/tf-gpu, latest, [ImageProperties(name='faas-workloads/tf-gpu', size=4100000000, tag='latest', arch='amd64'), ImageProperties(name='faas-workloads/tf-gpu', size=4100000000, tag='latest', arch='x86'), ImageProperties(name='faas-workloads/tf-gpu', size=2240000000, tag='latest', arch='arm64'), ImageProperties(name='faas-workloads/tf-gpu', size=2240000000, tag='latest', arch='aarch64')]\n",
      "INFO:sim.faassim:starting benchmark process\n"
     ]
    },
    {
     "name": "stdout",
     "output_type": "stream",
     "text": [
      "alterted max replicas for mobilenet-inference is 81function_factor was 1 and config.scale_max was 81"
     ]
    },
    {
     "name": "stderr",
     "output_type": "stream",
     "text": [
      "INFO:root:faas-workloads/resnet-preprocessing, latest, [ImageProperties(name='faas-workloads/resnet-preprocessing', size=4100000000, tag='latest', arch='x86'), ImageProperties(name='faas-workloads/resnet-preprocessing', size=4100000000, tag='latest', arch='amd64'), ImageProperties(name='faas-workloads/resnet-preprocessing', size=1370000000, tag='latest', arch='arm32v7'), ImageProperties(name='faas-workloads/resnet-preprocessing', size=1370000000, tag='latest', arch='arm32'), ImageProperties(name='faas-workloads/resnet-preprocessing', size=1370000000, tag='latest', arch='arm'), ImageProperties(name='faas-workloads/resnet-preprocessing', size=1910000000, tag='latest', arch='arm64'), ImageProperties(name='faas-workloads/resnet-preprocessing', size=1910000000, tag='latest', arch='aarch64')]\n",
      "INFO:sim.faassim:executing simulation\n"
     ]
    },
    {
     "name": "stdout",
     "output_type": "stream",
     "text": [
      "\n",
      "\n"
     ]
    },
    {
     "name": "stderr",
     "output_type": "stream",
     "text": [
      "INFO:sim.faassim:starting faas system\n",
      "INFO:sim.faas.system:deploying function resnet50-inference with scale_min=1\n",
      "INFO:sim.faas.system:deploying function resnet50-training with scale_min=1\n",
      "INFO:sim.faassim:starting benchmark process\n"
     ]
    },
    {
     "name": "stdout",
     "output_type": "stream",
     "text": [
      "alterted max replicas for resnet50-inference is 81function_factor was 1 and config.scale_max was 81alterted max replicas for resnet50-training is 20\n",
      "\n"
     ]
    },
    {
     "name": "stderr",
     "output_type": "stream",
     "text": [
      "INFO:sim.faassim:executing simulation\n"
     ]
    },
    {
     "name": "stdout",
     "output_type": "stream",
     "text": [
      "\n",
      "function_factor was 1 and config.scale_max was 20function_factor was 1 and config.scale_max was 81"
     ]
    },
    {
     "name": "stderr",
     "output_type": "stream",
     "text": [
      "INFO:sim.faas.system:deploying function speech-inference with scale_min=1\n",
      "INFO:sim.faas.system:deploying function resnet50-inference with scale_min=1\n"
     ]
    },
    {
     "name": "stdout",
     "output_type": "stream",
     "text": [
      "\n",
      "\n",
      "alterted max replicas for speech-inference is 81alterted max replicas for resnet50-inference is 81alterted max replicas for resnet50-inference is 81\n",
      "\n",
      "\n",
      "function_factor was 1 and config.scale_max was 81function_factor was 1 and config.scale_max was 81\n",
      "function_factor was 1 and config.scale_max was 81\n",
      "\n",
      "alterted max replicas for speech-inference is 81alterted max replicas for resnet50-inference is 81\n"
     ]
    },
    {
     "name": "stderr",
     "output_type": "stream",
     "text": [
      "INFO:sim.faas.system:deploying function resnet50-training with scale_min=1\n"
     ]
    },
    {
     "name": "stdout",
     "output_type": "stream",
     "text": [
      "\n",
      "function_factor was 1 and config.scale_max was 81alterted max replicas for resnet50-training is 20function_factor was 1 and config.scale_max was 81\n",
      "\n",
      "\n",
      "alterted max replicas for resnet50-training is 20function_factor was 1 and config.scale_max was 20\n"
     ]
    },
    {
     "name": "stderr",
     "output_type": "stream",
     "text": [
      "INFO:sim.faas.system:deploying function resnet50-training with scale_min=1\n",
      "INFO:sim.faas.system:deploying function resnet50-preprocessing with scale_min=1\n"
     ]
    },
    {
     "name": "stdout",
     "output_type": "stream",
     "text": [
      "function_factor was 1 and config.scale_max was 20\n",
      "alterted max replicas for resnet50-training is 20alterted max replicas for resnet50-preprocessing is 20\n",
      "\n",
      "\n",
      "function_factor was 1 and config.scale_max was 20function_factor was 1 and config.scale_max was 20"
     ]
    },
    {
     "name": "stderr",
     "output_type": "stream",
     "text": [
      "INFO:sim.faas.system:deploying function mobilenet-inference with scale_min=1\n"
     ]
    },
    {
     "name": "stdout",
     "output_type": "stream",
     "text": [
      "\n",
      "\n",
      "alterted max replicas for mobilenet-inference is 81\n",
      "function_factor was 1 and config.scale_max was 81"
     ]
    },
    {
     "name": "stderr",
     "output_type": "stream",
     "text": [
      "INFO:sim.faas.system:pod pod-resnet50-inference-1 was scheduled to nx_0\n"
     ]
    },
    {
     "name": "stdout",
     "output_type": "stream",
     "text": [
      "\n",
      "alterted max replicas for resnet50-training is 20\n",
      "alterted max replicas for mobilenet-inference is 81function_factor was 1 and config.scale_max was 20alterted max replicas for resnet50-training is 20\n",
      "\n",
      "\n"
     ]
    },
    {
     "name": "stderr",
     "output_type": "stream",
     "text": [
      "INFO:sim.faas.system:pod pod-resnet50-training-1 was scheduled to nano_6\n"
     ]
    },
    {
     "name": "stdout",
     "output_type": "stream",
     "text": [
      "function_factor was 1 and config.scale_max was 81"
     ]
    },
    {
     "name": "stderr",
     "output_type": "stream",
     "text": [
      "INFO:sim.faas.system:deploying function mobilenet-inference with scale_min=1\n"
     ]
    },
    {
     "name": "stdout",
     "output_type": "stream",
     "text": [
      "function_factor was 1 and config.scale_max was 20\n",
      "alterted max replicas for mobilenet-inference is 81"
     ]
    },
    {
     "name": "stderr",
     "output_type": "stream",
     "text": [
      "INFO:sim.faas.system:deploying function speech-inference with scale_min=1\n"
     ]
    },
    {
     "name": "stdout",
     "output_type": "stream",
     "text": [
      "\n",
      "\n",
      "alterted max replicas for speech-inference is 81"
     ]
    },
    {
     "name": "stderr",
     "output_type": "stream",
     "text": [
      "INFO:sim.faas.system:pod pod-mobilenet-inference-1 was scheduled to coral_1\n"
     ]
    },
    {
     "name": "stdout",
     "output_type": "stream",
     "text": [
      "function_factor was 1 and config.scale_max was 81\n"
     ]
    },
    {
     "name": "stderr",
     "output_type": "stream",
     "text": [
      "INFO:sim.faas.system:deploying function mobilenet-inference with scale_min=1\n"
     ]
    },
    {
     "name": "stdout",
     "output_type": "stream",
     "text": [
      "\n",
      "function_factor was 1 and config.scale_max was 81alterted max replicas for mobilenet-inference is 81alterted max replicas for mobilenet-inference is 81\n",
      "\n",
      "\n",
      "alterted max replicas for speech-inference is 81function_factor was 1 and config.scale_max was 81function_factor was 1 and config.scale_max was 81\n",
      "\n",
      "\n"
     ]
    },
    {
     "name": "stderr",
     "output_type": "stream",
     "text": [
      "INFO:sim.faas.system:deploying function speech-inference with scale_min=1\n"
     ]
    },
    {
     "name": "stdout",
     "output_type": "stream",
     "text": [
      "function_factor was 1 and config.scale_max was 81alterted max replicas for mobilenet-inference is 81alterted max replicas for speech-inference is 81\n"
     ]
    },
    {
     "name": "stderr",
     "output_type": "stream",
     "text": [
      "INFO:sim.faas.system:pod pod-speech-inference-1 was scheduled to rockpi_5\n"
     ]
    },
    {
     "name": "stdout",
     "output_type": "stream",
     "text": [
      "\n"
     ]
    },
    {
     "name": "stderr",
     "output_type": "stream",
     "text": [
      "INFO:sim.faas.system:deploying function resnet50-preprocessing with scale_min=1\n"
     ]
    },
    {
     "name": "stdout",
     "output_type": "stream",
     "text": [
      "alterted max replicas for resnet50-preprocessing is 20function_factor was 1 and config.scale_max was 81\n",
      "\n",
      "function_factor was 1 and config.scale_max was 81\n",
      "function_factor was 1 and config.scale_max was 20\n",
      "alterted max replicas for speech-inference is 81\n"
     ]
    },
    {
     "name": "stderr",
     "output_type": "stream",
     "text": [
      "INFO:sim.faas.system:deploying function speech-inference with scale_min=1\n"
     ]
    },
    {
     "name": "stdout",
     "output_type": "stream",
     "text": [
      "\n",
      "alterted max replicas for speech-inference is 81function_factor was 1 and config.scale_max was 81"
     ]
    },
    {
     "name": "stderr",
     "output_type": "stream",
     "text": [
      "INFO:sim.faas.system:pod pod-resnet50-inference-1 was scheduled to nx_0\n"
     ]
    },
    {
     "name": "stdout",
     "output_type": "stream",
     "text": [
      "\n",
      "\n",
      "function_factor was 1 and config.scale_max was 81"
     ]
    },
    {
     "name": "stderr",
     "output_type": "stream",
     "text": [
      "INFO:sim.faas.system:pod pod-resnet50-preprocessing-1 was scheduled to rockpi_5\n",
      "INFO:sim.faas.system:deploying function resnet50-preprocessing with scale_min=1\n"
     ]
    },
    {
     "name": "stdout",
     "output_type": "stream",
     "text": [
      "\n",
      "alterted max replicas for resnet50-preprocessing is 20alterted max replicas for speech-inference is 81\n",
      "alterted max replicas for mobilenet-inference is 81\n",
      "function_factor was 1 and config.scale_max was 20"
     ]
    },
    {
     "name": "stderr",
     "output_type": "stream",
     "text": [
      "INFO:sim.faas.system:pod pod-resnet50-training-1 was scheduled to nano_6\n"
     ]
    },
    {
     "name": "stdout",
     "output_type": "stream",
     "text": [
      "\n",
      "\n",
      "function_factor was 1 and config.scale_max was 81function_factor was 1 and config.scale_max was 81"
     ]
    },
    {
     "name": "stderr",
     "output_type": "stream",
     "text": [
      "INFO:sim.faas.system:pod pod-resnet50-inference-1 was scheduled to nx_0\n"
     ]
    },
    {
     "name": "stdout",
     "output_type": "stream",
     "text": [
      "\n",
      "\n"
     ]
    },
    {
     "name": "stderr",
     "output_type": "stream",
     "text": [
      "INFO:sim.faas.system:pod pod-mobilenet-inference-1 was scheduled to coral_1\n"
     ]
    },
    {
     "name": "stdout",
     "output_type": "stream",
     "text": [
      "alterted max replicas for speech-inference is 81"
     ]
    },
    {
     "name": "stderr",
     "output_type": "stream",
     "text": [
      "INFO:sim.faas.system:deploying function resnet50-preprocessing with scale_min=1\n"
     ]
    },
    {
     "name": "stdout",
     "output_type": "stream",
     "text": [
      "\n",
      "alterted max replicas for resnet50-preprocessing is 20function_factor was 1 and config.scale_max was 81\n",
      "\n",
      "function_factor was 1 and config.scale_max was 20\n"
     ]
    },
    {
     "name": "stderr",
     "output_type": "stream",
     "text": [
      "INFO:sim.faas.system:pod pod-resnet50-training-1 was scheduled to nano_6\n",
      "INFO:sim.faas.system:pod pod-resnet50-inference-1 was scheduled to nx_0\n",
      "INFO:sim.faas.system:pod pod-speech-inference-1 was scheduled to rockpi_5\n",
      "INFO:sim.faas.system:pod pod-mobilenet-inference-1 was scheduled to coral_1\n"
     ]
    },
    {
     "name": "stdout",
     "output_type": "stream",
     "text": [
      "alterted max replicas for mobilenet-inference is 81\n",
      "function_factor was 1 and config.scale_max was 81"
     ]
    },
    {
     "name": "stderr",
     "output_type": "stream",
     "text": [
      "INFO:sim.faas.system:pod pod-resnet50-training-1 was scheduled to nano_6\n"
     ]
    },
    {
     "name": "stdout",
     "output_type": "stream",
     "text": [
      "\n",
      "alterted max replicas for speech-inference is 81"
     ]
    },
    {
     "name": "stderr",
     "output_type": "stream",
     "text": [
      "INFO:sim.faas.system:pod pod-mobilenet-inference-1 was scheduled to coral_1\n"
     ]
    },
    {
     "name": "stdout",
     "output_type": "stream",
     "text": [
      "\n",
      "function_factor was 1 and config.scale_max was 81"
     ]
    },
    {
     "name": "stderr",
     "output_type": "stream",
     "text": [
      "INFO:sim.faas.system:pod pod-resnet50-preprocessing-1 was scheduled to rockpi_5\n"
     ]
    },
    {
     "name": "stdout",
     "output_type": "stream",
     "text": [
      "\n"
     ]
    },
    {
     "name": "stderr",
     "output_type": "stream",
     "text": [
      "INFO:sim.faas.system:pod pod-mobilenet-inference-2 was scheduled to coral_2\n",
      "INFO:sim.faas.system:pod pod-speech-inference-1 was scheduled to rockpi_5\n"
     ]
    },
    {
     "name": "stdout",
     "output_type": "stream",
     "text": [
      "alterted max replicas for mobilenet-inference is 81\n",
      "function_factor was 1 and config.scale_max was 81\n"
     ]
    },
    {
     "name": "stderr",
     "output_type": "stream",
     "text": [
      "INFO:sim.faas.system:pod pod-speech-inference-1 was scheduled to rockpi_5\n",
      "INFO:sim.faas.system:pod pod-speech-inference-2 was scheduled to rpi4_0\n"
     ]
    },
    {
     "name": "stdout",
     "output_type": "stream",
     "text": [
      "alterted max replicas for speech-inference is 81\n",
      "function_factor was 1 and config.scale_max was 81"
     ]
    },
    {
     "name": "stderr",
     "output_type": "stream",
     "text": [
      "INFO:sim.faas.system:pod pod-resnet50-preprocessing-1 was scheduled to rockpi_5\n",
      "INFO:sim.faas.system:pod pod-mobilenet-inference-3 was scheduled to coral_0\n"
     ]
    },
    {
     "name": "stdout",
     "output_type": "stream",
     "text": [
      "\n",
      "alterted max replicas for mobilenet-inference is 81\n"
     ]
    },
    {
     "name": "stderr",
     "output_type": "stream",
     "text": [
      "INFO:sim.faas.system:pod pod-resnet50-preprocessing-1 was scheduled to rockpi_5\n"
     ]
    },
    {
     "name": "stdout",
     "output_type": "stream",
     "text": [
      "function_factor was 1 and config.scale_max was 81\n",
      "alterted max replicas for speech-inference is 81alterted max replicas for mobilenet-inference is 81\n",
      "alterted max replicas for mobilenet-inference is 81\n",
      "function_factor was 1 and config.scale_max was 81function_factor was 1 and config.scale_max was 81\n",
      "\n",
      "function_factor was 1 and config.scale_max was 81\n"
     ]
    },
    {
     "name": "stderr",
     "output_type": "stream",
     "text": [
      "INFO:sim.faas.system:pod pod-speech-inference-3 was scheduled to rpi4_1\n"
     ]
    },
    {
     "name": "stdout",
     "output_type": "stream",
     "text": [
      "\n",
      "alterted max replicas for speech-inference is 81alterted max replicas for speech-inference is 81\n",
      "function_factor was 1 and config.scale_max was 81\n",
      "\n",
      "function_factor was 1 and config.scale_max was 81alterted max replicas for mobilenet-inference is 81\n"
     ]
    },
    {
     "name": "stderr",
     "output_type": "stream",
     "text": [
      "WARNING:sim.faas.system:retry scheduling pod pod-mobilenet-inference-4\n"
     ]
    },
    {
     "name": "stdout",
     "output_type": "stream",
     "text": [
      "function_factor was 1 and config.scale_max was 81\n",
      "\n",
      "alterted max replicas for mobilenet-inference is 81alterted max replicas for speech-inference is 81"
     ]
    },
    {
     "name": "stderr",
     "output_type": "stream",
     "text": [
      "INFO:sim.faas.system:pod pod-mobilenet-inference-2 was scheduled to coral_2\n"
     ]
    },
    {
     "name": "stdout",
     "output_type": "stream",
     "text": [
      "\n",
      "\n",
      "function_factor was 1 and config.scale_max was 81function_factor was 1 and config.scale_max was 81"
     ]
    },
    {
     "name": "stderr",
     "output_type": "stream",
     "text": [
      "INFO:sim.faas.system:pod pod-speech-inference-4 was scheduled to rockpi_1\n"
     ]
    },
    {
     "name": "stdout",
     "output_type": "stream",
     "text": [
      "\n",
      "\n",
      "alterted max replicas for speech-inference is 81"
     ]
    },
    {
     "name": "stderr",
     "output_type": "stream",
     "text": [
      "INFO:sim.faas.system:pod pod-mobilenet-inference-2 was scheduled to coral_2\n"
     ]
    },
    {
     "name": "stdout",
     "output_type": "stream",
     "text": [
      "\n",
      "function_factor was 1 and config.scale_max was 81"
     ]
    },
    {
     "name": "stderr",
     "output_type": "stream",
     "text": [
      "WARNING:sim.faas.system:retry scheduling pod pod-mobilenet-inference-5\n",
      "INFO:sim.faas.system:pod pod-speech-inference-2 was scheduled to rpi4_0\n"
     ]
    },
    {
     "name": "stdout",
     "output_type": "stream",
     "text": [
      "\n"
     ]
    },
    {
     "name": "stderr",
     "output_type": "stream",
     "text": [
      "INFO:sim.faas.system:pod pod-mobilenet-inference-2 was scheduled to coral_2\n",
      "INFO:sim.faas.system:pod pod-mobilenet-inference-3 was scheduled to coral_0\n",
      "INFO:sim.faas.system:pod pod-speech-inference-2 was scheduled to rpi4_0\n",
      "INFO:sim.faas.system:pod pod-speech-inference-5 was scheduled to rockpi_1\n",
      "INFO:sim.faas.system:pod pod-mobilenet-inference-3 was scheduled to coral_0\n",
      "WARNING:sim.faas.system:retry scheduling pod pod-mobilenet-inference-6\n",
      "INFO:sim.faas.system:pod pod-speech-inference-2 was scheduled to rpi4_0\n",
      "INFO:sim.faas.system:pod pod-speech-inference-3 was scheduled to rpi4_1\n",
      "INFO:sim.faas.system:pod pod-speech-inference-6 was scheduled to nx_0\n",
      "INFO:sim.faas.system:pod pod-mobilenet-inference-3 was scheduled to coral_0\n",
      "WARNING:sim.faas.system:retry scheduling pod pod-mobilenet-inference-4\n",
      "INFO:sim.faas.system:pod pod-speech-inference-3 was scheduled to rpi4_1\n",
      "WARNING:sim.faas.system:retry scheduling pod pod-mobilenet-inference-7\n",
      "WARNING:sim.faas.system:retry scheduling pod pod-mobilenet-inference-4\n",
      "INFO:sim.faas.system:pod pod-speech-inference-3 was scheduled to rpi4_1\n",
      "INFO:sim.faas.system:pod pod-speech-inference-4 was scheduled to rockpi_1\n",
      "WARNING:sim.faas.system:retry scheduling pod pod-mobilenet-inference-4\n",
      "INFO:sim.faas.system:pod pod-speech-inference-7 was scheduled to nx_1\n",
      "INFO:sim.faas.system:pod pod-speech-inference-4 was scheduled to rockpi_1\n",
      "WARNING:sim.faas.system:retry scheduling pod pod-mobilenet-inference-8\n",
      "WARNING:sim.faas.system:retry scheduling pod pod-mobilenet-inference-5\n",
      "WARNING:sim.faas.system:retry scheduling pod pod-mobilenet-inference-5\n",
      "INFO:sim.faas.system:pod pod-speech-inference-4 was scheduled to rockpi_1\n",
      "WARNING:sim.faas.system:retry scheduling pod pod-mobilenet-inference-5\n",
      "INFO:sim.faas.system:pod pod-speech-inference-8 was scheduled to nx_1\n",
      "INFO:sim.faas.system:pod pod-speech-inference-5 was scheduled to rockpi_1\n",
      "INFO:sim.faas.system:pod pod-speech-inference-5 was scheduled to rockpi_1\n",
      "WARNING:sim.faas.system:retry scheduling pod pod-mobilenet-inference-9\n",
      "WARNING:sim.faas.system:retry scheduling pod pod-mobilenet-inference-6\n",
      "WARNING:sim.faas.system:retry scheduling pod pod-mobilenet-inference-6\n",
      "INFO:sim.faas.system:pod pod-speech-inference-5 was scheduled to rockpi_1\n",
      "INFO:sim.faas.system:pod pod-speech-inference-9 was scheduled to rpi4_2\n",
      "WARNING:sim.faas.system:retry scheduling pod pod-mobilenet-inference-6\n",
      "INFO:sim.faas.system:pod pod-speech-inference-6 was scheduled to nx_0\n",
      "WARNING:sim.faas.system:retry scheduling pod pod-mobilenet-inference-10\n",
      "INFO:sim.faas.system:pod pod-speech-inference-6 was scheduled to nx_0\n",
      "WARNING:sim.faas.system:retry scheduling pod pod-mobilenet-inference-7\n",
      "WARNING:sim.faas.system:retry scheduling pod pod-mobilenet-inference-7\n",
      "INFO:sim.faas.system:pod pod-speech-inference-6 was scheduled to nx_0\n",
      "INFO:sim.faas.system:pod pod-speech-inference-10 was scheduled to rpi4_3\n",
      "WARNING:sim.faas.system:retry scheduling pod pod-mobilenet-inference-7\n",
      "INFO:sim.faas.system:pod pod-speech-inference-7 was scheduled to nx_1\n",
      "INFO:sim.faas.system:pod pod-speech-inference-7 was scheduled to nx_1\n",
      "WARNING:sim.faas.system:retry scheduling pod pod-mobilenet-inference-11\n",
      "WARNING:sim.faas.system:retry scheduling pod pod-mobilenet-inference-8\n",
      "WARNING:sim.faas.system:retry scheduling pod pod-mobilenet-inference-8\n",
      "INFO:sim.faas.system:pod pod-speech-inference-7 was scheduled to nx_1\n",
      "INFO:sim.faas.system:pod pod-speech-inference-11 was scheduled to rockpi_2\n",
      "WARNING:sim.faas.system:retry scheduling pod pod-mobilenet-inference-8\n",
      "INFO:sim.faas.system:pod pod-speech-inference-8 was scheduled to nx_1\n",
      "WARNING:sim.faas.system:retry scheduling pod pod-mobilenet-inference-12\n",
      "INFO:sim.faas.system:pod pod-speech-inference-8 was scheduled to nx_1\n",
      "WARNING:sim.faas.system:retry scheduling pod pod-mobilenet-inference-9\n",
      "WARNING:sim.faas.system:retry scheduling pod pod-mobilenet-inference-9\n",
      "INFO:sim.faas.system:pod pod-speech-inference-8 was scheduled to nx_1\n",
      "WARNING:sim.faas.system:retry scheduling pod pod-mobilenet-inference-9\n",
      "INFO:sim.faas.system:pod pod-speech-inference-12 was scheduled to rockpi_2\n",
      "INFO:sim.faas.system:pod pod-speech-inference-9 was scheduled to rpi4_2\n",
      "INFO:sim.faas.system:pod pod-speech-inference-9 was scheduled to rpi4_2\n",
      "WARNING:sim.faas.system:retry scheduling pod pod-mobilenet-inference-13\n",
      "WARNING:sim.faas.system:retry scheduling pod pod-mobilenet-inference-10\n",
      "INFO:sim.faas.system:pod pod-speech-inference-9 was scheduled to rpi4_2\n",
      "WARNING:sim.faas.system:retry scheduling pod pod-mobilenet-inference-10\n",
      "INFO:sim.faas.system:pod pod-speech-inference-13 was scheduled to rockpi_0\n",
      "WARNING:sim.faas.system:retry scheduling pod pod-mobilenet-inference-10\n",
      "INFO:sim.faas.system:pod pod-speech-inference-10 was scheduled to rpi4_3\n",
      "WARNING:sim.faas.system:retry scheduling pod pod-mobilenet-inference-14\n",
      "INFO:sim.faas.system:pod pod-speech-inference-10 was scheduled to rpi4_3\n",
      "WARNING:sim.faas.system:retry scheduling pod pod-mobilenet-inference-11\n",
      "INFO:sim.faas.system:pod pod-speech-inference-14 was scheduled to rockpi_0\n",
      "INFO:sim.faas.system:pod pod-speech-inference-10 was scheduled to rpi4_3\n",
      "WARNING:sim.faas.system:retry scheduling pod pod-mobilenet-inference-11\n",
      "WARNING:sim.faas.system:retry scheduling pod pod-mobilenet-inference-15\n",
      "WARNING:sim.faas.system:retry scheduling pod pod-mobilenet-inference-11\n",
      "INFO:sim.faas.system:pod pod-speech-inference-11 was scheduled to rockpi_2\n",
      "WARNING:sim.faas.system:retry scheduling pod pod-mobilenet-inference-12\n",
      "INFO:sim.faas.system:pod pod-speech-inference-11 was scheduled to rockpi_2\n",
      "INFO:sim.faas.system:pod pod-speech-inference-11 was scheduled to rockpi_2\n",
      "INFO:sim.faas.system:pod pod-speech-inference-15 was scheduled to nx_3\n",
      "WARNING:sim.faas.system:retry scheduling pod pod-mobilenet-inference-12\n",
      "WARNING:sim.faas.system:retry scheduling pod pod-mobilenet-inference-12\n",
      "INFO:sim.faas.system:pod pod-speech-inference-12 was scheduled to rockpi_2\n",
      "WARNING:sim.faas.system:retry scheduling pod pod-mobilenet-inference-16\n",
      "WARNING:sim.faas.system:retry scheduling pod pod-mobilenet-inference-13\n",
      "INFO:sim.faas.system:pod pod-speech-inference-12 was scheduled to rockpi_2\n",
      "INFO:sim.faas.system:pod pod-speech-inference-12 was scheduled to rockpi_2\n",
      "INFO:sim.faas.system:pod pod-speech-inference-16 was scheduled to nx_3\n",
      "WARNING:sim.faas.system:retry scheduling pod pod-mobilenet-inference-13\n",
      "WARNING:sim.faas.system:retry scheduling pod pod-mobilenet-inference-13\n",
      "WARNING:sim.faas.system:retry scheduling pod pod-mobilenet-inference-17\n",
      "INFO:sim.faas.system:pod pod-speech-inference-13 was scheduled to rockpi_0\n",
      "INFO:sim.faas.system:pod pod-speech-inference-13 was scheduled to rockpi_0\n",
      "WARNING:sim.faas.system:retry scheduling pod pod-mobilenet-inference-14\n",
      "INFO:sim.faas.system:pod pod-speech-inference-13 was scheduled to rockpi_0\n",
      "WARNING:sim.faas.system:retry scheduling pod pod-mobilenet-inference-14\n",
      "INFO:sim.faas.system:pod pod-speech-inference-17 was scheduled to rockpi_3\n",
      "WARNING:sim.faas.system:retry scheduling pod pod-mobilenet-inference-14\n",
      "INFO:sim.faas.system:pod pod-speech-inference-14 was scheduled to rockpi_0\n",
      "WARNING:sim.faas.system:retry scheduling pod pod-mobilenet-inference-18\n",
      "WARNING:sim.faas.system:retry scheduling pod pod-mobilenet-inference-15\n",
      "INFO:sim.faas.system:pod pod-speech-inference-14 was scheduled to rockpi_0\n",
      "INFO:sim.faas.system:pod pod-speech-inference-14 was scheduled to rockpi_0\n",
      "WARNING:sim.faas.system:retry scheduling pod pod-mobilenet-inference-15\n",
      "WARNING:sim.faas.system:retry scheduling pod pod-mobilenet-inference-15\n",
      "INFO:sim.faas.system:pod pod-speech-inference-18 was scheduled to rockpi_3\n",
      "INFO:sim.faas.system:pod pod-speech-inference-15 was scheduled to nx_3\n",
      "WARNING:sim.faas.system:retry scheduling pod pod-mobilenet-inference-19\n",
      "WARNING:sim.faas.system:retry scheduling pod pod-mobilenet-inference-16\n",
      "INFO:sim.faas.system:pod pod-speech-inference-15 was scheduled to nx_3\n",
      "INFO:sim.faas.system:pod pod-speech-inference-15 was scheduled to nx_3\n",
      "WARNING:sim.faas.system:retry scheduling pod pod-mobilenet-inference-16\n",
      "WARNING:sim.faas.system:retry scheduling pod pod-mobilenet-inference-16\n",
      "INFO:sim.faas.system:pod pod-speech-inference-19 was scheduled to rockpi_4\n",
      "INFO:sim.faas.system:pod pod-speech-inference-16 was scheduled to nx_3\n"
     ]
    },
    {
     "name": "stderr",
     "output_type": "stream",
     "text": [
      "WARNING:sim.faas.system:retry scheduling pod pod-mobilenet-inference-17\n",
      "WARNING:sim.faas.system:retry scheduling pod pod-mobilenet-inference-20\n",
      "INFO:sim.faas.system:pod pod-speech-inference-16 was scheduled to nx_3\n",
      "INFO:sim.faas.system:pod pod-speech-inference-16 was scheduled to nx_3\n",
      "WARNING:sim.faas.system:retry scheduling pod pod-mobilenet-inference-17\n",
      "WARNING:sim.faas.system:retry scheduling pod pod-mobilenet-inference-17\n",
      "INFO:sim.faas.system:pod pod-speech-inference-17 was scheduled to rockpi_3\n",
      "INFO:sim.faas.system:pod pod-speech-inference-20 was scheduled to rockpi_4\n",
      "WARNING:sim.faas.system:retry scheduling pod pod-mobilenet-inference-18\n",
      "INFO:sim.faas.system:pod pod-speech-inference-17 was scheduled to rockpi_3\n",
      "WARNING:sim.faas.system:retry scheduling pod pod-mobilenet-inference-21\n",
      "INFO:sim.faas.system:pod pod-speech-inference-17 was scheduled to rockpi_3\n",
      "WARNING:sim.faas.system:retry scheduling pod pod-mobilenet-inference-18\n",
      "INFO:sim.faas.system:pod pod-speech-inference-18 was scheduled to rockpi_3\n",
      "WARNING:sim.faas.system:retry scheduling pod pod-mobilenet-inference-18\n",
      "WARNING:sim.faas.system:retry scheduling pod pod-mobilenet-inference-19\n",
      "INFO:sim.faas.system:pod pod-speech-inference-21 was scheduled to rpi3_0\n",
      "INFO:sim.faas.system:pod pod-speech-inference-18 was scheduled to rockpi_3\n",
      "WARNING:sim.faas.system:retry scheduling pod pod-mobilenet-inference-22\n",
      "WARNING:sim.faas.system:retry scheduling pod pod-mobilenet-inference-19\n",
      "INFO:sim.faas.system:pod pod-speech-inference-18 was scheduled to rockpi_3\n",
      "INFO:sim.faas.system:pod pod-speech-inference-19 was scheduled to rockpi_4\n",
      "WARNING:sim.faas.system:retry scheduling pod pod-mobilenet-inference-19\n",
      "WARNING:sim.faas.system:retry scheduling pod pod-mobilenet-inference-20\n",
      "INFO:sim.faas.system:pod pod-speech-inference-19 was scheduled to rockpi_4\n",
      "WARNING:sim.faas.system:retry scheduling pod pod-mobilenet-inference-20\n",
      "INFO:sim.faas.system:pod pod-speech-inference-19 was scheduled to rockpi_4\n",
      "INFO:sim.faas.system:pod pod-speech-inference-22 was scheduled to rpi3_1\n",
      "INFO:sim.faas.system:pod pod-speech-inference-20 was scheduled to rockpi_4\n",
      "WARNING:sim.faas.system:retry scheduling pod pod-mobilenet-inference-23\n",
      "WARNING:sim.faas.system:retry scheduling pod pod-mobilenet-inference-20\n",
      "WARNING:sim.faas.system:retry scheduling pod pod-mobilenet-inference-21\n",
      "INFO:sim.faas.system:pod pod-speech-inference-20 was scheduled to rockpi_4\n",
      "WARNING:sim.faas.system:retry scheduling pod pod-mobilenet-inference-21\n",
      "INFO:sim.faas.system:pod pod-speech-inference-23 was scheduled to rpi3_2\n",
      "INFO:sim.faas.system:pod pod-speech-inference-20 was scheduled to rockpi_4\n",
      "INFO:sim.faas.system:pod pod-speech-inference-21 was scheduled to rpi3_0\n",
      "WARNING:sim.faas.system:retry scheduling pod pod-mobilenet-inference-21\n",
      "WARNING:sim.faas.system:retry scheduling pod pod-mobilenet-inference-24\n",
      "INFO:sim.faas.system:pod pod-speech-inference-21 was scheduled to rpi3_0\n",
      "WARNING:sim.faas.system:retry scheduling pod pod-mobilenet-inference-22\n",
      "WARNING:sim.faas.system:retry scheduling pod pod-mobilenet-inference-22\n",
      "INFO:sim.faas.system:pod pod-speech-inference-21 was scheduled to rpi3_0\n",
      "INFO:sim.faas.system:pod pod-speech-inference-24 was scheduled to nx_2\n",
      "INFO:sim.faas.system:pod pod-speech-inference-22 was scheduled to rpi3_1\n",
      "WARNING:sim.faas.system:retry scheduling pod pod-mobilenet-inference-25\n",
      "WARNING:sim.faas.system:retry scheduling pod pod-mobilenet-inference-22\n",
      "INFO:sim.faas.system:pod pod-speech-inference-22 was scheduled to rpi3_1\n",
      "WARNING:sim.faas.system:retry scheduling pod pod-mobilenet-inference-23\n",
      "WARNING:sim.faas.system:retry scheduling pod pod-mobilenet-inference-23\n",
      "INFO:sim.faas.system:pod pod-speech-inference-22 was scheduled to rpi3_1\n",
      "INFO:sim.faas.system:pod pod-speech-inference-25 was scheduled to nx_2\n",
      "INFO:sim.faas.system:pod pod-speech-inference-23 was scheduled to rpi3_2\n",
      "INFO:sim.faas.system:pod pod-speech-inference-23 was scheduled to rpi3_2\n",
      "WARNING:sim.faas.system:retry scheduling pod pod-mobilenet-inference-23\n",
      "WARNING:sim.faas.system:retry scheduling pod pod-mobilenet-inference-26\n",
      "WARNING:sim.faas.system:retry scheduling pod pod-mobilenet-inference-24\n",
      "WARNING:sim.faas.system:retry scheduling pod pod-mobilenet-inference-24\n",
      "INFO:sim.faas.system:pod pod-speech-inference-23 was scheduled to rpi3_2\n",
      "INFO:sim.faas.system:pod pod-speech-inference-24 was scheduled to nx_2\n",
      "WARNING:sim.faas.system:retry scheduling pod pod-mobilenet-inference-24\n",
      "INFO:sim.faas.system:pod pod-speech-inference-24 was scheduled to nx_2\n",
      "INFO:sim.faas.system:pod pod-speech-inference-26 was scheduled to rpi4_4\n",
      "WARNING:sim.faas.system:retry scheduling pod pod-mobilenet-inference-25\n",
      "WARNING:sim.faas.system:retry scheduling pod pod-mobilenet-inference-25\n",
      "WARNING:sim.faas.system:retry scheduling pod pod-mobilenet-inference-27\n",
      "INFO:sim.faas.system:pod pod-speech-inference-24 was scheduled to nx_2\n",
      "INFO:sim.faas.system:pod pod-speech-inference-25 was scheduled to nx_2\n",
      "WARNING:sim.faas.system:retry scheduling pod pod-mobilenet-inference-25\n",
      "INFO:sim.faas.system:pod pod-speech-inference-25 was scheduled to nx_2\n",
      "WARNING:sim.faas.system:retry scheduling pod pod-mobilenet-inference-26\n",
      "WARNING:sim.faas.system:retry scheduling pod pod-mobilenet-inference-26\n",
      "INFO:sim.faas.system:pod pod-speech-inference-27 was scheduled to rpi4_5\n",
      "INFO:sim.faas.system:pod pod-speech-inference-25 was scheduled to nx_2\n",
      "WARNING:sim.faas.system:retry scheduling pod pod-mobilenet-inference-28\n",
      "INFO:sim.faas.system:pod pod-speech-inference-26 was scheduled to rpi4_4\n",
      "WARNING:sim.faas.system:retry scheduling pod pod-mobilenet-inference-26\n",
      "INFO:sim.faas.system:pod pod-speech-inference-26 was scheduled to rpi4_4\n",
      "WARNING:sim.faas.system:retry scheduling pod pod-mobilenet-inference-27\n",
      "INFO:sim.faas.system:pod pod-speech-inference-28 was scheduled to rpi3_3\n",
      "WARNING:sim.faas.system:retry scheduling pod pod-mobilenet-inference-27\n",
      "WARNING:sim.faas.system:retry scheduling pod pod-mobilenet-inference-29\n",
      "INFO:sim.faas.system:pod pod-speech-inference-26 was scheduled to rpi4_4\n",
      "INFO:sim.faas.system:pod pod-speech-inference-27 was scheduled to rpi4_5\n",
      "INFO:sim.faas.system:pod pod-speech-inference-27 was scheduled to rpi4_5\n",
      "WARNING:sim.faas.system:retry scheduling pod pod-mobilenet-inference-28\n",
      "WARNING:sim.faas.system:retry scheduling pod pod-mobilenet-inference-28\n",
      "WARNING:sim.faas.system:retry scheduling pod pod-mobilenet-inference-27\n",
      "INFO:sim.faas.system:pod pod-speech-inference-29 was scheduled to rpi3_4\n",
      "WARNING:sim.faas.system:retry scheduling pod pod-mobilenet-inference-30\n",
      "INFO:sim.faas.system:pod pod-speech-inference-28 was scheduled to rpi3_3\n",
      "WARNING:sim.faas.system:retry scheduling pod pod-mobilenet-inference-29\n",
      "INFO:sim.faas.system:pod pod-speech-inference-28 was scheduled to rpi3_3\n",
      "INFO:sim.faas.system:pod pod-speech-inference-27 was scheduled to rpi4_5\n",
      "INFO:sim.faas.system:pod pod-speech-inference-30 was scheduled to rpi3_5\n",
      "WARNING:sim.faas.system:retry scheduling pod pod-mobilenet-inference-29\n",
      "WARNING:sim.faas.system:retry scheduling pod pod-mobilenet-inference-28\n",
      "INFO:sim.faas.system:pod pod-speech-inference-29 was scheduled to rpi3_4\n",
      "WARNING:sim.faas.system:retry scheduling pod pod-mobilenet-inference-31\n",
      "INFO:sim.faas.system:pod pod-speech-inference-29 was scheduled to rpi3_4\n",
      "INFO:sim.faas.system:pod pod-speech-inference-28 was scheduled to rpi3_3\n",
      "WARNING:sim.faas.system:retry scheduling pod pod-mobilenet-inference-30\n",
      "WARNING:sim.faas.system:retry scheduling pod pod-mobilenet-inference-29\n",
      "INFO:sim.faas.system:pod pod-speech-inference-31 was scheduled to rpi3_6\n",
      "WARNING:sim.faas.system:retry scheduling pod pod-mobilenet-inference-30\n",
      "WARNING:sim.faas.system:retry scheduling pod pod-mobilenet-inference-32\n",
      "INFO:sim.faas.system:pod pod-speech-inference-30 was scheduled to rpi3_5\n",
      "INFO:sim.faas.system:pod pod-speech-inference-29 was scheduled to rpi3_4\n",
      "WARNING:sim.faas.system:retry scheduling pod pod-mobilenet-inference-31\n",
      "INFO:sim.faas.system:pod pod-speech-inference-32 was scheduled to rpi3_7\n",
      "INFO:sim.faas.system:pod pod-speech-inference-30 was scheduled to rpi3_5\n",
      "WARNING:sim.faas.system:retry scheduling pod pod-mobilenet-inference-30\n",
      "WARNING:sim.faas.system:retry scheduling pod pod-mobilenet-inference-31\n"
     ]
    },
    {
     "name": "stderr",
     "output_type": "stream",
     "text": [
      "WARNING:sim.faas.system:retry scheduling pod pod-mobilenet-inference-33\n",
      "INFO:sim.faas.system:pod pod-speech-inference-31 was scheduled to rpi3_6\n",
      "INFO:sim.faas.system:pod pod-speech-inference-30 was scheduled to rpi3_5\n",
      "WARNING:sim.faas.system:retry scheduling pod pod-mobilenet-inference-32\n",
      "WARNING:sim.faas.system:retry scheduling pod pod-mobilenet-inference-31\n",
      "INFO:sim.faas.system:pod pod-speech-inference-33 was scheduled to rpi3_8\n",
      "INFO:sim.faas.system:pod pod-speech-inference-31 was scheduled to rpi3_6\n",
      "WARNING:sim.faas.system:retry scheduling pod pod-mobilenet-inference-34\n",
      "INFO:sim.faas.system:pod pod-speech-inference-32 was scheduled to rpi3_7\n",
      "INFO:sim.faas.system:pod pod-speech-inference-31 was scheduled to rpi3_6\n",
      "WARNING:sim.faas.system:retry scheduling pod pod-mobilenet-inference-32\n",
      "WARNING:sim.faas.system:retry scheduling pod pod-mobilenet-inference-32\n",
      "WARNING:sim.faas.system:retry scheduling pod pod-mobilenet-inference-33\n",
      "INFO:sim.faas.system:pod pod-speech-inference-34 was scheduled to rockpi_5\n",
      "INFO:sim.faas.system:pod pod-speech-inference-32 was scheduled to rpi3_7\n",
      "WARNING:sim.faas.system:retry scheduling pod pod-mobilenet-inference-35\n",
      "INFO:sim.faas.system:pod pod-speech-inference-33 was scheduled to rpi3_8\n",
      "INFO:sim.faas.system:pod pod-speech-inference-32 was scheduled to rpi3_7\n",
      "WARNING:sim.faas.system:retry scheduling pod pod-mobilenet-inference-33\n",
      "WARNING:sim.faas.system:retry scheduling pod pod-mobilenet-inference-36\n",
      "WARNING:sim.faas.system:retry scheduling pod pod-mobilenet-inference-33\n",
      "WARNING:sim.faas.system:retry scheduling pod pod-mobilenet-inference-34\n",
      "WARNING:sim.faas.system:retry scheduling pod pod-mobilenet-inference-37\n",
      "WARNING:sim.faas.system:retry scheduling pod pod-mobilenet-inference-38\n",
      "INFO:sim.faas.system:pod pod-speech-inference-33 was scheduled to rpi3_8\n",
      "WARNING:sim.faas.system:retry scheduling pod pod-mobilenet-inference-39\n",
      "INFO:sim.faas.system:pod pod-speech-inference-34 was scheduled to rockpi_5\n",
      "INFO:sim.faas.system:pod pod-speech-inference-33 was scheduled to rpi3_8\n",
      "WARNING:sim.faas.system:retry scheduling pod pod-mobilenet-inference-34\n",
      "WARNING:sim.faas.system:retry scheduling pod pod-mobilenet-inference-40\n",
      "WARNING:sim.faas.system:retry scheduling pod pod-mobilenet-inference-35\n",
      "WARNING:sim.faas.system:retry scheduling pod pod-mobilenet-inference-34\n",
      "WARNING:sim.faas.system:retry scheduling pod pod-mobilenet-inference-41\n",
      "WARNING:sim.faas.system:retry scheduling pod pod-mobilenet-inference-36\n",
      "WARNING:sim.faas.system:retry scheduling pod pod-mobilenet-inference-37\n",
      "WARNING:sim.faas.system:retry scheduling pod pod-mobilenet-inference-42\n",
      "INFO:sim.faas.system:pod pod-speech-inference-34 was scheduled to rockpi_5\n",
      "WARNING:sim.faas.system:retry scheduling pod pod-mobilenet-inference-38\n",
      "WARNING:sim.faas.system:retry scheduling pod pod-mobilenet-inference-43\n",
      "INFO:sim.faas.system:pod pod-speech-inference-34 was scheduled to rockpi_5\n",
      "WARNING:sim.faas.system:retry scheduling pod pod-mobilenet-inference-35\n",
      "WARNING:sim.faas.system:retry scheduling pod pod-mobilenet-inference-39\n",
      "WARNING:sim.faas.system:retry scheduling pod pod-mobilenet-inference-44\n",
      "WARNING:sim.faas.system:retry scheduling pod pod-mobilenet-inference-36\n",
      "WARNING:sim.faas.system:retry scheduling pod pod-mobilenet-inference-35\n",
      "WARNING:sim.faas.system:retry scheduling pod pod-mobilenet-inference-40\n",
      "WARNING:sim.faas.system:retry scheduling pod pod-mobilenet-inference-45\n",
      "WARNING:sim.faas.system:retry scheduling pod pod-mobilenet-inference-37\n",
      "WARNING:sim.faas.system:retry scheduling pod pod-mobilenet-inference-36\n",
      "WARNING:sim.faas.system:retry scheduling pod pod-mobilenet-inference-38\n",
      "WARNING:sim.faas.system:retry scheduling pod pod-mobilenet-inference-46\n",
      "WARNING:sim.faas.system:retry scheduling pod pod-mobilenet-inference-41\n",
      "WARNING:sim.faas.system:retry scheduling pod pod-mobilenet-inference-47\n",
      "WARNING:sim.faas.system:retry scheduling pod pod-mobilenet-inference-39\n",
      "WARNING:sim.faas.system:retry scheduling pod pod-mobilenet-inference-42\n",
      "WARNING:sim.faas.system:retry scheduling pod pod-mobilenet-inference-37\n",
      "WARNING:sim.faas.system:retry scheduling pod pod-mobilenet-inference-40\n",
      "WARNING:sim.faas.system:retry scheduling pod pod-mobilenet-inference-48\n",
      "WARNING:sim.faas.system:retry scheduling pod pod-mobilenet-inference-43\n",
      "WARNING:sim.faas.system:retry scheduling pod pod-mobilenet-inference-38\n",
      "WARNING:sim.faas.system:retry scheduling pod pod-mobilenet-inference-41\n",
      "WARNING:sim.faas.system:retry scheduling pod pod-mobilenet-inference-44\n",
      "WARNING:sim.faas.system:retry scheduling pod pod-mobilenet-inference-49\n",
      "WARNING:sim.faas.system:retry scheduling pod pod-mobilenet-inference-39\n",
      "WARNING:sim.faas.system:retry scheduling pod pod-mobilenet-inference-42\n",
      "WARNING:sim.faas.system:retry scheduling pod pod-mobilenet-inference-50\n",
      "WARNING:sim.faas.system:retry scheduling pod pod-mobilenet-inference-45\n",
      "WARNING:sim.faas.system:retry scheduling pod pod-mobilenet-inference-40\n",
      "WARNING:sim.faas.system:retry scheduling pod pod-mobilenet-inference-43\n",
      "WARNING:sim.faas.system:retry scheduling pod pod-mobilenet-inference-51\n",
      "WARNING:sim.faas.system:retry scheduling pod pod-mobilenet-inference-46\n",
      "WARNING:sim.faas.system:retry scheduling pod pod-mobilenet-inference-41\n",
      "WARNING:sim.faas.system:retry scheduling pod pod-mobilenet-inference-44\n",
      "WARNING:sim.faas.system:retry scheduling pod pod-mobilenet-inference-52\n",
      "WARNING:sim.faas.system:retry scheduling pod pod-mobilenet-inference-47\n",
      "WARNING:sim.faas.system:retry scheduling pod pod-mobilenet-inference-42\n",
      "WARNING:sim.faas.system:retry scheduling pod pod-mobilenet-inference-45\n",
      "WARNING:sim.faas.system:retry scheduling pod pod-mobilenet-inference-53\n",
      "WARNING:sim.faas.system:retry scheduling pod pod-mobilenet-inference-43\n",
      "WARNING:sim.faas.system:retry scheduling pod pod-mobilenet-inference-48\n",
      "WARNING:sim.faas.system:retry scheduling pod pod-mobilenet-inference-44\n",
      "WARNING:sim.faas.system:retry scheduling pod pod-mobilenet-inference-54\n",
      "WARNING:sim.faas.system:retry scheduling pod pod-mobilenet-inference-49\n",
      "WARNING:sim.faas.system:retry scheduling pod pod-mobilenet-inference-46\n",
      "WARNING:sim.faas.system:retry scheduling pod pod-mobilenet-inference-55\n",
      "WARNING:sim.faas.system:retry scheduling pod pod-mobilenet-inference-50\n",
      "WARNING:sim.faas.system:retry scheduling pod pod-mobilenet-inference-45\n",
      "WARNING:sim.faas.system:retry scheduling pod pod-mobilenet-inference-47\n",
      "WARNING:sim.faas.system:retry scheduling pod pod-mobilenet-inference-56\n",
      "WARNING:sim.faas.system:retry scheduling pod pod-mobilenet-inference-51\n",
      "WARNING:sim.faas.system:retry scheduling pod pod-mobilenet-inference-46\n",
      "WARNING:sim.faas.system:retry scheduling pod pod-mobilenet-inference-48\n",
      "WARNING:sim.faas.system:retry scheduling pod pod-mobilenet-inference-57\n",
      "WARNING:sim.faas.system:retry scheduling pod pod-mobilenet-inference-52\n",
      "WARNING:sim.faas.system:retry scheduling pod pod-mobilenet-inference-47\n",
      "WARNING:sim.faas.system:retry scheduling pod pod-mobilenet-inference-49\n",
      "WARNING:sim.faas.system:retry scheduling pod pod-mobilenet-inference-58\n",
      "WARNING:sim.faas.system:retry scheduling pod pod-mobilenet-inference-53\n",
      "WARNING:sim.faas.system:retry scheduling pod pod-mobilenet-inference-50\n",
      "WARNING:sim.faas.system:retry scheduling pod pod-mobilenet-inference-48\n",
      "WARNING:sim.faas.system:retry scheduling pod pod-mobilenet-inference-59\n",
      "WARNING:sim.faas.system:retry scheduling pod pod-mobilenet-inference-51\n",
      "WARNING:sim.faas.system:retry scheduling pod pod-mobilenet-inference-49\n",
      "WARNING:sim.faas.system:retry scheduling pod pod-mobilenet-inference-54\n",
      "WARNING:sim.faas.system:retry scheduling pod pod-mobilenet-inference-60\n",
      "WARNING:sim.faas.system:retry scheduling pod pod-mobilenet-inference-50\n",
      "WARNING:sim.faas.system:retry scheduling pod pod-mobilenet-inference-55\n",
      "WARNING:sim.faas.system:retry scheduling pod pod-mobilenet-inference-52\n",
      "WARNING:sim.faas.system:retry scheduling pod pod-mobilenet-inference-61\n",
      "WARNING:sim.faas.system:retry scheduling pod pod-mobilenet-inference-56\n",
      "WARNING:sim.faas.system:retry scheduling pod pod-mobilenet-inference-53\n",
      "WARNING:sim.faas.system:retry scheduling pod pod-mobilenet-inference-62\n",
      "WARNING:sim.faas.system:retry scheduling pod pod-mobilenet-inference-51\n",
      "WARNING:sim.faas.system:retry scheduling pod pod-mobilenet-inference-57\n"
     ]
    },
    {
     "name": "stderr",
     "output_type": "stream",
     "text": [
      "WARNING:sim.faas.system:retry scheduling pod pod-mobilenet-inference-54\n",
      "WARNING:sim.faas.system:retry scheduling pod pod-mobilenet-inference-63\n",
      "WARNING:sim.faas.system:retry scheduling pod pod-mobilenet-inference-52\n",
      "WARNING:sim.faas.system:retry scheduling pod pod-mobilenet-inference-55\n",
      "WARNING:sim.faas.system:retry scheduling pod pod-mobilenet-inference-58\n",
      "WARNING:sim.faas.system:retry scheduling pod pod-mobilenet-inference-64\n",
      "WARNING:sim.faas.system:retry scheduling pod pod-mobilenet-inference-53\n",
      "WARNING:sim.faas.system:retry scheduling pod pod-mobilenet-inference-59\n",
      "WARNING:sim.faas.system:retry scheduling pod pod-mobilenet-inference-65\n",
      "WARNING:sim.faas.system:retry scheduling pod pod-mobilenet-inference-56\n",
      "WARNING:sim.faas.system:retry scheduling pod pod-mobilenet-inference-54\n",
      "WARNING:sim.faas.system:retry scheduling pod pod-mobilenet-inference-60\n",
      "WARNING:sim.faas.system:retry scheduling pod pod-mobilenet-inference-55\n",
      "WARNING:sim.faas.system:retry scheduling pod pod-mobilenet-inference-57\n",
      "WARNING:sim.faas.system:retry scheduling pod pod-mobilenet-inference-61\n",
      "WARNING:sim.faas.system:retry scheduling pod pod-mobilenet-inference-56\n",
      "WARNING:sim.faas.system:retry scheduling pod pod-mobilenet-inference-58\n",
      "WARNING:sim.faas.system:retry scheduling pod pod-mobilenet-inference-57\n",
      "WARNING:sim.faas.system:retry scheduling pod pod-mobilenet-inference-62\n",
      "WARNING:sim.faas.system:retry scheduling pod pod-mobilenet-inference-59\n",
      "INFO:sim.faas.system:pod pod-mobilenet-inference-66 was scheduled to nano_5\n",
      "WARNING:sim.faas.system:retry scheduling pod pod-mobilenet-inference-58\n",
      "WARNING:sim.faas.system:retry scheduling pod pod-mobilenet-inference-63\n",
      "WARNING:sim.faas.system:retry scheduling pod pod-mobilenet-inference-60\n",
      "WARNING:sim.faas.system:retry scheduling pod pod-mobilenet-inference-59\n",
      "WARNING:sim.faas.system:retry scheduling pod pod-mobilenet-inference-61\n",
      "WARNING:sim.faas.system:retry scheduling pod pod-mobilenet-inference-64\n",
      "WARNING:sim.faas.system:retry scheduling pod pod-mobilenet-inference-62\n",
      "WARNING:sim.faas.system:retry scheduling pod pod-mobilenet-inference-65\n",
      "INFO:sim.faas.system:pod pod-mobilenet-inference-67 was scheduled to nano_13\n",
      "WARNING:sim.faas.system:retry scheduling pod pod-mobilenet-inference-60\n",
      "WARNING:sim.faas.system:retry scheduling pod pod-mobilenet-inference-63\n",
      "WARNING:sim.faas.system:retry scheduling pod pod-mobilenet-inference-61\n",
      "WARNING:sim.faas.system:retry scheduling pod pod-mobilenet-inference-64\n",
      "WARNING:sim.faas.system:retry scheduling pod pod-mobilenet-inference-62\n",
      "WARNING:sim.faas.system:retry scheduling pod pod-mobilenet-inference-65\n",
      "INFO:sim.faas.system:pod pod-mobilenet-inference-68 was scheduled to rpi4_0\n",
      "WARNING:sim.faas.system:retry scheduling pod pod-mobilenet-inference-63\n",
      "INFO:sim.faas.system:pod pod-mobilenet-inference-66 was scheduled to nano_5\n",
      "WARNING:sim.faas.system:retry scheduling pod pod-mobilenet-inference-64\n",
      "WARNING:sim.faas.system:retry scheduling pod pod-mobilenet-inference-65\n",
      "INFO:sim.faas.system:pod pod-mobilenet-inference-66 was scheduled to nano_5\n",
      "INFO:sim.faas.system:pod pod-mobilenet-inference-67 was scheduled to nano_13\n",
      "INFO:sim.faas.system:pod pod-mobilenet-inference-69 was scheduled to rpi4_1\n",
      "INFO:sim.faas.system:pod pod-mobilenet-inference-70 was scheduled to nano_0\n",
      "INFO:sim.faas.system:pod pod-mobilenet-inference-68 was scheduled to rpi4_0\n",
      "INFO:sim.faas.system:pod pod-mobilenet-inference-67 was scheduled to nano_13\n",
      "INFO:sim.faas.system:pod pod-mobilenet-inference-66 was scheduled to nano_5\n",
      "INFO:sim.faas.system:pod pod-mobilenet-inference-69 was scheduled to rpi4_1\n",
      "INFO:sim.faas.system:pod pod-mobilenet-inference-68 was scheduled to rpi4_0\n",
      "INFO:sim.faas.system:pod pod-mobilenet-inference-71 was scheduled to nano_15\n",
      "INFO:sim.faas.system:pod pod-mobilenet-inference-67 was scheduled to nano_13\n",
      "INFO:sim.faas.system:pod pod-mobilenet-inference-70 was scheduled to nano_0\n",
      "INFO:sim.faas.system:pod pod-mobilenet-inference-69 was scheduled to rpi4_1\n",
      "INFO:sim.faas.system:pod pod-mobilenet-inference-72 was scheduled to xeoncpu_0\n",
      "INFO:sim.faas.system:pod pod-mobilenet-inference-68 was scheduled to rpi4_0\n",
      "INFO:sim.faas.system:pod pod-mobilenet-inference-71 was scheduled to nano_15\n",
      "INFO:sim.faas.system:pod pod-mobilenet-inference-70 was scheduled to nano_0\n",
      "INFO:sim.faas.system:pod pod-mobilenet-inference-69 was scheduled to rpi4_1\n",
      "INFO:sim.faas.system:pod pod-mobilenet-inference-73 was scheduled to xeoncpu_1\n",
      "INFO:sim.faas.system:pod pod-mobilenet-inference-72 was scheduled to xeoncpu_0\n",
      "INFO:sim.faas.system:pod pod-mobilenet-inference-71 was scheduled to nano_15\n",
      "INFO:sim.faas.system:pod pod-mobilenet-inference-70 was scheduled to nano_0\n",
      "INFO:sim.faas.system:pod pod-mobilenet-inference-73 was scheduled to xeoncpu_1\n",
      "INFO:sim.faas.system:pod pod-mobilenet-inference-74 was scheduled to xeoncpu_2\n",
      "INFO:sim.faas.system:pod pod-mobilenet-inference-72 was scheduled to xeoncpu_0\n",
      "INFO:sim.faas.system:pod pod-mobilenet-inference-71 was scheduled to nano_15\n",
      "INFO:sim.faas.system:pod pod-mobilenet-inference-74 was scheduled to xeoncpu_2\n",
      "INFO:sim.faas.system:pod pod-mobilenet-inference-73 was scheduled to xeoncpu_1\n",
      "INFO:sim.faas.system:pod pod-mobilenet-inference-75 was scheduled to xeoncpu_3\n",
      "INFO:sim.faas.system:pod pod-mobilenet-inference-75 was scheduled to xeoncpu_3\n",
      "INFO:sim.faas.system:pod pod-mobilenet-inference-72 was scheduled to xeoncpu_0\n",
      "INFO:sim.faas.system:pod pod-mobilenet-inference-74 was scheduled to xeoncpu_2\n",
      "INFO:sim.faas.system:pod pod-mobilenet-inference-76 was scheduled to xeoncpu_4\n",
      "INFO:sim.faas.system:pod pod-mobilenet-inference-75 was scheduled to xeoncpu_3\n",
      "INFO:sim.faas.system:pod pod-mobilenet-inference-76 was scheduled to xeoncpu_4\n",
      "INFO:sim.faas.system:pod pod-mobilenet-inference-73 was scheduled to xeoncpu_1\n",
      "INFO:sim.faas.system:pod pod-mobilenet-inference-77 was scheduled to xeoncpu_5\n",
      "INFO:sim.faas.system:pod pod-mobilenet-inference-77 was scheduled to xeoncpu_5\n",
      "INFO:sim.faas.system:pod pod-mobilenet-inference-76 was scheduled to xeoncpu_4\n",
      "INFO:sim.faas.system:pod pod-mobilenet-inference-74 was scheduled to xeoncpu_2\n",
      "INFO:sim.faas.system:pod pod-mobilenet-inference-78 was scheduled to xeoncpu_6\n",
      "INFO:sim.faas.system:pod pod-mobilenet-inference-75 was scheduled to xeoncpu_3\n",
      "INFO:sim.faas.system:pod pod-mobilenet-inference-77 was scheduled to xeoncpu_5\n",
      "INFO:sim.faas.system:pod pod-mobilenet-inference-78 was scheduled to xeoncpu_6\n",
      "INFO:sim.faas.system:pod pod-mobilenet-inference-78 was scheduled to xeoncpu_6\n",
      "INFO:sim.faas.system:pod pod-mobilenet-inference-79 was scheduled to xeoncpu_7\n",
      "INFO:sim.faas.system:pod pod-mobilenet-inference-79 was scheduled to xeoncpu_7\n",
      "INFO:sim.faas.system:pod pod-mobilenet-inference-76 was scheduled to xeoncpu_4\n",
      "INFO:sim.faas.system:pod pod-mobilenet-inference-79 was scheduled to xeoncpu_7\n",
      "INFO:sim.faas.system:pod pod-mobilenet-inference-80 was scheduled to xeoncpu_8\n",
      "INFO:sim.faas.system:pod pod-mobilenet-inference-80 was scheduled to xeoncpu_8\n",
      "INFO:sim.faas.system:pod pod-mobilenet-inference-77 was scheduled to xeoncpu_5\n",
      "INFO:sim.faas.system:pod pod-mobilenet-inference-80 was scheduled to xeoncpu_8\n",
      "INFO:sim.faas.system:pod pod-mobilenet-inference-81 was scheduled to xeoncpu_9\n",
      "INFO:sim.faas.system:pod pod-mobilenet-inference-81 was scheduled to xeoncpu_9\n",
      "INFO:sim.faas.system:pod pod-mobilenet-inference-81 was scheduled to xeoncpu_9\n",
      "INFO:sim.faas.system:pod pod-mobilenet-inference-78 was scheduled to xeoncpu_6\n",
      "INFO:sim.faas.system:pod pod-mobilenet-inference-82 was scheduled to xeoncpu_10\n",
      "INFO:sim.faas.system:pod pod-mobilenet-inference-82 was scheduled to xeoncpu_10\n",
      "INFO:sim.faas.system:pod pod-mobilenet-inference-79 was scheduled to xeoncpu_7\n",
      "INFO:sim.faas.system:pod pod-mobilenet-inference-83 was scheduled to xeoncpu_11\n",
      "INFO:sim.faas.system:pod pod-mobilenet-inference-82 was scheduled to xeoncpu_10\n",
      "INFO:sim.faas.system:pod pod-mobilenet-inference-83 was scheduled to xeoncpu_11\n",
      "INFO:sim.faas.system:pod pod-mobilenet-inference-80 was scheduled to xeoncpu_8\n",
      "INFO:sim.faas.system:pod pod-mobilenet-inference-83 was scheduled to xeoncpu_11\n",
      "INFO:sim.faas.system:pod pod-mobilenet-inference-84 was scheduled to xeoncpu_12\n",
      "INFO:sim.faas.system:pod pod-mobilenet-inference-84 was scheduled to xeoncpu_12\n"
     ]
    },
    {
     "name": "stderr",
     "output_type": "stream",
     "text": [
      "INFO:sim.faas.system:pod pod-mobilenet-inference-84 was scheduled to xeoncpu_12\n",
      "INFO:sim.faas.system:pod pod-mobilenet-inference-81 was scheduled to xeoncpu_9\n",
      "INFO:sim.faas.system:pod pod-mobilenet-inference-85 was scheduled to xeoncpu_13\n",
      "INFO:sim.faas.system:pod pod-mobilenet-inference-85 was scheduled to xeoncpu_13\n",
      "INFO:sim.faas.system:pod pod-mobilenet-inference-85 was scheduled to xeoncpu_13\n",
      "INFO:sim.faas.system:pod pod-mobilenet-inference-82 was scheduled to xeoncpu_10\n",
      "INFO:sim.faas.system:pod pod-mobilenet-inference-86 was scheduled to xeoncpu_14\n",
      "INFO:sim.faas.system:pod pod-mobilenet-inference-86 was scheduled to xeoncpu_14\n",
      "INFO:sim.faas.system:pod pod-mobilenet-inference-86 was scheduled to xeoncpu_14\n",
      "INFO:sim.faas.system:pod pod-mobilenet-inference-83 was scheduled to xeoncpu_11\n",
      "INFO:sim.faas.system:pod pod-mobilenet-inference-87 was scheduled to xeoncpu_15\n",
      "INFO:sim.faas.system:pod pod-mobilenet-inference-87 was scheduled to xeoncpu_15\n",
      "INFO:sim.faas.system:pod pod-mobilenet-inference-84 was scheduled to xeoncpu_12\n",
      "INFO:sim.faas.system:pod pod-mobilenet-inference-87 was scheduled to xeoncpu_15\n",
      "INFO:sim.faas.system:pod pod-mobilenet-inference-88 was scheduled to xeoncpu_16\n",
      "INFO:sim.faas.system:pod pod-mobilenet-inference-88 was scheduled to xeoncpu_16\n",
      "INFO:sim.faas.system:pod pod-mobilenet-inference-88 was scheduled to xeoncpu_16\n",
      "INFO:sim.faas.system:pod pod-mobilenet-inference-85 was scheduled to xeoncpu_13\n",
      "INFO:sim.faas.system:pod pod-mobilenet-inference-89 was scheduled to xeoncpu_17\n",
      "INFO:sim.faas.system:pod pod-mobilenet-inference-89 was scheduled to xeoncpu_17\n",
      "INFO:sim.faas.system:pod pod-mobilenet-inference-89 was scheduled to xeoncpu_17\n",
      "INFO:sim.faas.system:pod pod-mobilenet-inference-86 was scheduled to xeoncpu_14\n",
      "INFO:sim.faas.system:pod pod-mobilenet-inference-90 was scheduled to xeoncpu_18\n",
      "INFO:sim.faas.system:pod pod-mobilenet-inference-87 was scheduled to xeoncpu_15\n",
      "INFO:sim.faas.system:pod pod-mobilenet-inference-90 was scheduled to xeoncpu_18\n",
      "INFO:sim.faas.system:pod pod-mobilenet-inference-90 was scheduled to xeoncpu_18\n",
      "INFO:sim.faas.system:pod pod-mobilenet-inference-88 was scheduled to xeoncpu_16\n",
      "INFO:sim.faas.system:pod pod-mobilenet-inference-91 was scheduled to xeoncpu_19\n",
      "INFO:sim.faas.system:pod pod-mobilenet-inference-91 was scheduled to xeoncpu_19\n",
      "INFO:sim.faas.system:pod pod-mobilenet-inference-91 was scheduled to xeoncpu_19\n",
      "INFO:sim.faas.system:pod pod-mobilenet-inference-89 was scheduled to xeoncpu_17\n",
      "INFO:sim.faas.system:pod pod-mobilenet-inference-92 was scheduled to xeoncpu_20\n",
      "INFO:sim.faas.system:pod pod-mobilenet-inference-92 was scheduled to xeoncpu_20\n",
      "INFO:sim.faas.system:pod pod-mobilenet-inference-90 was scheduled to xeoncpu_18\n",
      "INFO:sim.faas.system:pod pod-mobilenet-inference-92 was scheduled to xeoncpu_20\n",
      "INFO:sim.faas.system:pod pod-mobilenet-inference-93 was scheduled to xeoncpu_21\n",
      "INFO:sim.faas.system:pod pod-mobilenet-inference-93 was scheduled to xeoncpu_21\n",
      "INFO:sim.faas.system:pod pod-mobilenet-inference-93 was scheduled to xeoncpu_21\n",
      "INFO:sim.faas.system:pod pod-mobilenet-inference-91 was scheduled to xeoncpu_19\n",
      "INFO:sim.faas.system:pod pod-mobilenet-inference-94 was scheduled to xeoncpu_22\n",
      "INFO:sim.faas.system:pod pod-mobilenet-inference-94 was scheduled to xeoncpu_22\n",
      "INFO:sim.faas.system:pod pod-mobilenet-inference-94 was scheduled to xeoncpu_22\n",
      "INFO:sim.faas.system:pod pod-mobilenet-inference-92 was scheduled to xeoncpu_20\n",
      "INFO:sim.faas.system:pod pod-mobilenet-inference-95 was scheduled to xeoncpu_23\n",
      "INFO:sim.faas.system:pod pod-mobilenet-inference-95 was scheduled to xeoncpu_23\n",
      "INFO:sim.faas.system:pod pod-mobilenet-inference-93 was scheduled to xeoncpu_21\n",
      "INFO:sim.faas.system:pod pod-mobilenet-inference-96 was scheduled to xeoncpu_24\n",
      "INFO:sim.faas.system:pod pod-mobilenet-inference-95 was scheduled to xeoncpu_23\n",
      "INFO:sim.faas.system:pod pod-mobilenet-inference-94 was scheduled to xeoncpu_22\n",
      "INFO:sim.faas.system:pod pod-mobilenet-inference-96 was scheduled to xeoncpu_24\n"
     ]
    },
    {
     "name": "stdout",
     "output_type": "stream",
     "text": [
      "alterted max replicas for mobilenet-inference is 81\n",
      "function_factor was 1 and config.scale_max was 81\n"
     ]
    },
    {
     "name": "stderr",
     "output_type": "stream",
     "text": [
      "INFO:sim.faas.system:pod pod-mobilenet-inference-95 was scheduled to xeoncpu_23\n"
     ]
    },
    {
     "name": "stdout",
     "output_type": "stream",
     "text": [
      "alterted max replicas for speech-inference is 81\n",
      "function_factor was 1 and config.scale_max was 81\n"
     ]
    },
    {
     "name": "stderr",
     "output_type": "stream",
     "text": [
      "INFO:sim.faas.system:pod pod-mobilenet-inference-96 was scheduled to xeoncpu_24\n"
     ]
    },
    {
     "name": "stdout",
     "output_type": "stream",
     "text": [
      "alterted max replicas for mobilenet-inference is 81\n",
      "function_factor was 1 and config.scale_max was 81\n",
      "alterted max replicas for speech-inference is 81\n",
      "function_factor was 1 and config.scale_max was 81\n"
     ]
    },
    {
     "name": "stderr",
     "output_type": "stream",
     "text": [
      "INFO:sim.faas.system:pod pod-mobilenet-inference-96 was scheduled to xeoncpu_24\n"
     ]
    },
    {
     "name": "stdout",
     "output_type": "stream",
     "text": [
      "alterted max replicas for mobilenet-inference is 81\n",
      "function_factor was 1 and config.scale_max was 81alterted max replicas for mobilenet-inference is 81\n",
      "\n",
      "function_factor was 1 and config.scale_max was 81alterted max replicas for speech-inference is 81\n",
      "\n",
      "alterted max replicas for speech-inference is 81function_factor was 1 and config.scale_max was 81alterted max replicas for speech-inference is 81\n",
      "\n",
      "function_factor was 1 and config.scale_max was 81\n",
      "function_factor was 1 and config.scale_max was 81\n",
      "\n",
      "alterted max replicas for mobilenet-inference is 81alterted max replicas for speech-inference is 81\n",
      "\n",
      "function_factor was 1 and config.scale_max was 81alterted max replicas for speech-inference is 81\n",
      "function_factor was 1 and config.scale_max was 81\n",
      "\n"
     ]
    },
    {
     "name": "stderr",
     "output_type": "stream",
     "text": [
      "WARNING:sim.faas.system:retry scheduling pod pod-mobilenet-inference-97\n"
     ]
    },
    {
     "name": "stdout",
     "output_type": "stream",
     "text": [
      "function_factor was 1 and config.scale_max was 81\n",
      "alterted max replicas for mobilenet-inference is 81\n",
      "function_factor was 1 and config.scale_max was 81alterted max replicas for mobilenet-inference is 81\n",
      "\n",
      "function_factor was 1 and config.scale_max was 81"
     ]
    },
    {
     "name": "stderr",
     "output_type": "stream",
     "text": [
      "WARNING:sim.faas.system:retry scheduling pod pod-mobilenet-inference-97\n",
      "INFO:sim.faas.system:pod pod-speech-inference-35 was scheduled to xeoncpu_25\n"
     ]
    },
    {
     "name": "stdout",
     "output_type": "stream",
     "text": [
      "\n"
     ]
    },
    {
     "name": "stderr",
     "output_type": "stream",
     "text": [
      "WARNING:sim.faas.system:retry scheduling pod pod-mobilenet-inference-97\n",
      "WARNING:sim.faas.system:retry scheduling pod pod-mobilenet-inference-98\n"
     ]
    },
    {
     "name": "stdout",
     "output_type": "stream",
     "text": [
      "alterted max replicas for speech-inference is 81"
     ]
    },
    {
     "name": "stderr",
     "output_type": "stream",
     "text": [
      "INFO:sim.faas.system:pod pod-speech-inference-35 was scheduled to xeoncpu_25\n"
     ]
    },
    {
     "name": "stdout",
     "output_type": "stream",
     "text": [
      "\n",
      "function_factor was 1 and config.scale_max was 81"
     ]
    },
    {
     "name": "stderr",
     "output_type": "stream",
     "text": [
      "WARNING:sim.faas.system:retry scheduling pod pod-mobilenet-inference-98\n"
     ]
    },
    {
     "name": "stdout",
     "output_type": "stream",
     "text": [
      "\n"
     ]
    },
    {
     "name": "stderr",
     "output_type": "stream",
     "text": [
      "INFO:sim.faas.system:pod pod-speech-inference-35 was scheduled to xeoncpu_25\n",
      "INFO:sim.faas.system:pod pod-speech-inference-36 was scheduled to xeoncpu_26\n"
     ]
    },
    {
     "name": "stdout",
     "output_type": "stream",
     "text": [
      "alterted max replicas for mobilenet-inference is 81"
     ]
    },
    {
     "name": "stderr",
     "output_type": "stream",
     "text": [
      "WARNING:sim.faas.system:retry scheduling pod pod-mobilenet-inference-98\n"
     ]
    },
    {
     "name": "stdout",
     "output_type": "stream",
     "text": [
      "\n",
      "function_factor was 1 and config.scale_max was 81"
     ]
    },
    {
     "name": "stderr",
     "output_type": "stream",
     "text": [
      "WARNING:sim.faas.system:retry scheduling pod pod-mobilenet-inference-99\n"
     ]
    },
    {
     "name": "stdout",
     "output_type": "stream",
     "text": [
      "\n"
     ]
    },
    {
     "name": "stderr",
     "output_type": "stream",
     "text": [
      "INFO:sim.faas.system:pod pod-speech-inference-36 was scheduled to xeoncpu_26\n",
      "WARNING:sim.faas.system:retry scheduling pod pod-mobilenet-inference-97\n",
      "WARNING:sim.faas.system:retry scheduling pod pod-mobilenet-inference-99\n",
      "INFO:sim.faas.system:pod pod-speech-inference-36 was scheduled to xeoncpu_26\n",
      "INFO:sim.faas.system:pod pod-speech-inference-37 was scheduled to xeoncpu_27\n",
      "INFO:sim.faas.system:pod pod-speech-inference-35 was scheduled to xeoncpu_25\n",
      "WARNING:sim.faas.system:retry scheduling pod pod-mobilenet-inference-99\n",
      "WARNING:sim.faas.system:retry scheduling pod pod-mobilenet-inference-98\n",
      "WARNING:sim.faas.system:retry scheduling pod pod-mobilenet-inference-100\n",
      "INFO:sim.faas.system:pod pod-speech-inference-37 was scheduled to xeoncpu_27\n",
      "INFO:sim.faas.system:pod pod-speech-inference-37 was scheduled to xeoncpu_27\n",
      "WARNING:sim.faas.system:retry scheduling pod pod-mobilenet-inference-100\n",
      "WARNING:sim.faas.system:retry scheduling pod pod-mobilenet-inference-100\n",
      "INFO:sim.faas.system:pod pod-speech-inference-38 was scheduled to xeongpu_0\n",
      "INFO:sim.faas.system:pod pod-speech-inference-36 was scheduled to xeoncpu_26\n",
      "WARNING:sim.faas.system:retry scheduling pod pod-mobilenet-inference-101\n",
      "WARNING:sim.faas.system:retry scheduling pod pod-mobilenet-inference-99\n",
      "INFO:sim.faas.system:pod pod-speech-inference-38 was scheduled to xeongpu_0\n",
      "INFO:sim.faas.system:pod pod-speech-inference-38 was scheduled to xeongpu_0\n",
      "INFO:sim.faas.system:pod pod-speech-inference-39 was scheduled to xeongpu_1\n",
      "WARNING:sim.faas.system:retry scheduling pod pod-mobilenet-inference-101\n",
      "WARNING:sim.faas.system:retry scheduling pod pod-mobilenet-inference-101\n",
      "WARNING:sim.faas.system:retry scheduling pod pod-mobilenet-inference-102\n",
      "INFO:sim.faas.system:pod pod-speech-inference-37 was scheduled to xeoncpu_27\n",
      "WARNING:sim.faas.system:retry scheduling pod pod-mobilenet-inference-100\n",
      "INFO:sim.faas.system:pod pod-speech-inference-39 was scheduled to xeongpu_1\n",
      "INFO:sim.faas.system:pod pod-speech-inference-40 was scheduled to xeongpu_2\n",
      "INFO:sim.faas.system:pod pod-speech-inference-39 was scheduled to xeongpu_1\n",
      "WARNING:sim.faas.system:retry scheduling pod pod-mobilenet-inference-102\n",
      "WARNING:sim.faas.system:retry scheduling pod pod-mobilenet-inference-103\n",
      "WARNING:sim.faas.system:retry scheduling pod pod-mobilenet-inference-102\n",
      "INFO:sim.faas.system:pod pod-speech-inference-38 was scheduled to xeongpu_0\n",
      "INFO:sim.faas.system:pod pod-speech-inference-40 was scheduled to xeongpu_2\n",
      "WARNING:sim.faas.system:retry scheduling pod pod-mobilenet-inference-101\n",
      "WARNING:sim.faas.system:retry scheduling pod pod-mobilenet-inference-103\n",
      "INFO:sim.faas.system:pod pod-speech-inference-41 was scheduled to xeongpu_3\n",
      "INFO:sim.faas.system:pod pod-speech-inference-39 was scheduled to xeongpu_1\n",
      "INFO:sim.faas.system:pod pod-speech-inference-40 was scheduled to xeongpu_2\n",
      "WARNING:sim.faas.system:retry scheduling pod pod-mobilenet-inference-104\n",
      "WARNING:sim.faas.system:retry scheduling pod pod-mobilenet-inference-102\n",
      "WARNING:sim.faas.system:retry scheduling pod pod-mobilenet-inference-103\n",
      "INFO:sim.faas.system:pod pod-speech-inference-42 was scheduled to rockpi_1\n",
      "INFO:sim.faas.system:pod pod-speech-inference-41 was scheduled to xeongpu_3\n",
      "INFO:sim.faas.system:pod pod-speech-inference-40 was scheduled to xeongpu_2\n",
      "WARNING:sim.faas.system:retry scheduling pod pod-mobilenet-inference-104\n",
      "INFO:sim.faas.system:pod pod-speech-inference-41 was scheduled to xeongpu_3\n",
      "WARNING:sim.faas.system:retry scheduling pod pod-mobilenet-inference-105\n",
      "WARNING:sim.faas.system:retry scheduling pod pod-mobilenet-inference-103\n",
      "WARNING:sim.faas.system:retry scheduling pod pod-mobilenet-inference-104\n",
      "INFO:sim.faas.system:pod pod-speech-inference-43 was scheduled to nx_0\n",
      "INFO:sim.faas.system:pod pod-speech-inference-41 was scheduled to xeongpu_3\n",
      "INFO:sim.faas.system:pod pod-speech-inference-42 was scheduled to rockpi_1\n",
      "WARNING:sim.faas.system:retry scheduling pod pod-mobilenet-inference-106\n",
      "WARNING:sim.faas.system:retry scheduling pod pod-mobilenet-inference-105\n",
      "WARNING:sim.faas.system:retry scheduling pod pod-mobilenet-inference-104\n",
      "INFO:sim.faas.system:pod pod-speech-inference-42 was scheduled to rockpi_1\n",
      "INFO:sim.faas.system:pod pod-speech-inference-44 was scheduled to nx_1\n",
      "WARNING:sim.faas.system:retry scheduling pod pod-mobilenet-inference-105\n",
      "INFO:sim.faas.system:pod pod-speech-inference-43 was scheduled to nx_0\n",
      "WARNING:sim.faas.system:retry scheduling pod pod-mobilenet-inference-107\n",
      "WARNING:sim.faas.system:retry scheduling pod pod-mobilenet-inference-106\n",
      "INFO:sim.faas.system:pod pod-speech-inference-42 was scheduled to rockpi_1\n",
      "INFO:sim.faas.system:pod pod-speech-inference-43 was scheduled to nx_0\n",
      "INFO:sim.faas.system:pod pod-speech-inference-45 was scheduled to rockpi_2\n",
      "WARNING:sim.faas.system:retry scheduling pod pod-mobilenet-inference-105\n",
      "WARNING:sim.faas.system:retry scheduling pod pod-mobilenet-inference-106\n",
      "INFO:sim.faas.system:pod pod-speech-inference-44 was scheduled to nx_1\n",
      "WARNING:sim.faas.system:retry scheduling pod pod-mobilenet-inference-108\n",
      "WARNING:sim.faas.system:retry scheduling pod pod-mobilenet-inference-107\n",
      "INFO:sim.faas.system:pod pod-speech-inference-44 was scheduled to nx_1\n",
      "INFO:sim.faas.system:pod pod-speech-inference-46 was scheduled to rockpi_0\n",
      "INFO:sim.faas.system:pod pod-speech-inference-45 was scheduled to rockpi_2\n",
      "WARNING:sim.faas.system:retry scheduling pod pod-mobilenet-inference-107\n",
      "INFO:sim.faas.system:pod pod-speech-inference-43 was scheduled to nx_0\n",
      "WARNING:sim.faas.system:retry scheduling pod pod-mobilenet-inference-108\n",
      "WARNING:sim.faas.system:retry scheduling pod pod-mobilenet-inference-109\n",
      "WARNING:sim.faas.system:retry scheduling pod pod-mobilenet-inference-106\n",
      "INFO:sim.faas.system:pod pod-speech-inference-45 was scheduled to rockpi_2\n",
      "INFO:sim.faas.system:pod pod-speech-inference-46 was scheduled to rockpi_0\n",
      "WARNING:sim.faas.system:retry scheduling pod pod-mobilenet-inference-108\n",
      "INFO:sim.faas.system:pod pod-speech-inference-47 was scheduled to nx_3\n",
      "WARNING:sim.faas.system:retry scheduling pod pod-mobilenet-inference-109\n",
      "INFO:sim.faas.system:pod pod-speech-inference-44 was scheduled to nx_1\n",
      "WARNING:sim.faas.system:retry scheduling pod pod-mobilenet-inference-110\n",
      "WARNING:sim.faas.system:retry scheduling pod pod-mobilenet-inference-107\n",
      "INFO:sim.faas.system:pod pod-speech-inference-46 was scheduled to rockpi_0\n",
      "INFO:sim.faas.system:pod pod-speech-inference-47 was scheduled to nx_3\n",
      "WARNING:sim.faas.system:retry scheduling pod pod-mobilenet-inference-109\n",
      "WARNING:sim.faas.system:retry scheduling pod pod-mobilenet-inference-110\n",
      "INFO:sim.faas.system:pod pod-speech-inference-48 was scheduled to rockpi_3\n",
      "INFO:sim.faas.system:pod pod-speech-inference-45 was scheduled to rockpi_2\n",
      "WARNING:sim.faas.system:retry scheduling pod pod-mobilenet-inference-111\n",
      "INFO:sim.faas.system:pod pod-speech-inference-47 was scheduled to nx_3\n",
      "WARNING:sim.faas.system:retry scheduling pod pod-mobilenet-inference-108\n",
      "WARNING:sim.faas.system:retry scheduling pod pod-mobilenet-inference-110\n",
      "INFO:sim.faas.system:pod pod-speech-inference-48 was scheduled to rockpi_3\n",
      "INFO:sim.faas.system:pod pod-speech-inference-49 was scheduled to rockpi_4\n",
      "INFO:sim.faas.system:pod pod-speech-inference-46 was scheduled to rockpi_0\n",
      "WARNING:sim.faas.system:retry scheduling pod pod-mobilenet-inference-111\n",
      "WARNING:sim.faas.system:retry scheduling pod pod-mobilenet-inference-109\n",
      "WARNING:sim.faas.system:retry scheduling pod pod-mobilenet-inference-112\n",
      "INFO:sim.faas.system:pod pod-speech-inference-48 was scheduled to rockpi_3\n",
      "WARNING:sim.faas.system:retry scheduling pod pod-mobilenet-inference-111\n",
      "INFO:sim.faas.system:pod pod-speech-inference-49 was scheduled to rockpi_4\n",
      "INFO:sim.faas.system:pod pod-speech-inference-47 was scheduled to nx_3\n",
      "INFO:sim.faas.system:pod pod-speech-inference-50 was scheduled to nx_2\n",
      "WARNING:sim.faas.system:retry scheduling pod pod-mobilenet-inference-112\n",
      "WARNING:sim.faas.system:retry scheduling pod pod-mobilenet-inference-110\n",
      "WARNING:sim.faas.system:retry scheduling pod pod-mobilenet-inference-113\n",
      "INFO:sim.faas.system:pod pod-speech-inference-49 was scheduled to rockpi_4\n",
      "WARNING:sim.faas.system:retry scheduling pod pod-mobilenet-inference-114\n",
      "INFO:sim.faas.system:pod pod-speech-inference-50 was scheduled to nx_2\n"
     ]
    },
    {
     "name": "stderr",
     "output_type": "stream",
     "text": [
      "WARNING:sim.faas.system:retry scheduling pod pod-mobilenet-inference-112\n",
      "WARNING:sim.faas.system:retry scheduling pod pod-mobilenet-inference-115\n",
      "INFO:sim.faas.system:pod pod-speech-inference-48 was scheduled to rockpi_3\n",
      "WARNING:sim.faas.system:retry scheduling pod pod-mobilenet-inference-113\n",
      "WARNING:sim.faas.system:retry scheduling pod pod-mobilenet-inference-116\n",
      "WARNING:sim.faas.system:retry scheduling pod pod-mobilenet-inference-111\n",
      "WARNING:sim.faas.system:retry scheduling pod pod-mobilenet-inference-114\n",
      "INFO:sim.faas.system:pod pod-speech-inference-50 was scheduled to nx_2\n",
      "WARNING:sim.faas.system:retry scheduling pod pod-mobilenet-inference-117\n",
      "WARNING:sim.faas.system:retry scheduling pod pod-mobilenet-inference-115\n",
      "WARNING:sim.faas.system:retry scheduling pod pod-mobilenet-inference-113\n",
      "WARNING:sim.faas.system:retry scheduling pod pod-mobilenet-inference-118\n",
      "WARNING:sim.faas.system:retry scheduling pod pod-mobilenet-inference-116\n",
      "WARNING:sim.faas.system:retry scheduling pod pod-mobilenet-inference-114\n",
      "WARNING:sim.faas.system:retry scheduling pod pod-mobilenet-inference-119\n",
      "INFO:sim.faas.system:pod pod-speech-inference-49 was scheduled to rockpi_4\n",
      "WARNING:sim.faas.system:retry scheduling pod pod-mobilenet-inference-117\n",
      "WARNING:sim.faas.system:retry scheduling pod pod-mobilenet-inference-115\n",
      "WARNING:sim.faas.system:retry scheduling pod pod-mobilenet-inference-120\n",
      "WARNING:sim.faas.system:retry scheduling pod pod-mobilenet-inference-112\n",
      "WARNING:sim.faas.system:retry scheduling pod pod-mobilenet-inference-118\n",
      "WARNING:sim.faas.system:retry scheduling pod pod-mobilenet-inference-116\n",
      "WARNING:sim.faas.system:retry scheduling pod pod-mobilenet-inference-119\n",
      "WARNING:sim.faas.system:retry scheduling pod pod-mobilenet-inference-121\n",
      "WARNING:sim.faas.system:retry scheduling pod pod-mobilenet-inference-120\n",
      "WARNING:sim.faas.system:retry scheduling pod pod-mobilenet-inference-122\n",
      "WARNING:sim.faas.system:retry scheduling pod pod-mobilenet-inference-117\n",
      "INFO:sim.faas.system:pod pod-speech-inference-50 was scheduled to nx_2\n",
      "WARNING:sim.faas.system:retry scheduling pod pod-mobilenet-inference-123\n",
      "WARNING:sim.faas.system:retry scheduling pod pod-mobilenet-inference-121\n",
      "WARNING:sim.faas.system:retry scheduling pod pod-mobilenet-inference-118\n",
      "WARNING:sim.faas.system:retry scheduling pod pod-mobilenet-inference-113\n",
      "WARNING:sim.faas.system:retry scheduling pod pod-mobilenet-inference-124\n",
      "WARNING:sim.faas.system:retry scheduling pod pod-mobilenet-inference-119\n",
      "WARNING:sim.faas.system:retry scheduling pod pod-mobilenet-inference-122\n",
      "WARNING:sim.faas.system:retry scheduling pod pod-mobilenet-inference-114\n",
      "WARNING:sim.faas.system:retry scheduling pod pod-mobilenet-inference-125\n",
      "WARNING:sim.faas.system:retry scheduling pod pod-mobilenet-inference-120\n",
      "WARNING:sim.faas.system:retry scheduling pod pod-mobilenet-inference-115\n",
      "WARNING:sim.faas.system:retry scheduling pod pod-mobilenet-inference-123\n",
      "WARNING:sim.faas.system:retry scheduling pod pod-mobilenet-inference-126\n",
      "WARNING:sim.faas.system:retry scheduling pod pod-mobilenet-inference-121\n",
      "WARNING:sim.faas.system:retry scheduling pod pod-mobilenet-inference-116\n",
      "WARNING:sim.faas.system:retry scheduling pod pod-mobilenet-inference-124\n",
      "WARNING:sim.faas.system:retry scheduling pod pod-mobilenet-inference-127\n",
      "WARNING:sim.faas.system:retry scheduling pod pod-mobilenet-inference-122\n",
      "WARNING:sim.faas.system:retry scheduling pod pod-mobilenet-inference-125\n",
      "WARNING:sim.faas.system:retry scheduling pod pod-mobilenet-inference-117\n",
      "WARNING:sim.faas.system:retry scheduling pod pod-mobilenet-inference-123\n",
      "WARNING:sim.faas.system:retry scheduling pod pod-mobilenet-inference-128\n",
      "WARNING:sim.faas.system:retry scheduling pod pod-mobilenet-inference-126\n",
      "WARNING:sim.faas.system:retry scheduling pod pod-mobilenet-inference-118\n",
      "WARNING:sim.faas.system:retry scheduling pod pod-mobilenet-inference-124\n",
      "WARNING:sim.faas.system:retry scheduling pod pod-mobilenet-inference-129\n",
      "WARNING:sim.faas.system:retry scheduling pod pod-mobilenet-inference-127\n",
      "WARNING:sim.faas.system:retry scheduling pod pod-mobilenet-inference-119\n",
      "WARNING:sim.faas.system:retry scheduling pod pod-mobilenet-inference-125\n",
      "WARNING:sim.faas.system:retry scheduling pod pod-mobilenet-inference-130\n",
      "WARNING:sim.faas.system:retry scheduling pod pod-mobilenet-inference-128\n",
      "WARNING:sim.faas.system:retry scheduling pod pod-mobilenet-inference-126\n",
      "WARNING:sim.faas.system:retry scheduling pod pod-mobilenet-inference-131\n",
      "WARNING:sim.faas.system:retry scheduling pod pod-mobilenet-inference-120\n",
      "WARNING:sim.faas.system:retry scheduling pod pod-mobilenet-inference-129\n",
      "WARNING:sim.faas.system:retry scheduling pod pod-mobilenet-inference-127\n",
      "WARNING:sim.faas.system:retry scheduling pod pod-mobilenet-inference-132\n",
      "WARNING:sim.faas.system:retry scheduling pod pod-mobilenet-inference-121\n",
      "WARNING:sim.faas.system:retry scheduling pod pod-mobilenet-inference-130\n",
      "WARNING:sim.faas.system:retry scheduling pod pod-mobilenet-inference-128\n",
      "WARNING:sim.faas.system:retry scheduling pod pod-mobilenet-inference-133\n",
      "WARNING:sim.faas.system:retry scheduling pod pod-mobilenet-inference-122\n",
      "WARNING:sim.faas.system:retry scheduling pod pod-mobilenet-inference-131\n",
      "WARNING:sim.faas.system:retry scheduling pod pod-mobilenet-inference-129\n",
      "WARNING:sim.faas.system:retry scheduling pod pod-mobilenet-inference-134\n",
      "WARNING:sim.faas.system:retry scheduling pod pod-mobilenet-inference-123\n",
      "WARNING:sim.faas.system:retry scheduling pod pod-mobilenet-inference-132\n",
      "WARNING:sim.faas.system:retry scheduling pod pod-mobilenet-inference-130\n",
      "WARNING:sim.faas.system:retry scheduling pod pod-mobilenet-inference-135\n",
      "WARNING:sim.faas.system:retry scheduling pod pod-mobilenet-inference-124\n",
      "WARNING:sim.faas.system:retry scheduling pod pod-mobilenet-inference-133\n",
      "WARNING:sim.faas.system:retry scheduling pod pod-mobilenet-inference-131\n",
      "WARNING:sim.faas.system:retry scheduling pod pod-mobilenet-inference-136\n",
      "WARNING:sim.faas.system:retry scheduling pod pod-mobilenet-inference-125\n",
      "WARNING:sim.faas.system:retry scheduling pod pod-mobilenet-inference-134\n",
      "WARNING:sim.faas.system:retry scheduling pod pod-mobilenet-inference-137\n",
      "WARNING:sim.faas.system:retry scheduling pod pod-mobilenet-inference-126\n",
      "WARNING:sim.faas.system:retry scheduling pod pod-mobilenet-inference-135\n",
      "WARNING:sim.faas.system:retry scheduling pod pod-mobilenet-inference-132\n",
      "WARNING:sim.faas.system:retry scheduling pod pod-mobilenet-inference-138\n",
      "WARNING:sim.faas.system:retry scheduling pod pod-mobilenet-inference-127\n",
      "WARNING:sim.faas.system:retry scheduling pod pod-mobilenet-inference-136\n",
      "WARNING:sim.faas.system:retry scheduling pod pod-mobilenet-inference-133\n",
      "WARNING:sim.faas.system:retry scheduling pod pod-mobilenet-inference-139\n",
      "WARNING:sim.faas.system:retry scheduling pod pod-mobilenet-inference-137\n",
      "WARNING:sim.faas.system:retry scheduling pod pod-mobilenet-inference-128\n",
      "WARNING:sim.faas.system:retry scheduling pod pod-mobilenet-inference-134\n",
      "WARNING:sim.faas.system:retry scheduling pod pod-mobilenet-inference-140\n",
      "WARNING:sim.faas.system:retry scheduling pod pod-mobilenet-inference-138\n",
      "WARNING:sim.faas.system:retry scheduling pod pod-mobilenet-inference-135\n",
      "WARNING:sim.faas.system:retry scheduling pod pod-mobilenet-inference-129\n",
      "WARNING:sim.faas.system:retry scheduling pod pod-mobilenet-inference-141\n",
      "WARNING:sim.faas.system:retry scheduling pod pod-mobilenet-inference-136\n",
      "WARNING:sim.faas.system:retry scheduling pod pod-mobilenet-inference-130\n",
      "WARNING:sim.faas.system:retry scheduling pod pod-mobilenet-inference-142\n",
      "WARNING:sim.faas.system:retry scheduling pod pod-mobilenet-inference-139\n",
      "WARNING:sim.faas.system:retry scheduling pod pod-mobilenet-inference-137\n",
      "WARNING:sim.faas.system:retry scheduling pod pod-mobilenet-inference-138\n",
      "WARNING:sim.faas.system:retry scheduling pod pod-mobilenet-inference-143\n",
      "WARNING:sim.faas.system:retry scheduling pod pod-mobilenet-inference-131\n",
      "WARNING:sim.faas.system:retry scheduling pod pod-mobilenet-inference-140\n",
      "WARNING:sim.faas.system:retry scheduling pod pod-mobilenet-inference-141\n",
      "WARNING:sim.faas.system:retry scheduling pod pod-mobilenet-inference-144\n",
      "WARNING:sim.faas.system:retry scheduling pod pod-mobilenet-inference-139\n",
      "WARNING:sim.faas.system:retry scheduling pod pod-mobilenet-inference-132\n"
     ]
    },
    {
     "name": "stderr",
     "output_type": "stream",
     "text": [
      "WARNING:sim.faas.system:retry scheduling pod pod-mobilenet-inference-133\n",
      "WARNING:sim.faas.system:retry scheduling pod pod-mobilenet-inference-145\n",
      "WARNING:sim.faas.system:retry scheduling pod pod-mobilenet-inference-142\n",
      "WARNING:sim.faas.system:retry scheduling pod pod-mobilenet-inference-140\n",
      "WARNING:sim.faas.system:retry scheduling pod pod-mobilenet-inference-146\n",
      "WARNING:sim.faas.system:retry scheduling pod pod-mobilenet-inference-134\n",
      "WARNING:sim.faas.system:retry scheduling pod pod-mobilenet-inference-141\n",
      "WARNING:sim.faas.system:retry scheduling pod pod-mobilenet-inference-143\n",
      "WARNING:sim.faas.system:retry scheduling pod pod-mobilenet-inference-135\n",
      "WARNING:sim.faas.system:retry scheduling pod pod-mobilenet-inference-147\n",
      "WARNING:sim.faas.system:retry scheduling pod pod-mobilenet-inference-142\n",
      "WARNING:sim.faas.system:retry scheduling pod pod-mobilenet-inference-144\n",
      "WARNING:sim.faas.system:retry scheduling pod pod-mobilenet-inference-136\n",
      "WARNING:sim.faas.system:retry scheduling pod pod-mobilenet-inference-148\n",
      "WARNING:sim.faas.system:retry scheduling pod pod-mobilenet-inference-143\n",
      "WARNING:sim.faas.system:retry scheduling pod pod-mobilenet-inference-145\n",
      "WARNING:sim.faas.system:retry scheduling pod pod-mobilenet-inference-149\n",
      "WARNING:sim.faas.system:retry scheduling pod pod-mobilenet-inference-137\n",
      "WARNING:sim.faas.system:retry scheduling pod pod-mobilenet-inference-144\n",
      "WARNING:sim.faas.system:retry scheduling pod pod-mobilenet-inference-146\n",
      "WARNING:sim.faas.system:retry scheduling pod pod-mobilenet-inference-145\n",
      "WARNING:sim.faas.system:retry scheduling pod pod-mobilenet-inference-138\n",
      "WARNING:sim.faas.system:retry scheduling pod pod-mobilenet-inference-150\n",
      "WARNING:sim.faas.system:retry scheduling pod pod-mobilenet-inference-146\n",
      "WARNING:sim.faas.system:retry scheduling pod pod-mobilenet-inference-147\n",
      "WARNING:sim.faas.system:retry scheduling pod pod-mobilenet-inference-139\n",
      "WARNING:sim.faas.system:retry scheduling pod pod-mobilenet-inference-151\n",
      "WARNING:sim.faas.system:retry scheduling pod pod-mobilenet-inference-148\n",
      "WARNING:sim.faas.system:retry scheduling pod pod-mobilenet-inference-147\n",
      "WARNING:sim.faas.system:retry scheduling pod pod-mobilenet-inference-140\n",
      "WARNING:sim.faas.system:retry scheduling pod pod-mobilenet-inference-152\n",
      "WARNING:sim.faas.system:retry scheduling pod pod-mobilenet-inference-149\n",
      "WARNING:sim.faas.system:retry scheduling pod pod-mobilenet-inference-148\n",
      "WARNING:sim.faas.system:retry scheduling pod pod-mobilenet-inference-141\n",
      "WARNING:sim.faas.system:retry scheduling pod pod-mobilenet-inference-153\n",
      "WARNING:sim.faas.system:retry scheduling pod pod-mobilenet-inference-150\n",
      "WARNING:sim.faas.system:retry scheduling pod pod-mobilenet-inference-149\n",
      "WARNING:sim.faas.system:retry scheduling pod pod-mobilenet-inference-142\n",
      "WARNING:sim.faas.system:retry scheduling pod pod-mobilenet-inference-154\n",
      "WARNING:sim.faas.system:retry scheduling pod pod-mobilenet-inference-151\n",
      "WARNING:sim.faas.system:retry scheduling pod pod-mobilenet-inference-150\n",
      "WARNING:sim.faas.system:retry scheduling pod pod-mobilenet-inference-143\n",
      "WARNING:sim.faas.system:retry scheduling pod pod-mobilenet-inference-155\n",
      "WARNING:sim.faas.system:retry scheduling pod pod-mobilenet-inference-152\n",
      "WARNING:sim.faas.system:retry scheduling pod pod-mobilenet-inference-151\n",
      "WARNING:sim.faas.system:retry scheduling pod pod-mobilenet-inference-144\n",
      "WARNING:sim.faas.system:retry scheduling pod pod-mobilenet-inference-156\n",
      "WARNING:sim.faas.system:retry scheduling pod pod-mobilenet-inference-153\n",
      "WARNING:sim.faas.system:retry scheduling pod pod-mobilenet-inference-145\n",
      "WARNING:sim.faas.system:retry scheduling pod pod-mobilenet-inference-152\n",
      "WARNING:sim.faas.system:retry scheduling pod pod-mobilenet-inference-146\n",
      "WARNING:sim.faas.system:retry scheduling pod pod-mobilenet-inference-154\n",
      "WARNING:sim.faas.system:retry scheduling pod pod-mobilenet-inference-153\n",
      "INFO:sim.faas.system:pod pod-mobilenet-inference-157 was scheduled to xeongpu_4\n",
      "WARNING:sim.faas.system:retry scheduling pod pod-mobilenet-inference-147\n",
      "WARNING:sim.faas.system:retry scheduling pod pod-mobilenet-inference-155\n",
      "WARNING:sim.faas.system:retry scheduling pod pod-mobilenet-inference-154\n",
      "WARNING:sim.faas.system:retry scheduling pod pod-mobilenet-inference-148\n",
      "WARNING:sim.faas.system:retry scheduling pod pod-mobilenet-inference-155\n",
      "WARNING:sim.faas.system:retry scheduling pod pod-mobilenet-inference-156\n",
      "WARNING:sim.faas.system:retry scheduling pod pod-mobilenet-inference-149\n",
      "INFO:sim.faas.system:pod pod-mobilenet-inference-158 was scheduled to xeongpu_5\n",
      "WARNING:sim.faas.system:retry scheduling pod pod-mobilenet-inference-156\n",
      "WARNING:sim.faas.system:retry scheduling pod pod-mobilenet-inference-150\n",
      "WARNING:sim.faas.system:retry scheduling pod pod-mobilenet-inference-151\n",
      "INFO:sim.faas.system:pod pod-mobilenet-inference-157 was scheduled to xeongpu_4\n",
      "WARNING:sim.faas.system:retry scheduling pod pod-mobilenet-inference-152\n",
      "INFO:sim.faas.system:pod pod-mobilenet-inference-157 was scheduled to xeongpu_4\n",
      "INFO:sim.faas.system:pod pod-mobilenet-inference-159 was scheduled to xeongpu_6\n",
      "WARNING:sim.faas.system:retry scheduling pod pod-mobilenet-inference-153\n",
      "WARNING:sim.faas.system:retry scheduling pod pod-mobilenet-inference-154\n",
      "INFO:sim.faas.system:pod pod-mobilenet-inference-158 was scheduled to xeongpu_5\n",
      "INFO:sim.faas.system:pod pod-mobilenet-inference-158 was scheduled to xeongpu_5\n",
      "INFO:sim.faas.system:pod pod-mobilenet-inference-160 was scheduled to nuc_0\n",
      "WARNING:sim.faas.system:retry scheduling pod pod-mobilenet-inference-155\n",
      "WARNING:sim.faas.system:retry scheduling pod pod-mobilenet-inference-156\n",
      "INFO:sim.faas.system:pod pod-mobilenet-inference-159 was scheduled to xeongpu_6\n",
      "INFO:sim.faas.system:pod pod-mobilenet-inference-159 was scheduled to xeongpu_6\n",
      "INFO:sim.faas.system:pod pod-mobilenet-inference-157 was scheduled to xeongpu_4\n",
      "INFO:sim.faas.system:pod pod-mobilenet-inference-161 was scheduled to nuc_1\n",
      "INFO:sim.faas.system:pod pod-mobilenet-inference-158 was scheduled to xeongpu_5\n",
      "INFO:sim.faas.system:pod pod-mobilenet-inference-162 was scheduled to nano_11\n",
      "INFO:sim.faas.system:pod pod-mobilenet-inference-160 was scheduled to nuc_0\n",
      "INFO:sim.faas.system:pod pod-mobilenet-inference-160 was scheduled to nuc_0\n",
      "INFO:sim.faas.system:pod pod-mobilenet-inference-161 was scheduled to nuc_1\n",
      "INFO:sim.faas.system:pod pod-mobilenet-inference-159 was scheduled to xeongpu_6\n",
      "INFO:sim.faas.system:pod pod-mobilenet-inference-163 was scheduled to nuc_2\n",
      "INFO:sim.faas.system:pod pod-mobilenet-inference-161 was scheduled to nuc_1\n",
      "INFO:sim.faas.system:pod pod-mobilenet-inference-162 was scheduled to nano_11\n",
      "INFO:sim.faas.system:pod pod-mobilenet-inference-160 was scheduled to nuc_0\n",
      "INFO:sim.faas.system:pod pod-mobilenet-inference-164 was scheduled to nuc_3\n",
      "INFO:sim.faas.system:pod pod-mobilenet-inference-162 was scheduled to nano_11\n",
      "INFO:sim.faas.system:pod pod-mobilenet-inference-161 was scheduled to nuc_1\n",
      "INFO:sim.faas.system:pod pod-mobilenet-inference-163 was scheduled to nuc_2\n",
      "INFO:sim.faas.system:pod pod-mobilenet-inference-165 was scheduled to nano_10\n",
      "INFO:sim.faas.system:pod pod-mobilenet-inference-163 was scheduled to nuc_2\n",
      "INFO:sim.faas.system:pod pod-mobilenet-inference-162 was scheduled to nano_11\n",
      "INFO:sim.faas.system:pod pod-mobilenet-inference-164 was scheduled to nuc_3\n",
      "INFO:sim.faas.system:pod pod-mobilenet-inference-166 was scheduled to nano_16\n",
      "INFO:sim.faas.system:pod pod-mobilenet-inference-163 was scheduled to nuc_2\n",
      "INFO:sim.faas.system:pod pod-mobilenet-inference-164 was scheduled to nuc_3\n",
      "INFO:sim.faas.system:pod pod-mobilenet-inference-165 was scheduled to nano_10\n",
      "INFO:sim.faas.system:pod pod-mobilenet-inference-167 was scheduled to nuc_4\n",
      "INFO:sim.faas.system:pod pod-mobilenet-inference-165 was scheduled to nano_10\n",
      "INFO:sim.faas.system:pod pod-mobilenet-inference-164 was scheduled to nuc_3\n",
      "INFO:sim.faas.system:pod pod-mobilenet-inference-166 was scheduled to nano_16\n",
      "INFO:sim.faas.system:pod pod-mobilenet-inference-168 was scheduled to rpi4_2\n",
      "INFO:sim.faas.system:pod pod-mobilenet-inference-166 was scheduled to nano_16\n",
      "INFO:sim.faas.system:pod pod-mobilenet-inference-165 was scheduled to nano_10\n",
      "INFO:sim.faas.system:pod pod-mobilenet-inference-167 was scheduled to nuc_4\n"
     ]
    },
    {
     "name": "stderr",
     "output_type": "stream",
     "text": [
      "INFO:sim.faas.system:pod pod-mobilenet-inference-169 was scheduled to rpi4_3\n",
      "INFO:sim.faas.system:pod pod-mobilenet-inference-167 was scheduled to nuc_4\n",
      "INFO:sim.faas.system:pod pod-mobilenet-inference-170 was scheduled to tx2_0\n",
      "INFO:sim.faas.system:pod pod-mobilenet-inference-166 was scheduled to nano_16\n",
      "INFO:sim.faas.system:pod pod-mobilenet-inference-168 was scheduled to rpi4_2\n",
      "INFO:sim.faas.system:pod pod-mobilenet-inference-168 was scheduled to rpi4_2\n",
      "INFO:sim.faas.system:pod pod-mobilenet-inference-171 was scheduled to tx2_1\n",
      "INFO:sim.faas.system:pod pod-mobilenet-inference-167 was scheduled to nuc_4\n",
      "INFO:sim.faas.system:pod pod-mobilenet-inference-169 was scheduled to rpi4_3\n",
      "INFO:sim.faas.system:pod pod-mobilenet-inference-169 was scheduled to rpi4_3\n",
      "INFO:sim.faas.system:pod pod-mobilenet-inference-172 was scheduled to nuc_5\n",
      "INFO:sim.faas.system:pod pod-mobilenet-inference-168 was scheduled to rpi4_2\n",
      "INFO:sim.faas.system:pod pod-mobilenet-inference-170 was scheduled to tx2_0\n",
      "INFO:sim.faas.system:pod pod-mobilenet-inference-170 was scheduled to tx2_0\n",
      "INFO:sim.faas.system:pod pod-mobilenet-inference-173 was scheduled to tx2_2\n",
      "INFO:sim.faas.system:pod pod-mobilenet-inference-169 was scheduled to rpi4_3\n",
      "INFO:sim.faas.system:pod pod-mobilenet-inference-171 was scheduled to tx2_1\n",
      "INFO:sim.faas.system:pod pod-mobilenet-inference-171 was scheduled to tx2_1\n",
      "INFO:sim.faas.system:pod pod-mobilenet-inference-170 was scheduled to tx2_0\n",
      "INFO:sim.faas.system:pod pod-mobilenet-inference-174 was scheduled to nuc_6\n",
      "INFO:sim.faas.system:pod pod-mobilenet-inference-172 was scheduled to nuc_5\n",
      "INFO:sim.faas.system:pod pod-mobilenet-inference-172 was scheduled to nuc_5\n",
      "INFO:sim.faas.system:pod pod-mobilenet-inference-175 was scheduled to nano_18\n",
      "INFO:sim.faas.system:pod pod-mobilenet-inference-171 was scheduled to tx2_1\n",
      "INFO:sim.faas.system:pod pod-mobilenet-inference-173 was scheduled to tx2_2\n",
      "INFO:sim.faas.system:pod pod-mobilenet-inference-173 was scheduled to tx2_2\n",
      "INFO:sim.faas.system:pod pod-mobilenet-inference-176 was scheduled to coral_1\n",
      "INFO:sim.faas.system:pod pod-mobilenet-inference-172 was scheduled to nuc_5\n",
      "INFO:sim.faas.system:pod pod-mobilenet-inference-174 was scheduled to nuc_6\n",
      "INFO:sim.faas.system:pod pod-mobilenet-inference-174 was scheduled to nuc_6\n",
      "INFO:sim.faas.system:pod pod-mobilenet-inference-177 was scheduled to nuc_7\n",
      "INFO:sim.faas.system:pod pod-mobilenet-inference-173 was scheduled to tx2_2\n",
      "INFO:sim.faas.system:pod pod-mobilenet-inference-175 was scheduled to nano_18\n",
      "INFO:sim.faas.system:pod pod-mobilenet-inference-175 was scheduled to nano_18\n",
      "INFO:sim.faas.system:pod pod-mobilenet-inference-178 was scheduled to nano_17\n",
      "INFO:sim.faas.system:pod pod-mobilenet-inference-174 was scheduled to nuc_6\n",
      "INFO:sim.faas.system:pod pod-mobilenet-inference-176 was scheduled to coral_1\n",
      "INFO:sim.faas.system:pod pod-mobilenet-inference-175 was scheduled to nano_18\n",
      "INFO:sim.faas.system:pod pod-mobilenet-inference-176 was scheduled to coral_1\n",
      "INFO:sim.faas.system:pod pod-mobilenet-inference-179 was scheduled to nuc_8\n",
      "INFO:sim.faas.system:pod pod-mobilenet-inference-177 was scheduled to nuc_7\n",
      "INFO:sim.faas.system:pod pod-mobilenet-inference-176 was scheduled to coral_1\n",
      "INFO:sim.faas.system:pod pod-mobilenet-inference-177 was scheduled to nuc_7\n",
      "INFO:sim.faas.system:pod pod-mobilenet-inference-180 was scheduled to nuc_9\n",
      "INFO:sim.faas.system:pod pod-mobilenet-inference-178 was scheduled to nano_17\n",
      "INFO:sim.faas.system:pod pod-mobilenet-inference-177 was scheduled to nuc_7\n",
      "INFO:sim.faas.system:pod pod-mobilenet-inference-178 was scheduled to nano_17\n",
      "INFO:sim.faas.system:pod pod-mobilenet-inference-181 was scheduled to nuc_10\n",
      "INFO:sim.faas.system:pod pod-mobilenet-inference-178 was scheduled to nano_17\n",
      "INFO:sim.faas.system:pod pod-mobilenet-inference-179 was scheduled to nuc_8\n",
      "INFO:sim.faas.system:pod pod-mobilenet-inference-179 was scheduled to nuc_8\n",
      "INFO:sim.faas.system:pod pod-mobilenet-inference-182 was scheduled to nano_14\n",
      "INFO:sim.faas.system:pod pod-mobilenet-inference-180 was scheduled to nuc_9\n",
      "INFO:sim.faas.system:pod pod-mobilenet-inference-179 was scheduled to nuc_8\n",
      "INFO:sim.faas.system:pod pod-mobilenet-inference-180 was scheduled to nuc_9\n",
      "INFO:sim.faas.system:pod pod-mobilenet-inference-183 was scheduled to nuc_11\n",
      "INFO:sim.faas.system:pod pod-mobilenet-inference-181 was scheduled to nuc_10\n",
      "INFO:sim.faas.system:pod pod-mobilenet-inference-180 was scheduled to nuc_9\n",
      "INFO:sim.faas.system:pod pod-mobilenet-inference-181 was scheduled to nuc_10\n",
      "INFO:sim.faas.system:pod pod-mobilenet-inference-182 was scheduled to nano_14\n",
      "INFO:sim.faas.system:pod pod-mobilenet-inference-181 was scheduled to nuc_10\n",
      "INFO:sim.faas.system:pod pod-mobilenet-inference-184 was scheduled to nano_1\n",
      "INFO:sim.faas.system:pod pod-mobilenet-inference-182 was scheduled to nano_14\n",
      "INFO:sim.faas.system:pod pod-mobilenet-inference-183 was scheduled to nuc_11\n",
      "INFO:sim.faas.system:pod pod-mobilenet-inference-182 was scheduled to nano_14\n",
      "INFO:sim.faas.system:pod pod-mobilenet-inference-183 was scheduled to nuc_11\n",
      "INFO:sim.faas.system:pod pod-mobilenet-inference-185 was scheduled to nuc_12\n",
      "INFO:sim.faas.system:pod pod-mobilenet-inference-184 was scheduled to nano_1\n",
      "INFO:sim.faas.system:pod pod-mobilenet-inference-183 was scheduled to nuc_11\n",
      "INFO:sim.faas.system:pod pod-mobilenet-inference-186 was scheduled to nano_12\n",
      "INFO:sim.faas.system:pod pod-mobilenet-inference-184 was scheduled to nano_1\n",
      "INFO:sim.faas.system:pod pod-mobilenet-inference-185 was scheduled to nuc_12\n",
      "INFO:sim.faas.system:pod pod-mobilenet-inference-184 was scheduled to nano_1\n",
      "INFO:sim.faas.system:pod pod-mobilenet-inference-185 was scheduled to nuc_12\n",
      "INFO:sim.faas.system:pod pod-mobilenet-inference-186 was scheduled to nano_12\n",
      "INFO:sim.faas.system:pod pod-mobilenet-inference-185 was scheduled to nuc_12\n",
      "INFO:sim.faas.system:pod pod-mobilenet-inference-186 was scheduled to nano_12\n",
      "INFO:sim.faas.system:pod pod-mobilenet-inference-186 was scheduled to nano_12\n"
     ]
    },
    {
     "name": "stdout",
     "output_type": "stream",
     "text": [
      "alterted max replicas for resnet50-preprocessing is 20\n",
      "function_factor was 1 and config.scale_max was 20\n"
     ]
    },
    {
     "name": "stderr",
     "output_type": "stream",
     "text": [
      "INFO:sim.faas.system:scale down speech-inference by 6\n",
      "INFO:sim.faas.system:scale down mobilenet-inference by 28\n"
     ]
    },
    {
     "name": "stdout",
     "output_type": "stream",
     "text": [
      "alterted max replicas for resnet50-preprocessing is 20\n",
      "function_factor was 1 and config.scale_max was 20\n",
      "alterted max replicas for resnet50-preprocessing is 20\n"
     ]
    },
    {
     "name": "stderr",
     "output_type": "stream",
     "text": [
      "INFO:sim.faas.system:scale down speech-inference by 6\n"
     ]
    },
    {
     "name": "stdout",
     "output_type": "stream",
     "text": [
      "function_factor was 1 and config.scale_max was 20"
     ]
    },
    {
     "name": "stderr",
     "output_type": "stream",
     "text": [
      "INFO:sim.faas.system:pod pod-resnet50-preprocessing-2 was scheduled to xeongpu_4\n",
      "INFO:sim.faas.system:scale down mobilenet-inference by 28\n"
     ]
    },
    {
     "name": "stdout",
     "output_type": "stream",
     "text": [
      "\n"
     ]
    },
    {
     "name": "stderr",
     "output_type": "stream",
     "text": [
      "INFO:sim.faas.system:scale down speech-inference by 6\n"
     ]
    },
    {
     "name": "stdout",
     "output_type": "stream",
     "text": [
      "alterted max replicas for resnet50-preprocessing is 20"
     ]
    },
    {
     "name": "stderr",
     "output_type": "stream",
     "text": [
      "INFO:sim.faas.system:scale down mobilenet-inference by 28\n"
     ]
    },
    {
     "name": "stdout",
     "output_type": "stream",
     "text": [
      "\n",
      "function_factor was 1 and config.scale_max was 20"
     ]
    },
    {
     "name": "stderr",
     "output_type": "stream",
     "text": [
      "INFO:sim.faas.system:pod pod-resnet50-preprocessing-3 was scheduled to xeongpu_6\n"
     ]
    },
    {
     "name": "stdout",
     "output_type": "stream",
     "text": [
      "\n"
     ]
    },
    {
     "name": "stderr",
     "output_type": "stream",
     "text": [
      "INFO:sim.faas.system:scale down speech-inference by 6\n",
      "INFO:sim.faas.system:pod pod-resnet50-preprocessing-2 was scheduled to xeongpu_4\n",
      "INFO:sim.faas.system:scale down mobilenet-inference by 28\n",
      "INFO:sim.faas.system:pod pod-resnet50-preprocessing-4 was scheduled to nuc_2\n",
      "INFO:sim.faas.system:pod pod-resnet50-preprocessing-2 was scheduled to xeongpu_4\n",
      "INFO:sim.faas.system:pod pod-resnet50-preprocessing-3 was scheduled to xeongpu_6\n",
      "INFO:sim.faas.system:pod pod-resnet50-preprocessing-2 was scheduled to xeongpu_4\n",
      "INFO:sim.faas.system:pod pod-resnet50-preprocessing-5 was scheduled to xeongpu_4\n",
      "INFO:sim.faas.system:pod pod-resnet50-preprocessing-3 was scheduled to xeongpu_6\n",
      "INFO:sim.faas.system:pod pod-resnet50-preprocessing-4 was scheduled to nuc_2\n",
      "INFO:sim.faas.system:pod pod-resnet50-preprocessing-3 was scheduled to xeongpu_6\n",
      "INFO:sim.faas.system:pod pod-resnet50-preprocessing-6 was scheduled to xeongpu_6\n",
      "INFO:sim.faas.system:pod pod-resnet50-preprocessing-4 was scheduled to nuc_2\n",
      "INFO:sim.faas.system:pod pod-resnet50-preprocessing-5 was scheduled to xeongpu_4\n",
      "INFO:sim.faas.system:pod pod-resnet50-preprocessing-4 was scheduled to nuc_2\n",
      "INFO:sim.faas.system:pod pod-resnet50-preprocessing-7 was scheduled to nuc_2\n",
      "INFO:sim.faas.system:pod pod-resnet50-preprocessing-5 was scheduled to xeongpu_4\n",
      "INFO:sim.faas.system:pod pod-resnet50-preprocessing-6 was scheduled to xeongpu_6\n",
      "INFO:sim.faas.system:pod pod-resnet50-preprocessing-5 was scheduled to xeongpu_4\n",
      "INFO:sim.faas.system:pod pod-resnet50-preprocessing-8 was scheduled to nano_10\n",
      "INFO:sim.faas.system:pod pod-resnet50-preprocessing-6 was scheduled to xeongpu_6\n",
      "INFO:sim.faas.system:pod pod-resnet50-preprocessing-7 was scheduled to nuc_2\n",
      "INFO:sim.faas.system:pod pod-resnet50-preprocessing-6 was scheduled to xeongpu_6\n",
      "INFO:sim.faas.system:pod pod-resnet50-preprocessing-8 was scheduled to nano_10\n",
      "INFO:sim.faas.system:pod pod-resnet50-preprocessing-9 was scheduled to nuc_4\n",
      "INFO:sim.faas.system:pod pod-resnet50-preprocessing-7 was scheduled to nuc_2\n",
      "INFO:sim.faas.system:pod pod-resnet50-preprocessing-7 was scheduled to nuc_2\n",
      "INFO:sim.faas.system:pod pod-resnet50-preprocessing-10 was scheduled to nuc_4\n",
      "INFO:sim.faas.system:pod pod-resnet50-preprocessing-9 was scheduled to nuc_4\n",
      "INFO:sim.faas.system:pod pod-resnet50-preprocessing-8 was scheduled to nano_10\n",
      "INFO:sim.faas.system:pod pod-resnet50-preprocessing-8 was scheduled to nano_10\n",
      "INFO:sim.faas.system:pod pod-resnet50-preprocessing-11 was scheduled to xeongpu_4\n",
      "INFO:sim.faas.system:pod pod-resnet50-preprocessing-10 was scheduled to nuc_4\n",
      "INFO:sim.faas.system:pod pod-resnet50-preprocessing-9 was scheduled to nuc_4\n",
      "INFO:sim.faas.system:pod pod-resnet50-preprocessing-9 was scheduled to nuc_4\n",
      "INFO:sim.faas.system:pod pod-resnet50-preprocessing-10 was scheduled to nuc_4\n",
      "INFO:sim.faas.system:pod pod-resnet50-preprocessing-10 was scheduled to nuc_4\n",
      "INFO:sim.faas.system:pod pod-resnet50-preprocessing-12 was scheduled to xeongpu_6\n",
      "INFO:sim.faas.system:pod pod-resnet50-preprocessing-11 was scheduled to xeongpu_4\n",
      "INFO:sim.faas.system:pod pod-resnet50-preprocessing-11 was scheduled to xeongpu_4\n",
      "INFO:sim.faas.system:pod pod-resnet50-preprocessing-13 was scheduled to nuc_2\n",
      "INFO:sim.faas.system:pod pod-resnet50-preprocessing-11 was scheduled to xeongpu_4\n",
      "INFO:sim.faas.system:pod pod-resnet50-preprocessing-12 was scheduled to xeongpu_6\n",
      "INFO:sim.faas.system:pod pod-resnet50-preprocessing-12 was scheduled to xeongpu_6\n",
      "INFO:sim.faas.system:pod pod-resnet50-preprocessing-12 was scheduled to xeongpu_6\n",
      "INFO:sim.faas.system:pod pod-resnet50-preprocessing-13 was scheduled to nuc_2\n",
      "INFO:sim.faas.system:pod pod-resnet50-preprocessing-14 was scheduled to nuc_4\n",
      "INFO:sim.faas.system:pod pod-resnet50-preprocessing-13 was scheduled to nuc_2\n",
      "INFO:sim.faas.system:pod pod-resnet50-preprocessing-14 was scheduled to nuc_4\n",
      "INFO:sim.faas.system:pod pod-resnet50-preprocessing-15 was scheduled to rpi4_3\n",
      "INFO:sim.faas.system:pod pod-resnet50-preprocessing-13 was scheduled to nuc_2\n",
      "INFO:sim.faas.system:pod pod-resnet50-preprocessing-14 was scheduled to nuc_4\n",
      "INFO:sim.faas.system:pod pod-resnet50-preprocessing-15 was scheduled to rpi4_3\n",
      "INFO:sim.faas.system:pod pod-resnet50-preprocessing-14 was scheduled to nuc_4\n",
      "INFO:sim.faas.system:pod pod-resnet50-preprocessing-16 was scheduled to rockpi_5\n",
      "INFO:sim.faas.system:pod pod-resnet50-preprocessing-17 was scheduled to nano_10\n",
      "INFO:sim.faas.system:pod pod-resnet50-preprocessing-15 was scheduled to rpi4_3\n",
      "INFO:sim.faas.system:pod pod-resnet50-preprocessing-15 was scheduled to rpi4_3\n",
      "INFO:sim.faas.system:pod pod-resnet50-preprocessing-16 was scheduled to rockpi_5\n",
      "INFO:sim.faas.system:pod pod-resnet50-preprocessing-16 was scheduled to rockpi_5\n",
      "INFO:sim.faas.system:pod pod-resnet50-preprocessing-16 was scheduled to rockpi_5\n",
      "INFO:sim.faas.system:pod pod-resnet50-preprocessing-17 was scheduled to nano_10\n",
      "INFO:sim.faas.system:pod pod-resnet50-preprocessing-18 was scheduled to tx2_1\n",
      "INFO:sim.faas.system:pod pod-resnet50-preprocessing-17 was scheduled to nano_10\n",
      "INFO:sim.faas.system:pod pod-resnet50-preprocessing-17 was scheduled to nano_10\n",
      "INFO:sim.faas.system:pod pod-resnet50-preprocessing-18 was scheduled to tx2_1\n",
      "INFO:sim.faas.system:pod pod-resnet50-preprocessing-19 was scheduled to tx2_1\n",
      "INFO:sim.faas.system:pod pod-resnet50-preprocessing-18 was scheduled to tx2_1\n",
      "INFO:sim.faas.system:pod pod-resnet50-preprocessing-18 was scheduled to tx2_1\n",
      "INFO:sim.faas.system:pod pod-resnet50-preprocessing-19 was scheduled to tx2_1\n",
      "INFO:sim.faas.system:pod pod-resnet50-preprocessing-20 was scheduled to tx2_2\n",
      "INFO:sim.faas.system:pod pod-resnet50-preprocessing-19 was scheduled to tx2_1\n",
      "INFO:sim.faas.system:pod pod-resnet50-preprocessing-20 was scheduled to tx2_2\n",
      "INFO:sim.faas.system:pod pod-resnet50-preprocessing-19 was scheduled to tx2_1\n",
      "INFO:sim.faas.system:pod pod-resnet50-preprocessing-20 was scheduled to tx2_2\n",
      "INFO:root:executing requests\n",
      "WARNING:root:no arrival profile for deployment resnet50-training\n",
      "WARNING:root:no arrival profile for deployment resnet50-preprocessing\n",
      "INFO:root:executing requests\n",
      "INFO:sim.faas.system:pod pod-resnet50-preprocessing-20 was scheduled to tx2_2\n",
      "WARNING:root:no arrival profile for deployment resnet50-training\n",
      "WARNING:root:no arrival profile for deployment resnet50-preprocessing\n",
      "INFO:root:executing requests\n",
      "WARNING:root:no arrival profile for deployment resnet50-training\n",
      "INFO:root:executing requests\n",
      "WARNING:root:no arrival profile for deployment resnet50-preprocessing\n",
      "WARNING:root:no arrival profile for deployment resnet50-training\n",
      "WARNING:root:no arrival profile for deployment resnet50-preprocessing\n"
     ]
    },
    {
     "name": "stdout",
     "output_type": "stream",
     "text": [
      "alterted max replicas for resnet50-inference is 81\n",
      "function_factor was 1 and config.scale_max was 81\n",
      "alterted max replicas for resnet50-training is 20\n",
      "function_factor was 1 and config.scale_max was 20\n"
     ]
    },
    {
     "name": "stderr",
     "output_type": "stream",
     "text": [
      "INFO:sim.faas.system:scale down speech-inference by 13\n",
      "INFO:sim.faas.system:scale down mobilenet-inference by 16\n"
     ]
    },
    {
     "name": "stdout",
     "output_type": "stream",
     "text": [
      "alterted max replicas for resnet50-training is 20\n",
      "function_factor was 1 and config.scale_max was 20\n",
      "alterted max replicas for resnet50-inference is 81\n",
      "function_factor was 1 and config.scale_max was 81\n"
     ]
    },
    {
     "name": "stderr",
     "output_type": "stream",
     "text": [
      "INFO:sim.faas.system:pod pod-resnet50-inference-2 was scheduled to xeongpu_5\n",
      "INFO:sim.faas.system:pod pod-resnet50-training-2 was scheduled to nano_18\n",
      "INFO:sim.faas.system:pod pod-resnet50-inference-3 was scheduled to xeongpu_1\n",
      "INFO:sim.faas.system:pod pod-resnet50-training-3 was scheduled to nano_1\n",
      "INFO:sim.faas.system:pod pod-resnet50-inference-4 was scheduled to xeongpu_3\n",
      "INFO:sim.faas.system:pod pod-resnet50-training-4 was scheduled to nano_2\n",
      "INFO:sim.faas.system:pod pod-resnet50-inference-5 was scheduled to nx_3\n",
      "INFO:sim.faas.system:pod pod-resnet50-training-5 was scheduled to nano_3\n",
      "INFO:sim.faas.system:pod pod-resnet50-inference-6 was scheduled to nano_4\n",
      "INFO:sim.faas.system:pod pod-resnet50-training-6 was scheduled to nano_8\n",
      "INFO:sim.faas.system:pod pod-resnet50-inference-7 was scheduled to nano_9\n",
      "INFO:sim.faas.system:pod pod-resnet50-training-7 was scheduled to nano_7\n",
      "INFO:sim.faas.system:pod pod-resnet50-inference-8 was scheduled to nx_2\n",
      "INFO:sim.faas.system:pod pod-resnet50-training-8 was scheduled to nano_5\n",
      "INFO:sim.faas.system:pod pod-resnet50-inference-9 was scheduled to nano_13\n",
      "INFO:sim.faas.system:pod pod-resnet50-training-9 was scheduled to nano_0\n",
      "INFO:sim.faas.system:pod pod-resnet50-inference-10 was scheduled to nano_15\n",
      "INFO:sim.faas.system:pod pod-resnet50-training-10 was scheduled to nano_11\n",
      "INFO:sim.faas.system:pod pod-resnet50-inference-11 was scheduled to xeongpu_0\n",
      "INFO:sim.faas.system:pod pod-resnet50-training-11 was scheduled to nano_16\n",
      "INFO:sim.faas.system:pod pod-resnet50-inference-12 was scheduled to xeongpu_2\n",
      "INFO:sim.faas.system:pod pod-resnet50-training-12 was scheduled to nano_17\n",
      "INFO:sim.faas.system:pod pod-resnet50-inference-13 was scheduled to nx_1\n",
      "INFO:sim.faas.system:pod pod-resnet50-training-13 was scheduled to nano_14\n",
      "INFO:sim.faas.system:pod pod-resnet50-inference-14 was scheduled to tx2_0\n",
      "INFO:sim.faas.system:pod pod-resnet50-training-14 was scheduled to nano_12\n",
      "INFO:sim.faas.system:pod pod-resnet50-inference-15 was scheduled to tx2_2\n",
      "INFO:sim.faas.system:pod pod-resnet50-training-15 was scheduled to nano_10\n",
      "INFO:sim.faas.system:pod pod-resnet50-inference-16 was scheduled to tx2_1\n",
      "INFO:sim.faas.system:pod pod-resnet50-training-16 was scheduled to xeongpu_4\n",
      "INFO:sim.faas.system:pod pod-resnet50-inference-17 was scheduled to xeongpu_6\n",
      "WARNING:sim.faas.system:retry scheduling pod pod-resnet50-training-17\n",
      "WARNING:sim.faas.system:retry scheduling pod pod-resnet50-inference-18\n",
      "WARNING:sim.faas.system:retry scheduling pod pod-resnet50-training-18\n",
      "WARNING:sim.faas.system:retry scheduling pod pod-resnet50-inference-19\n",
      "WARNING:sim.faas.system:retry scheduling pod pod-resnet50-training-19\n",
      "WARNING:sim.faas.system:retry scheduling pod pod-resnet50-inference-20\n",
      "WARNING:sim.faas.system:retry scheduling pod pod-resnet50-training-20\n",
      "WARNING:sim.faas.system:retry scheduling pod pod-resnet50-inference-21\n",
      "WARNING:sim.faas.system:retry scheduling pod pod-resnet50-inference-22\n",
      "WARNING:sim.faas.system:retry scheduling pod pod-resnet50-inference-23\n",
      "WARNING:sim.faas.system:retry scheduling pod pod-resnet50-inference-24\n",
      "WARNING:sim.faas.system:retry scheduling pod pod-resnet50-inference-25\n",
      "WARNING:sim.faas.system:retry scheduling pod pod-resnet50-inference-26\n",
      "WARNING:sim.faas.system:retry scheduling pod pod-resnet50-inference-27\n",
      "WARNING:sim.faas.system:retry scheduling pod pod-resnet50-inference-28\n",
      "WARNING:sim.faas.system:retry scheduling pod pod-resnet50-inference-29\n",
      "WARNING:sim.faas.system:retry scheduling pod pod-resnet50-inference-30\n",
      "WARNING:sim.faas.system:retry scheduling pod pod-resnet50-inference-31\n",
      "WARNING:sim.faas.system:retry scheduling pod pod-resnet50-inference-32\n",
      "WARNING:sim.faas.system:retry scheduling pod pod-resnet50-inference-33\n",
      "WARNING:sim.faas.system:retry scheduling pod pod-resnet50-inference-34\n",
      "WARNING:sim.faas.system:retry scheduling pod pod-resnet50-training-21\n",
      "WARNING:sim.faas.system:retry scheduling pod pod-resnet50-inference-35\n",
      "WARNING:sim.faas.system:retry scheduling pod pod-resnet50-training-22\n",
      "WARNING:sim.faas.system:retry scheduling pod pod-resnet50-inference-36\n",
      "WARNING:sim.faas.system:retry scheduling pod pod-resnet50-training-23\n",
      "WARNING:sim.faas.system:retry scheduling pod pod-resnet50-inference-37\n",
      "WARNING:sim.faas.system:retry scheduling pod pod-resnet50-training-24\n",
      "WARNING:sim.faas.system:retry scheduling pod pod-resnet50-inference-38\n",
      "WARNING:sim.faas.system:retry scheduling pod pod-resnet50-inference-39\n",
      "WARNING:sim.faas.system:retry scheduling pod pod-resnet50-inference-40\n",
      "WARNING:sim.faas.system:retry scheduling pod pod-resnet50-inference-41\n",
      "WARNING:sim.faas.system:retry scheduling pod pod-resnet50-inference-42\n",
      "WARNING:sim.faas.system:retry scheduling pod pod-resnet50-inference-43\n",
      "WARNING:sim.faas.system:retry scheduling pod pod-resnet50-inference-44\n",
      "WARNING:sim.faas.system:retry scheduling pod pod-resnet50-inference-45\n",
      "WARNING:sim.faas.system:retry scheduling pod pod-resnet50-inference-46\n",
      "WARNING:sim.faas.system:retry scheduling pod pod-resnet50-inference-47\n",
      "WARNING:sim.faas.system:retry scheduling pod pod-resnet50-inference-48\n",
      "WARNING:sim.faas.system:retry scheduling pod pod-resnet50-inference-49\n",
      "WARNING:sim.faas.system:retry scheduling pod pod-resnet50-inference-50\n",
      "WARNING:sim.faas.system:retry scheduling pod pod-resnet50-inference-51\n",
      "INFO:sim.faas.system:pod pod-resnet50-training-25 was scheduled to nuc_1\n",
      "INFO:sim.faas.system:pod pod-resnet50-inference-52 was scheduled to rpi3_0\n",
      "INFO:sim.faas.system:pod pod-resnet50-training-26 was scheduled to nuc_3\n",
      "INFO:sim.faas.system:pod pod-resnet50-inference-53 was scheduled to rpi3_1\n",
      "INFO:sim.faas.system:pod pod-resnet50-training-27 was scheduled to nuc_5\n",
      "INFO:sim.faas.system:pod pod-resnet50-inference-54 was scheduled to rpi3_2\n",
      "INFO:sim.faas.system:pod pod-resnet50-training-28 was scheduled to nuc_7\n",
      "INFO:sim.faas.system:pod pod-resnet50-inference-55 was scheduled to coral_2\n",
      "INFO:sim.faas.system:pod pod-resnet50-inference-56 was scheduled to rpi4_4\n",
      "INFO:sim.faas.system:pod pod-resnet50-inference-57 was scheduled to rpi4_5\n",
      "INFO:sim.faas.system:pod pod-resnet50-inference-58 was scheduled to rpi3_3\n",
      "INFO:sim.faas.system:pod pod-resnet50-inference-59 was scheduled to rpi3_4\n",
      "INFO:sim.faas.system:pod pod-resnet50-inference-60 was scheduled to rpi3_5\n",
      "INFO:sim.faas.system:pod pod-resnet50-inference-61 was scheduled to rpi3_6\n",
      "INFO:sim.faas.system:pod pod-resnet50-inference-62 was scheduled to rpi3_7\n",
      "INFO:sim.faas.system:pod pod-resnet50-inference-63 was scheduled to rpi3_8\n",
      "INFO:sim.faas.system:pod pod-resnet50-inference-64 was scheduled to coral_0\n",
      "INFO:sim.faas.system:pod pod-resnet50-inference-65 was scheduled to rpi4_2\n",
      "INFO:sim.faas.system:pod pod-resnet50-inference-66 was scheduled to coral_1\n",
      "INFO:sim.faas.system:pod pod-resnet50-inference-67 was scheduled to rockpi_3\n",
      "INFO:sim.faas.system:pod pod-resnet50-inference-68 was scheduled to coral_2\n"
     ]
    },
    {
     "name": "stdout",
     "output_type": "stream",
     "text": [
      "alterted max replicas for resnet50-inference is 81\n",
      "function_factor was 1 and config.scale_max was 81\n",
      "alterted max replicas for resnet50-training is 20\n",
      "function_factor was 1 and config.scale_max was 20\n"
     ]
    },
    {
     "name": "stderr",
     "output_type": "stream",
     "text": [
      "INFO:sim.faas.system:scale down speech-inference by 13\n",
      "INFO:sim.faas.system:scale down mobilenet-inference by 16\n"
     ]
    },
    {
     "name": "stdout",
     "output_type": "stream",
     "text": [
      "alterted max replicas for resnet50-training is 20\n",
      "function_factor was 1 and config.scale_max was 20\n",
      "alterted max replicas for resnet50-inference is 81\n",
      "function_factor was 1 and config.scale_max was 81\n"
     ]
    },
    {
     "name": "stderr",
     "output_type": "stream",
     "text": [
      "INFO:sim.faas.system:pod pod-resnet50-inference-2 was scheduled to xeongpu_5\n",
      "INFO:sim.faas.system:pod pod-resnet50-training-2 was scheduled to nano_18\n",
      "INFO:sim.faas.system:pod pod-resnet50-inference-3 was scheduled to xeongpu_1\n",
      "INFO:sim.faas.system:pod pod-resnet50-training-3 was scheduled to nano_1\n",
      "INFO:sim.faas.system:pod pod-resnet50-inference-4 was scheduled to xeongpu_3\n",
      "INFO:sim.faas.system:pod pod-resnet50-training-4 was scheduled to nano_2\n",
      "INFO:sim.faas.system:pod pod-resnet50-inference-5 was scheduled to nx_3\n",
      "INFO:sim.faas.system:pod pod-resnet50-training-5 was scheduled to nano_3\n",
      "INFO:sim.faas.system:pod pod-resnet50-inference-6 was scheduled to nano_4\n",
      "INFO:sim.faas.system:pod pod-resnet50-training-6 was scheduled to nano_8\n",
      "INFO:sim.faas.system:pod pod-resnet50-inference-7 was scheduled to nano_9\n",
      "INFO:sim.faas.system:pod pod-resnet50-training-7 was scheduled to nano_7\n",
      "INFO:sim.faas.system:pod pod-resnet50-inference-8 was scheduled to nx_2\n",
      "INFO:sim.faas.system:pod pod-resnet50-training-8 was scheduled to nano_5\n",
      "INFO:sim.faas.system:pod pod-resnet50-inference-9 was scheduled to nano_13\n",
      "INFO:sim.faas.system:pod pod-resnet50-training-9 was scheduled to nano_0\n",
      "INFO:sim.faas.system:pod pod-resnet50-inference-10 was scheduled to nano_15\n",
      "INFO:sim.faas.system:pod pod-resnet50-training-10 was scheduled to nano_11\n",
      "INFO:sim.faas.system:pod pod-resnet50-inference-11 was scheduled to xeongpu_0\n",
      "INFO:sim.faas.system:pod pod-resnet50-training-11 was scheduled to nano_16\n",
      "INFO:sim.faas.system:pod pod-resnet50-inference-12 was scheduled to xeongpu_2\n",
      "INFO:sim.faas.system:pod pod-resnet50-training-12 was scheduled to nano_17\n",
      "INFO:sim.faas.system:pod pod-resnet50-inference-13 was scheduled to nx_1\n",
      "INFO:sim.faas.system:pod pod-resnet50-training-13 was scheduled to nano_14\n",
      "INFO:sim.faas.system:pod pod-resnet50-inference-14 was scheduled to tx2_0\n",
      "INFO:sim.faas.system:pod pod-resnet50-training-14 was scheduled to nano_12\n",
      "INFO:sim.faas.system:pod pod-resnet50-inference-15 was scheduled to tx2_2\n",
      "INFO:sim.faas.system:pod pod-resnet50-training-15 was scheduled to nano_10\n",
      "INFO:sim.faas.system:pod pod-resnet50-inference-16 was scheduled to tx2_1\n",
      "INFO:sim.faas.system:pod pod-resnet50-training-16 was scheduled to xeongpu_4\n",
      "INFO:sim.faas.system:pod pod-resnet50-inference-17 was scheduled to xeongpu_6\n",
      "WARNING:sim.faas.system:retry scheduling pod pod-resnet50-training-17\n",
      "WARNING:sim.faas.system:retry scheduling pod pod-resnet50-inference-18\n",
      "WARNING:sim.faas.system:retry scheduling pod pod-resnet50-training-18\n",
      "WARNING:sim.faas.system:retry scheduling pod pod-resnet50-inference-19\n",
      "WARNING:sim.faas.system:retry scheduling pod pod-resnet50-training-19\n",
      "WARNING:sim.faas.system:retry scheduling pod pod-resnet50-inference-20\n",
      "WARNING:sim.faas.system:retry scheduling pod pod-resnet50-training-20\n",
      "WARNING:sim.faas.system:retry scheduling pod pod-resnet50-inference-21\n",
      "WARNING:sim.faas.system:retry scheduling pod pod-resnet50-inference-22\n",
      "WARNING:sim.faas.system:retry scheduling pod pod-resnet50-inference-23\n",
      "WARNING:sim.faas.system:retry scheduling pod pod-resnet50-inference-24\n",
      "WARNING:sim.faas.system:retry scheduling pod pod-resnet50-inference-25\n",
      "WARNING:sim.faas.system:retry scheduling pod pod-resnet50-inference-26\n",
      "WARNING:sim.faas.system:retry scheduling pod pod-resnet50-inference-27\n",
      "WARNING:sim.faas.system:retry scheduling pod pod-resnet50-inference-28\n",
      "WARNING:sim.faas.system:retry scheduling pod pod-resnet50-inference-29\n",
      "WARNING:sim.faas.system:retry scheduling pod pod-resnet50-inference-30\n",
      "WARNING:sim.faas.system:retry scheduling pod pod-resnet50-inference-31\n",
      "WARNING:sim.faas.system:retry scheduling pod pod-resnet50-inference-32\n",
      "WARNING:sim.faas.system:retry scheduling pod pod-resnet50-inference-33\n",
      "WARNING:sim.faas.system:retry scheduling pod pod-resnet50-inference-34\n",
      "WARNING:sim.faas.system:retry scheduling pod pod-resnet50-training-21\n",
      "WARNING:sim.faas.system:retry scheduling pod pod-resnet50-inference-35\n",
      "WARNING:sim.faas.system:retry scheduling pod pod-resnet50-training-22\n",
      "WARNING:sim.faas.system:retry scheduling pod pod-resnet50-inference-36\n",
      "WARNING:sim.faas.system:retry scheduling pod pod-resnet50-training-23\n",
      "WARNING:sim.faas.system:retry scheduling pod pod-resnet50-inference-37\n",
      "WARNING:sim.faas.system:retry scheduling pod pod-resnet50-training-24\n",
      "WARNING:sim.faas.system:retry scheduling pod pod-resnet50-inference-38\n",
      "WARNING:sim.faas.system:retry scheduling pod pod-resnet50-inference-39\n",
      "WARNING:sim.faas.system:retry scheduling pod pod-resnet50-inference-40\n",
      "WARNING:sim.faas.system:retry scheduling pod pod-resnet50-inference-41\n",
      "WARNING:sim.faas.system:retry scheduling pod pod-resnet50-inference-42\n",
      "WARNING:sim.faas.system:retry scheduling pod pod-resnet50-inference-43\n",
      "WARNING:sim.faas.system:retry scheduling pod pod-resnet50-inference-44\n",
      "WARNING:sim.faas.system:retry scheduling pod pod-resnet50-inference-45\n",
      "WARNING:sim.faas.system:retry scheduling pod pod-resnet50-inference-46\n",
      "WARNING:sim.faas.system:retry scheduling pod pod-resnet50-inference-47\n",
      "WARNING:sim.faas.system:retry scheduling pod pod-resnet50-inference-48\n",
      "WARNING:sim.faas.system:retry scheduling pod pod-resnet50-inference-49\n",
      "WARNING:sim.faas.system:retry scheduling pod pod-resnet50-inference-50\n",
      "WARNING:sim.faas.system:retry scheduling pod pod-resnet50-inference-51\n",
      "INFO:sim.faas.system:pod pod-resnet50-training-25 was scheduled to nuc_1\n",
      "INFO:sim.faas.system:pod pod-resnet50-inference-52 was scheduled to rpi3_0\n",
      "INFO:sim.faas.system:pod pod-resnet50-training-26 was scheduled to nuc_3\n",
      "INFO:sim.faas.system:pod pod-resnet50-inference-53 was scheduled to rpi3_1\n",
      "INFO:sim.faas.system:pod pod-resnet50-training-27 was scheduled to nuc_5\n",
      "INFO:sim.faas.system:pod pod-resnet50-inference-54 was scheduled to rpi3_2\n",
      "INFO:sim.faas.system:pod pod-resnet50-training-28 was scheduled to nuc_7\n",
      "INFO:sim.faas.system:pod pod-resnet50-inference-55 was scheduled to coral_2\n",
      "INFO:sim.faas.system:pod pod-resnet50-inference-56 was scheduled to rpi4_4\n",
      "INFO:sim.faas.system:pod pod-resnet50-inference-57 was scheduled to rpi4_5\n",
      "INFO:sim.faas.system:pod pod-resnet50-inference-58 was scheduled to rpi3_3\n",
      "INFO:sim.faas.system:pod pod-resnet50-inference-59 was scheduled to rpi3_4\n",
      "INFO:sim.faas.system:pod pod-resnet50-inference-60 was scheduled to rpi3_5\n",
      "INFO:sim.faas.system:pod pod-resnet50-inference-61 was scheduled to rpi3_6\n",
      "INFO:sim.faas.system:pod pod-resnet50-inference-62 was scheduled to rpi3_7\n",
      "INFO:sim.faas.system:pod pod-resnet50-inference-63 was scheduled to rpi3_8\n",
      "INFO:sim.faas.system:pod pod-resnet50-inference-64 was scheduled to coral_0\n",
      "INFO:sim.faas.system:pod pod-resnet50-inference-65 was scheduled to rpi4_2\n",
      "INFO:sim.faas.system:pod pod-resnet50-inference-66 was scheduled to coral_1\n",
      "INFO:sim.faas.system:pod pod-resnet50-inference-67 was scheduled to rockpi_3\n",
      "INFO:sim.faas.system:pod pod-resnet50-inference-68 was scheduled to coral_2\n",
      "INFO:sim.faas.system:scale down speech-inference by 6\n",
      "INFO:sim.faas.system:scale down mobilenet-inference by 8\n"
     ]
    },
    {
     "name": "stdout",
     "output_type": "stream",
     "text": [
      "alterted max replicas for resnet50-inference is 81\n",
      "function_factor was 1 and config.scale_max was 81\n",
      "alterted max replicas for resnet50-inference is 81\n",
      "function_factor was 1 and config.scale_max was 81\n"
     ]
    },
    {
     "name": "stderr",
     "output_type": "stream",
     "text": [
      "WARNING:sim.faas.system:retry scheduling pod pod-resnet50-inference-69\n",
      "WARNING:sim.faas.system:retry scheduling pod pod-resnet50-inference-70\n",
      "WARNING:sim.faas.system:retry scheduling pod pod-resnet50-inference-71\n",
      "WARNING:sim.faas.system:retry scheduling pod pod-resnet50-inference-72\n",
      "WARNING:sim.faas.system:retry scheduling pod pod-resnet50-inference-73\n",
      "WARNING:sim.faas.system:retry scheduling pod pod-resnet50-inference-74\n",
      "WARNING:sim.faas.system:retry scheduling pod pod-resnet50-inference-75\n",
      "WARNING:sim.faas.system:retry scheduling pod pod-resnet50-inference-76\n",
      "WARNING:sim.faas.system:retry scheduling pod pod-resnet50-inference-77\n",
      "WARNING:sim.faas.system:retry scheduling pod pod-resnet50-inference-78\n",
      "WARNING:sim.faas.system:retry scheduling pod pod-resnet50-inference-79\n",
      "WARNING:sim.faas.system:retry scheduling pod pod-resnet50-inference-80\n",
      "WARNING:sim.faas.system:retry scheduling pod pod-resnet50-inference-81\n",
      "WARNING:sim.faas.system:retry scheduling pod pod-resnet50-inference-82\n",
      "WARNING:sim.faas.system:retry scheduling pod pod-resnet50-inference-83\n",
      "WARNING:sim.faas.system:retry scheduling pod pod-resnet50-inference-84\n",
      "WARNING:sim.faas.system:retry scheduling pod pod-resnet50-inference-85\n",
      "WARNING:sim.faas.system:retry scheduling pod pod-resnet50-inference-86\n",
      "WARNING:sim.faas.system:retry scheduling pod pod-resnet50-inference-87\n",
      "WARNING:sim.faas.system:retry scheduling pod pod-resnet50-inference-88\n",
      "WARNING:sim.faas.system:retry scheduling pod pod-resnet50-inference-89\n",
      "WARNING:sim.faas.system:retry scheduling pod pod-resnet50-inference-90\n",
      "WARNING:sim.faas.system:retry scheduling pod pod-resnet50-inference-91\n",
      "WARNING:sim.faas.system:retry scheduling pod pod-resnet50-inference-92\n",
      "WARNING:sim.faas.system:retry scheduling pod pod-resnet50-inference-93\n",
      "WARNING:sim.faas.system:retry scheduling pod pod-resnet50-inference-94\n",
      "WARNING:sim.faas.system:retry scheduling pod pod-resnet50-inference-95\n",
      "WARNING:sim.faas.system:retry scheduling pod pod-resnet50-inference-96\n",
      "WARNING:sim.faas.system:retry scheduling pod pod-resnet50-inference-97\n",
      "WARNING:sim.faas.system:retry scheduling pod pod-resnet50-inference-98\n",
      "WARNING:sim.faas.system:retry scheduling pod pod-resnet50-inference-99\n",
      "WARNING:sim.faas.system:retry scheduling pod pod-resnet50-inference-100\n",
      "WARNING:sim.faas.system:retry scheduling pod pod-resnet50-inference-101\n",
      "WARNING:sim.faas.system:retry scheduling pod pod-resnet50-inference-102\n",
      "WARNING:sim.faas.system:retry scheduling pod pod-resnet50-inference-103\n",
      "WARNING:sim.faas.system:retry scheduling pod pod-resnet50-inference-104\n",
      "WARNING:sim.faas.system:retry scheduling pod pod-resnet50-inference-105\n",
      "WARNING:sim.faas.system:retry scheduling pod pod-resnet50-inference-106\n",
      "WARNING:sim.faas.system:retry scheduling pod pod-resnet50-inference-107\n",
      "WARNING:sim.faas.system:retry scheduling pod pod-resnet50-inference-108\n",
      "WARNING:sim.faas.system:retry scheduling pod pod-resnet50-inference-109\n",
      "WARNING:sim.faas.system:retry scheduling pod pod-resnet50-inference-110\n",
      "WARNING:sim.faas.system:retry scheduling pod pod-resnet50-inference-111\n",
      "WARNING:sim.faas.system:retry scheduling pod pod-resnet50-inference-112\n",
      "WARNING:sim.faas.system:retry scheduling pod pod-resnet50-inference-113\n",
      "WARNING:sim.faas.system:retry scheduling pod pod-resnet50-inference-114\n",
      "WARNING:sim.faas.system:retry scheduling pod pod-resnet50-inference-115\n",
      "WARNING:sim.faas.system:retry scheduling pod pod-resnet50-inference-116\n",
      "WARNING:sim.faas.system:retry scheduling pod pod-resnet50-inference-117\n",
      "WARNING:sim.faas.system:retry scheduling pod pod-resnet50-inference-118\n",
      "WARNING:sim.faas.system:retry scheduling pod pod-resnet50-inference-119\n",
      "WARNING:sim.faas.system:retry scheduling pod pod-resnet50-inference-120\n",
      "WARNING:sim.faas.system:retry scheduling pod pod-resnet50-inference-121\n",
      "WARNING:sim.faas.system:retry scheduling pod pod-resnet50-inference-122\n",
      "WARNING:sim.faas.system:retry scheduling pod pod-resnet50-inference-123\n",
      "WARNING:sim.faas.system:retry scheduling pod pod-resnet50-inference-124\n",
      "WARNING:sim.faas.system:retry scheduling pod pod-resnet50-inference-125\n",
      "WARNING:sim.faas.system:retry scheduling pod pod-resnet50-inference-126\n",
      "WARNING:sim.faas.system:retry scheduling pod pod-resnet50-inference-127\n",
      "WARNING:sim.faas.system:retry scheduling pod pod-resnet50-inference-128\n",
      "WARNING:sim.faas.system:retry scheduling pod pod-resnet50-inference-129\n",
      "WARNING:sim.faas.system:retry scheduling pod pod-resnet50-inference-130\n",
      "WARNING:sim.faas.system:retry scheduling pod pod-resnet50-inference-131\n",
      "WARNING:sim.faas.system:retry scheduling pod pod-resnet50-inference-132\n",
      "INFO:sim.faas.system:pod pod-resnet50-inference-133 was scheduled to coral_0\n",
      "INFO:sim.faas.system:pod pod-resnet50-inference-134 was scheduled to coral_1\n",
      "INFO:sim.faas.system:pod pod-resnet50-inference-135 was scheduled to nano_4\n",
      "INFO:sim.faas.system:pod pod-resnet50-inference-136 was scheduled to rockpi_4\n",
      "INFO:sim.faas.system:pod pod-resnet50-inference-137 was scheduled to rockpi_4\n",
      "INFO:sim.faas.system:pod pod-resnet50-inference-138 was scheduled to rpi3_0\n",
      "INFO:sim.faas.system:pod pod-resnet50-inference-139 was scheduled to rpi3_1\n",
      "INFO:sim.faas.system:pod pod-resnet50-inference-140 was scheduled to rpi3_2\n",
      "INFO:sim.faas.system:pod pod-resnet50-inference-141 was scheduled to nano_8\n",
      "INFO:sim.faas.system:pod pod-resnet50-inference-142 was scheduled to rpi4_4\n",
      "INFO:sim.faas.system:pod pod-resnet50-inference-143 was scheduled to rpi4_5\n",
      "INFO:sim.faas.system:pod pod-resnet50-inference-144 was scheduled to rpi3_3\n",
      "INFO:sim.faas.system:pod pod-resnet50-inference-145 was scheduled to rpi3_4\n",
      "INFO:sim.faas.system:pod pod-resnet50-inference-146 was scheduled to rpi3_5\n",
      "INFO:sim.faas.system:pod pod-resnet50-inference-147 was scheduled to rpi3_6\n",
      "INFO:sim.faas.system:pod pod-resnet50-inference-148 was scheduled to rpi3_7\n",
      "INFO:sim.faas.system:pod pod-resnet50-inference-149 was scheduled to rpi3_8\n",
      "INFO:sim.faas.system:pod pod-resnet50-inference-150 was scheduled to rpi4_2\n",
      "INFO:sim.faas.system:pod pod-resnet50-inference-151 was scheduled to nano_9\n",
      "INFO:sim.faas.system:pod pod-resnet50-inference-152 was scheduled to nano_7\n",
      "INFO:sim.faas.system:pod pod-resnet50-inference-153 was scheduled to xeoncpu_25\n",
      "INFO:sim.faas.system:pod pod-resnet50-inference-154 was scheduled to xeoncpu_25\n",
      "INFO:sim.faas.system:pod pod-resnet50-inference-155 was scheduled to xeoncpu_25\n",
      "INFO:sim.faas.system:pod pod-resnet50-inference-156 was scheduled to xeoncpu_26\n",
      "INFO:sim.faas.system:pod pod-resnet50-inference-157 was scheduled to xeoncpu_26\n",
      "INFO:sim.faas.system:pod pod-resnet50-inference-158 was scheduled to xeoncpu_26\n",
      "INFO:sim.faas.system:pod pod-resnet50-inference-159 was scheduled to xeoncpu_27\n",
      "INFO:sim.faas.system:pod pod-resnet50-inference-160 was scheduled to xeoncpu_27\n",
      "INFO:sim.faas.system:pod pod-resnet50-inference-161 was scheduled to xeoncpu_27\n",
      "INFO:sim.faas.system:pod pod-resnet50-inference-162 was scheduled to nuc_0\n",
      "INFO:sim.faas.system:pod pod-resnet50-inference-163 was scheduled to nuc_0\n",
      "INFO:sim.faas.system:pod pod-resnet50-inference-164 was scheduled to nuc_0\n",
      "INFO:sim.faas.system:scale down speech-inference by 6\n",
      "INFO:sim.faas.system:scale down mobilenet-inference by 8\n"
     ]
    },
    {
     "name": "stdout",
     "output_type": "stream",
     "text": [
      "alterted max replicas for resnet50-inference is 81\n",
      "function_factor was 1 and config.scale_max was 81\n",
      "alterted max replicas for resnet50-inference is 81\n",
      "function_factor was 1 and config.scale_max was 81\n"
     ]
    },
    {
     "name": "stderr",
     "output_type": "stream",
     "text": [
      "WARNING:sim.faas.system:retry scheduling pod pod-resnet50-inference-69\n",
      "WARNING:sim.faas.system:retry scheduling pod pod-resnet50-inference-70\n",
      "WARNING:sim.faas.system:retry scheduling pod pod-resnet50-inference-71\n",
      "WARNING:sim.faas.system:retry scheduling pod pod-resnet50-inference-72\n",
      "WARNING:sim.faas.system:retry scheduling pod pod-resnet50-inference-73\n",
      "WARNING:sim.faas.system:retry scheduling pod pod-resnet50-inference-74\n",
      "WARNING:sim.faas.system:retry scheduling pod pod-resnet50-inference-75\n",
      "WARNING:sim.faas.system:retry scheduling pod pod-resnet50-inference-76\n",
      "WARNING:sim.faas.system:retry scheduling pod pod-resnet50-inference-77\n",
      "WARNING:sim.faas.system:retry scheduling pod pod-resnet50-inference-78\n",
      "WARNING:sim.faas.system:retry scheduling pod pod-resnet50-inference-79\n",
      "WARNING:sim.faas.system:retry scheduling pod pod-resnet50-inference-80\n",
      "WARNING:sim.faas.system:retry scheduling pod pod-resnet50-inference-81\n",
      "WARNING:sim.faas.system:retry scheduling pod pod-resnet50-inference-82\n",
      "WARNING:sim.faas.system:retry scheduling pod pod-resnet50-inference-83\n",
      "WARNING:sim.faas.system:retry scheduling pod pod-resnet50-inference-84\n",
      "WARNING:sim.faas.system:retry scheduling pod pod-resnet50-inference-85\n",
      "WARNING:sim.faas.system:retry scheduling pod pod-resnet50-inference-86\n",
      "WARNING:sim.faas.system:retry scheduling pod pod-resnet50-inference-87\n",
      "WARNING:sim.faas.system:retry scheduling pod pod-resnet50-inference-88\n",
      "WARNING:sim.faas.system:retry scheduling pod pod-resnet50-inference-89\n",
      "WARNING:sim.faas.system:retry scheduling pod pod-resnet50-inference-90\n",
      "WARNING:sim.faas.system:retry scheduling pod pod-resnet50-inference-91\n",
      "WARNING:sim.faas.system:retry scheduling pod pod-resnet50-inference-92\n",
      "WARNING:sim.faas.system:retry scheduling pod pod-resnet50-inference-93\n",
      "WARNING:sim.faas.system:retry scheduling pod pod-resnet50-inference-94\n",
      "WARNING:sim.faas.system:retry scheduling pod pod-resnet50-inference-95\n",
      "WARNING:sim.faas.system:retry scheduling pod pod-resnet50-inference-96\n",
      "WARNING:sim.faas.system:retry scheduling pod pod-resnet50-inference-97\n",
      "WARNING:sim.faas.system:retry scheduling pod pod-resnet50-inference-98\n",
      "WARNING:sim.faas.system:retry scheduling pod pod-resnet50-inference-99\n",
      "WARNING:sim.faas.system:retry scheduling pod pod-resnet50-inference-100\n",
      "WARNING:sim.faas.system:retry scheduling pod pod-resnet50-inference-101\n",
      "WARNING:sim.faas.system:retry scheduling pod pod-resnet50-inference-102\n",
      "WARNING:sim.faas.system:retry scheduling pod pod-resnet50-inference-103\n",
      "WARNING:sim.faas.system:retry scheduling pod pod-resnet50-inference-104\n",
      "WARNING:sim.faas.system:retry scheduling pod pod-resnet50-inference-105\n",
      "WARNING:sim.faas.system:retry scheduling pod pod-resnet50-inference-106\n",
      "WARNING:sim.faas.system:retry scheduling pod pod-resnet50-inference-107\n",
      "WARNING:sim.faas.system:retry scheduling pod pod-resnet50-inference-108\n",
      "WARNING:sim.faas.system:retry scheduling pod pod-resnet50-inference-109\n",
      "WARNING:sim.faas.system:retry scheduling pod pod-resnet50-inference-110\n",
      "WARNING:sim.faas.system:retry scheduling pod pod-resnet50-inference-111\n",
      "WARNING:sim.faas.system:retry scheduling pod pod-resnet50-inference-112\n",
      "WARNING:sim.faas.system:retry scheduling pod pod-resnet50-inference-113\n",
      "WARNING:sim.faas.system:retry scheduling pod pod-resnet50-inference-114\n",
      "WARNING:sim.faas.system:retry scheduling pod pod-resnet50-inference-115\n",
      "WARNING:sim.faas.system:retry scheduling pod pod-resnet50-inference-116\n",
      "WARNING:sim.faas.system:retry scheduling pod pod-resnet50-inference-117\n",
      "WARNING:sim.faas.system:retry scheduling pod pod-resnet50-inference-118\n",
      "WARNING:sim.faas.system:retry scheduling pod pod-resnet50-inference-119\n",
      "WARNING:sim.faas.system:retry scheduling pod pod-resnet50-inference-120\n",
      "WARNING:sim.faas.system:retry scheduling pod pod-resnet50-inference-121\n",
      "WARNING:sim.faas.system:retry scheduling pod pod-resnet50-inference-122\n",
      "WARNING:sim.faas.system:retry scheduling pod pod-resnet50-inference-123\n",
      "WARNING:sim.faas.system:retry scheduling pod pod-resnet50-inference-124\n",
      "WARNING:sim.faas.system:retry scheduling pod pod-resnet50-inference-125\n",
      "WARNING:sim.faas.system:retry scheduling pod pod-resnet50-inference-126\n",
      "WARNING:sim.faas.system:retry scheduling pod pod-resnet50-inference-127\n",
      "WARNING:sim.faas.system:retry scheduling pod pod-resnet50-inference-128\n",
      "WARNING:sim.faas.system:retry scheduling pod pod-resnet50-inference-129\n",
      "WARNING:sim.faas.system:retry scheduling pod pod-resnet50-inference-130\n",
      "WARNING:sim.faas.system:retry scheduling pod pod-resnet50-inference-131\n",
      "WARNING:sim.faas.system:retry scheduling pod pod-resnet50-inference-132\n",
      "INFO:sim.faas.system:pod pod-resnet50-inference-133 was scheduled to coral_0\n",
      "INFO:sim.faas.system:pod pod-resnet50-inference-134 was scheduled to coral_1\n",
      "INFO:sim.faas.system:pod pod-resnet50-inference-135 was scheduled to nano_4\n",
      "INFO:sim.faas.system:pod pod-resnet50-inference-136 was scheduled to rockpi_4\n",
      "INFO:sim.faas.system:pod pod-resnet50-inference-137 was scheduled to rockpi_4\n",
      "INFO:sim.faas.system:pod pod-resnet50-inference-138 was scheduled to rpi3_0\n",
      "INFO:sim.faas.system:pod pod-resnet50-inference-139 was scheduled to rpi3_1\n",
      "INFO:sim.faas.system:pod pod-resnet50-inference-140 was scheduled to rpi3_2\n",
      "INFO:sim.faas.system:pod pod-resnet50-inference-141 was scheduled to nano_8\n",
      "INFO:sim.faas.system:pod pod-resnet50-inference-142 was scheduled to rpi4_4\n",
      "INFO:sim.faas.system:pod pod-resnet50-inference-143 was scheduled to rpi4_5\n",
      "INFO:sim.faas.system:pod pod-resnet50-inference-144 was scheduled to rpi3_3\n",
      "INFO:sim.faas.system:pod pod-resnet50-inference-145 was scheduled to rpi3_4\n",
      "INFO:sim.faas.system:pod pod-resnet50-inference-146 was scheduled to rpi3_5\n",
      "INFO:sim.faas.system:pod pod-resnet50-inference-147 was scheduled to rpi3_6\n",
      "INFO:sim.faas.system:pod pod-resnet50-inference-148 was scheduled to rpi3_7\n",
      "INFO:sim.faas.system:pod pod-resnet50-inference-149 was scheduled to rpi3_8\n",
      "INFO:sim.faas.system:pod pod-resnet50-inference-150 was scheduled to rpi4_2\n",
      "INFO:sim.faas.system:pod pod-resnet50-inference-151 was scheduled to nano_9\n",
      "INFO:sim.faas.system:pod pod-resnet50-inference-152 was scheduled to nano_7\n",
      "INFO:sim.faas.system:pod pod-resnet50-inference-153 was scheduled to xeoncpu_25\n",
      "INFO:sim.faas.system:pod pod-resnet50-inference-154 was scheduled to xeoncpu_25\n",
      "INFO:sim.faas.system:pod pod-resnet50-inference-155 was scheduled to xeoncpu_25\n",
      "INFO:sim.faas.system:pod pod-resnet50-inference-156 was scheduled to xeoncpu_26\n",
      "INFO:sim.faas.system:pod pod-resnet50-inference-157 was scheduled to xeoncpu_26\n",
      "INFO:sim.faas.system:pod pod-resnet50-inference-158 was scheduled to xeoncpu_26\n",
      "INFO:sim.faas.system:pod pod-resnet50-inference-159 was scheduled to xeoncpu_27\n",
      "INFO:sim.faas.system:pod pod-resnet50-inference-160 was scheduled to xeoncpu_27\n",
      "INFO:sim.faas.system:pod pod-resnet50-inference-161 was scheduled to xeoncpu_27\n",
      "INFO:sim.faas.system:pod pod-resnet50-inference-162 was scheduled to nuc_0\n",
      "INFO:sim.faas.system:pod pod-resnet50-inference-163 was scheduled to nuc_0\n",
      "INFO:sim.faas.system:pod pod-resnet50-inference-164 was scheduled to nuc_0\n"
     ]
    },
    {
     "name": "stdout",
     "output_type": "stream",
     "text": [
      "alterted max replicas for resnet50-inference is 81\n",
      "function_factor was 1 and config.scale_max was 81\n",
      "alterted max replicas for resnet50-training is 20\n",
      "function_factor was 1 and config.scale_max was 20\n"
     ]
    },
    {
     "name": "stderr",
     "output_type": "stream",
     "text": [
      "INFO:sim.faas.system:scale down speech-inference by 13\n",
      "INFO:sim.faas.system:scale down mobilenet-inference by 16\n"
     ]
    },
    {
     "name": "stdout",
     "output_type": "stream",
     "text": [
      "alterted max replicas for resnet50-training is 20\n",
      "function_factor was 1 and config.scale_max was 20\n",
      "alterted max replicas for resnet50-inference is 81\n",
      "function_factor was 1 and config.scale_max was 81\n"
     ]
    },
    {
     "name": "stderr",
     "output_type": "stream",
     "text": [
      "INFO:sim.faas.system:pod pod-resnet50-inference-2 was scheduled to xeongpu_5\n",
      "INFO:sim.faas.system:pod pod-resnet50-training-2 was scheduled to nano_18\n",
      "INFO:sim.faas.system:pod pod-resnet50-inference-3 was scheduled to xeongpu_1\n",
      "INFO:sim.faas.system:pod pod-resnet50-training-3 was scheduled to nano_1\n",
      "INFO:sim.faas.system:pod pod-resnet50-inference-4 was scheduled to xeongpu_3\n",
      "INFO:sim.faas.system:pod pod-resnet50-training-4 was scheduled to nano_2\n",
      "INFO:sim.faas.system:pod pod-resnet50-inference-5 was scheduled to nx_3\n",
      "INFO:sim.faas.system:pod pod-resnet50-training-5 was scheduled to nano_3\n",
      "INFO:sim.faas.system:pod pod-resnet50-inference-6 was scheduled to nano_4\n",
      "INFO:sim.faas.system:pod pod-resnet50-training-6 was scheduled to nano_8\n",
      "INFO:sim.faas.system:pod pod-resnet50-inference-7 was scheduled to nano_9\n",
      "INFO:sim.faas.system:pod pod-resnet50-training-7 was scheduled to nano_7\n",
      "INFO:sim.faas.system:pod pod-resnet50-inference-8 was scheduled to nx_2\n",
      "INFO:sim.faas.system:pod pod-resnet50-training-8 was scheduled to nano_5\n",
      "INFO:sim.faas.system:pod pod-resnet50-inference-9 was scheduled to nano_13\n",
      "INFO:sim.faas.system:pod pod-resnet50-training-9 was scheduled to nano_0\n",
      "INFO:sim.faas.system:pod pod-resnet50-inference-10 was scheduled to nano_15\n",
      "INFO:sim.faas.system:pod pod-resnet50-training-10 was scheduled to nano_11\n",
      "INFO:sim.faas.system:pod pod-resnet50-inference-11 was scheduled to xeongpu_0\n",
      "INFO:sim.faas.system:pod pod-resnet50-training-11 was scheduled to nano_16\n",
      "INFO:sim.faas.system:pod pod-resnet50-inference-12 was scheduled to xeongpu_2\n",
      "INFO:sim.faas.system:pod pod-resnet50-training-12 was scheduled to nano_17\n",
      "INFO:sim.faas.system:pod pod-resnet50-inference-13 was scheduled to nx_1\n",
      "INFO:sim.faas.system:pod pod-resnet50-training-13 was scheduled to nano_14\n",
      "INFO:sim.faas.system:pod pod-resnet50-inference-14 was scheduled to tx2_0\n",
      "INFO:sim.faas.system:pod pod-resnet50-training-14 was scheduled to nano_12\n",
      "INFO:sim.faas.system:pod pod-resnet50-inference-15 was scheduled to tx2_2\n",
      "INFO:sim.faas.system:pod pod-resnet50-training-15 was scheduled to nano_10\n",
      "INFO:sim.faas.system:pod pod-resnet50-inference-16 was scheduled to tx2_1\n",
      "INFO:sim.faas.system:pod pod-resnet50-training-16 was scheduled to xeongpu_4\n",
      "INFO:sim.faas.system:pod pod-resnet50-inference-17 was scheduled to xeongpu_6\n",
      "WARNING:sim.faas.system:retry scheduling pod pod-resnet50-training-17\n",
      "WARNING:sim.faas.system:retry scheduling pod pod-resnet50-inference-18\n",
      "WARNING:sim.faas.system:retry scheduling pod pod-resnet50-training-18\n",
      "WARNING:sim.faas.system:retry scheduling pod pod-resnet50-inference-19\n",
      "WARNING:sim.faas.system:retry scheduling pod pod-resnet50-training-19\n",
      "WARNING:sim.faas.system:retry scheduling pod pod-resnet50-inference-20\n",
      "WARNING:sim.faas.system:retry scheduling pod pod-resnet50-training-20\n",
      "WARNING:sim.faas.system:retry scheduling pod pod-resnet50-inference-21\n",
      "WARNING:sim.faas.system:retry scheduling pod pod-resnet50-inference-22\n",
      "WARNING:sim.faas.system:retry scheduling pod pod-resnet50-inference-23\n",
      "WARNING:sim.faas.system:retry scheduling pod pod-resnet50-inference-24\n",
      "WARNING:sim.faas.system:retry scheduling pod pod-resnet50-inference-25\n",
      "WARNING:sim.faas.system:retry scheduling pod pod-resnet50-inference-26\n",
      "WARNING:sim.faas.system:retry scheduling pod pod-resnet50-inference-27\n",
      "WARNING:sim.faas.system:retry scheduling pod pod-resnet50-inference-28\n",
      "WARNING:sim.faas.system:retry scheduling pod pod-resnet50-inference-29\n",
      "WARNING:sim.faas.system:retry scheduling pod pod-resnet50-inference-30\n",
      "WARNING:sim.faas.system:retry scheduling pod pod-resnet50-inference-31\n",
      "WARNING:sim.faas.system:retry scheduling pod pod-resnet50-inference-32\n",
      "WARNING:sim.faas.system:retry scheduling pod pod-resnet50-inference-33\n",
      "WARNING:sim.faas.system:retry scheduling pod pod-resnet50-inference-34\n",
      "WARNING:sim.faas.system:retry scheduling pod pod-resnet50-training-21\n",
      "WARNING:sim.faas.system:retry scheduling pod pod-resnet50-inference-35\n",
      "WARNING:sim.faas.system:retry scheduling pod pod-resnet50-training-22\n",
      "WARNING:sim.faas.system:retry scheduling pod pod-resnet50-inference-36\n",
      "WARNING:sim.faas.system:retry scheduling pod pod-resnet50-training-23\n",
      "WARNING:sim.faas.system:retry scheduling pod pod-resnet50-inference-37\n",
      "WARNING:sim.faas.system:retry scheduling pod pod-resnet50-training-24\n",
      "WARNING:sim.faas.system:retry scheduling pod pod-resnet50-inference-38\n",
      "WARNING:sim.faas.system:retry scheduling pod pod-resnet50-inference-39\n",
      "WARNING:sim.faas.system:retry scheduling pod pod-resnet50-inference-40\n",
      "WARNING:sim.faas.system:retry scheduling pod pod-resnet50-inference-41\n",
      "WARNING:sim.faas.system:retry scheduling pod pod-resnet50-inference-42\n",
      "WARNING:sim.faas.system:retry scheduling pod pod-resnet50-inference-43\n",
      "WARNING:sim.faas.system:retry scheduling pod pod-resnet50-inference-44\n",
      "WARNING:sim.faas.system:retry scheduling pod pod-resnet50-inference-45\n",
      "WARNING:sim.faas.system:retry scheduling pod pod-resnet50-inference-46\n",
      "WARNING:sim.faas.system:retry scheduling pod pod-resnet50-inference-47\n",
      "WARNING:sim.faas.system:retry scheduling pod pod-resnet50-inference-48\n",
      "WARNING:sim.faas.system:retry scheduling pod pod-resnet50-inference-49\n",
      "WARNING:sim.faas.system:retry scheduling pod pod-resnet50-inference-50\n",
      "WARNING:sim.faas.system:retry scheduling pod pod-resnet50-inference-51\n",
      "INFO:sim.faas.system:pod pod-resnet50-training-25 was scheduled to nuc_1\n",
      "INFO:sim.faas.system:pod pod-resnet50-inference-52 was scheduled to rpi3_0\n",
      "INFO:sim.faas.system:pod pod-resnet50-training-26 was scheduled to nuc_3\n",
      "INFO:sim.faas.system:pod pod-resnet50-inference-53 was scheduled to rpi3_1\n",
      "INFO:sim.faas.system:pod pod-resnet50-training-27 was scheduled to nuc_5\n",
      "INFO:sim.faas.system:pod pod-resnet50-inference-54 was scheduled to rpi3_2\n",
      "INFO:sim.faas.system:pod pod-resnet50-training-28 was scheduled to nuc_7\n",
      "INFO:sim.faas.system:pod pod-resnet50-inference-55 was scheduled to coral_2\n",
      "INFO:sim.faas.system:pod pod-resnet50-inference-56 was scheduled to rpi4_4\n",
      "INFO:sim.faas.system:pod pod-resnet50-inference-57 was scheduled to rpi4_5\n",
      "INFO:sim.faas.system:pod pod-resnet50-inference-58 was scheduled to rpi3_3\n",
      "INFO:sim.faas.system:pod pod-resnet50-inference-59 was scheduled to rpi3_4\n",
      "INFO:sim.faas.system:pod pod-resnet50-inference-60 was scheduled to rpi3_5\n",
      "INFO:sim.faas.system:pod pod-resnet50-inference-61 was scheduled to rpi3_6\n",
      "INFO:sim.faas.system:pod pod-resnet50-inference-62 was scheduled to rpi3_7\n",
      "INFO:sim.faas.system:pod pod-resnet50-inference-63 was scheduled to rpi3_8\n",
      "INFO:sim.faas.system:pod pod-resnet50-inference-64 was scheduled to coral_0\n",
      "INFO:sim.faas.system:pod pod-resnet50-inference-65 was scheduled to rpi4_2\n",
      "INFO:sim.faas.system:pod pod-resnet50-inference-66 was scheduled to coral_1\n",
      "INFO:sim.faas.system:pod pod-resnet50-inference-67 was scheduled to rockpi_3\n",
      "INFO:sim.faas.system:pod pod-resnet50-inference-68 was scheduled to coral_2\n"
     ]
    },
    {
     "name": "stdout",
     "output_type": "stream",
     "text": [
      "alterted max replicas for resnet50-inference is 81\n",
      "function_factor was 1 and config.scale_max was 81\n",
      "alterted max replicas for resnet50-training is 20\n",
      "function_factor was 1 and config.scale_max was 20\n"
     ]
    },
    {
     "name": "stderr",
     "output_type": "stream",
     "text": [
      "INFO:sim.faas.system:scale down speech-inference by 13\n",
      "INFO:sim.faas.system:scale down mobilenet-inference by 16\n"
     ]
    },
    {
     "name": "stdout",
     "output_type": "stream",
     "text": [
      "alterted max replicas for resnet50-training is 20\n",
      "function_factor was 1 and config.scale_max was 20\n",
      "alterted max replicas for resnet50-inference is 81\n",
      "function_factor was 1 and config.scale_max was 81\n"
     ]
    },
    {
     "name": "stderr",
     "output_type": "stream",
     "text": [
      "INFO:sim.faas.system:pod pod-resnet50-inference-2 was scheduled to xeongpu_5\n",
      "INFO:sim.faas.system:pod pod-resnet50-training-2 was scheduled to nano_18\n",
      "INFO:sim.faas.system:pod pod-resnet50-inference-3 was scheduled to xeongpu_1\n",
      "INFO:sim.faas.system:pod pod-resnet50-training-3 was scheduled to nano_1\n",
      "INFO:sim.faas.system:pod pod-resnet50-inference-4 was scheduled to xeongpu_3\n",
      "INFO:sim.faas.system:pod pod-resnet50-training-4 was scheduled to nano_2\n",
      "INFO:sim.faas.system:pod pod-resnet50-inference-5 was scheduled to nx_3\n",
      "INFO:sim.faas.system:pod pod-resnet50-training-5 was scheduled to nano_3\n",
      "INFO:sim.faas.system:pod pod-resnet50-inference-6 was scheduled to nano_4\n",
      "INFO:sim.faas.system:pod pod-resnet50-training-6 was scheduled to nano_8\n",
      "INFO:sim.faas.system:pod pod-resnet50-inference-7 was scheduled to nano_9\n",
      "INFO:sim.faas.system:pod pod-resnet50-training-7 was scheduled to nano_7\n",
      "INFO:sim.faas.system:pod pod-resnet50-inference-8 was scheduled to nx_2\n",
      "INFO:sim.faas.system:pod pod-resnet50-training-8 was scheduled to nano_5\n",
      "INFO:sim.faas.system:pod pod-resnet50-inference-9 was scheduled to nano_13\n",
      "INFO:sim.faas.system:pod pod-resnet50-training-9 was scheduled to nano_0\n",
      "INFO:sim.faas.system:pod pod-resnet50-inference-10 was scheduled to nano_15\n",
      "INFO:sim.faas.system:pod pod-resnet50-training-10 was scheduled to nano_11\n",
      "INFO:sim.faas.system:pod pod-resnet50-inference-11 was scheduled to xeongpu_0\n",
      "INFO:sim.faas.system:pod pod-resnet50-training-11 was scheduled to nano_16\n",
      "INFO:sim.faas.system:pod pod-resnet50-inference-12 was scheduled to xeongpu_2\n",
      "INFO:sim.faas.system:pod pod-resnet50-training-12 was scheduled to nano_17\n",
      "INFO:sim.faas.system:pod pod-resnet50-inference-13 was scheduled to nx_1\n",
      "INFO:sim.faas.system:pod pod-resnet50-training-13 was scheduled to nano_14\n",
      "INFO:sim.faas.system:pod pod-resnet50-inference-14 was scheduled to tx2_0\n",
      "INFO:sim.faas.system:pod pod-resnet50-training-14 was scheduled to nano_12\n",
      "INFO:sim.faas.system:pod pod-resnet50-inference-15 was scheduled to tx2_2\n",
      "INFO:sim.faas.system:pod pod-resnet50-training-15 was scheduled to nano_10\n",
      "INFO:sim.faas.system:pod pod-resnet50-inference-16 was scheduled to tx2_1\n",
      "INFO:sim.faas.system:pod pod-resnet50-training-16 was scheduled to xeongpu_4\n",
      "INFO:sim.faas.system:pod pod-resnet50-inference-17 was scheduled to xeongpu_6\n",
      "WARNING:sim.faas.system:retry scheduling pod pod-resnet50-training-17\n",
      "WARNING:sim.faas.system:retry scheduling pod pod-resnet50-inference-18\n",
      "WARNING:sim.faas.system:retry scheduling pod pod-resnet50-training-18\n",
      "WARNING:sim.faas.system:retry scheduling pod pod-resnet50-inference-19\n",
      "WARNING:sim.faas.system:retry scheduling pod pod-resnet50-training-19\n",
      "WARNING:sim.faas.system:retry scheduling pod pod-resnet50-inference-20\n",
      "WARNING:sim.faas.system:retry scheduling pod pod-resnet50-training-20\n",
      "WARNING:sim.faas.system:retry scheduling pod pod-resnet50-inference-21\n",
      "WARNING:sim.faas.system:retry scheduling pod pod-resnet50-inference-22\n",
      "WARNING:sim.faas.system:retry scheduling pod pod-resnet50-inference-23\n",
      "WARNING:sim.faas.system:retry scheduling pod pod-resnet50-inference-24\n",
      "WARNING:sim.faas.system:retry scheduling pod pod-resnet50-inference-25\n",
      "WARNING:sim.faas.system:retry scheduling pod pod-resnet50-inference-26\n",
      "WARNING:sim.faas.system:retry scheduling pod pod-resnet50-inference-27\n",
      "WARNING:sim.faas.system:retry scheduling pod pod-resnet50-inference-28\n",
      "WARNING:sim.faas.system:retry scheduling pod pod-resnet50-inference-29\n",
      "WARNING:sim.faas.system:retry scheduling pod pod-resnet50-inference-30\n",
      "WARNING:sim.faas.system:retry scheduling pod pod-resnet50-inference-31\n",
      "WARNING:sim.faas.system:retry scheduling pod pod-resnet50-inference-32\n",
      "WARNING:sim.faas.system:retry scheduling pod pod-resnet50-inference-33\n",
      "WARNING:sim.faas.system:retry scheduling pod pod-resnet50-inference-34\n",
      "WARNING:sim.faas.system:retry scheduling pod pod-resnet50-training-21\n",
      "WARNING:sim.faas.system:retry scheduling pod pod-resnet50-inference-35\n",
      "WARNING:sim.faas.system:retry scheduling pod pod-resnet50-training-22\n",
      "WARNING:sim.faas.system:retry scheduling pod pod-resnet50-inference-36\n",
      "WARNING:sim.faas.system:retry scheduling pod pod-resnet50-training-23\n",
      "WARNING:sim.faas.system:retry scheduling pod pod-resnet50-inference-37\n",
      "WARNING:sim.faas.system:retry scheduling pod pod-resnet50-training-24\n",
      "WARNING:sim.faas.system:retry scheduling pod pod-resnet50-inference-38\n",
      "WARNING:sim.faas.system:retry scheduling pod pod-resnet50-inference-39\n",
      "WARNING:sim.faas.system:retry scheduling pod pod-resnet50-inference-40\n",
      "WARNING:sim.faas.system:retry scheduling pod pod-resnet50-inference-41\n",
      "WARNING:sim.faas.system:retry scheduling pod pod-resnet50-inference-42\n",
      "WARNING:sim.faas.system:retry scheduling pod pod-resnet50-inference-43\n",
      "WARNING:sim.faas.system:retry scheduling pod pod-resnet50-inference-44\n",
      "WARNING:sim.faas.system:retry scheduling pod pod-resnet50-inference-45\n",
      "WARNING:sim.faas.system:retry scheduling pod pod-resnet50-inference-46\n",
      "WARNING:sim.faas.system:retry scheduling pod pod-resnet50-inference-47\n",
      "WARNING:sim.faas.system:retry scheduling pod pod-resnet50-inference-48\n",
      "WARNING:sim.faas.system:retry scheduling pod pod-resnet50-inference-49\n",
      "WARNING:sim.faas.system:retry scheduling pod pod-resnet50-inference-50\n",
      "WARNING:sim.faas.system:retry scheduling pod pod-resnet50-inference-51\n",
      "INFO:sim.faas.system:pod pod-resnet50-training-25 was scheduled to nuc_1\n",
      "INFO:sim.faas.system:pod pod-resnet50-inference-52 was scheduled to rpi3_0\n",
      "INFO:sim.faas.system:pod pod-resnet50-training-26 was scheduled to nuc_3\n",
      "INFO:sim.faas.system:pod pod-resnet50-inference-53 was scheduled to rpi3_1\n",
      "INFO:sim.faas.system:pod pod-resnet50-training-27 was scheduled to nuc_5\n",
      "INFO:sim.faas.system:pod pod-resnet50-inference-54 was scheduled to rpi3_2\n",
      "INFO:sim.faas.system:pod pod-resnet50-training-28 was scheduled to nuc_7\n",
      "INFO:sim.faas.system:pod pod-resnet50-inference-55 was scheduled to coral_2\n",
      "INFO:sim.faas.system:pod pod-resnet50-inference-56 was scheduled to rpi4_4\n",
      "INFO:sim.faas.system:pod pod-resnet50-inference-57 was scheduled to rpi4_5\n",
      "INFO:sim.faas.system:pod pod-resnet50-inference-58 was scheduled to rpi3_3\n",
      "INFO:sim.faas.system:pod pod-resnet50-inference-59 was scheduled to rpi3_4\n",
      "INFO:sim.faas.system:pod pod-resnet50-inference-60 was scheduled to rpi3_5\n",
      "INFO:sim.faas.system:pod pod-resnet50-inference-61 was scheduled to rpi3_6\n",
      "INFO:sim.faas.system:pod pod-resnet50-inference-62 was scheduled to rpi3_7\n",
      "INFO:sim.faas.system:pod pod-resnet50-inference-63 was scheduled to rpi3_8\n",
      "INFO:sim.faas.system:pod pod-resnet50-inference-64 was scheduled to coral_0\n",
      "INFO:sim.faas.system:pod pod-resnet50-inference-65 was scheduled to rpi4_2\n",
      "INFO:sim.faas.system:pod pod-resnet50-inference-66 was scheduled to coral_1\n",
      "INFO:sim.faas.system:pod pod-resnet50-inference-67 was scheduled to rockpi_3\n",
      "INFO:sim.faas.system:pod pod-resnet50-inference-68 was scheduled to coral_2\n",
      "INFO:sim.faas.system:scale down speech-inference by 3\n",
      "INFO:sim.faas.system:scale down mobilenet-inference by 4\n",
      "INFO:sim.faas.system:scale down speech-inference by 3\n",
      "INFO:sim.faas.system:scale down mobilenet-inference by 4\n",
      "INFO:sim.faas.system:scale down speech-inference by 6\n",
      "INFO:sim.faas.system:scale down mobilenet-inference by 8\n"
     ]
    },
    {
     "name": "stdout",
     "output_type": "stream",
     "text": [
      "alterted max replicas for resnet50-inference is 81\n",
      "function_factor was 1 and config.scale_max was 81\n",
      "alterted max replicas for resnet50-inference is 81\n",
      "function_factor was 1 and config.scale_max was 81\n"
     ]
    },
    {
     "name": "stderr",
     "output_type": "stream",
     "text": [
      "WARNING:sim.faas.system:retry scheduling pod pod-resnet50-inference-69\n",
      "WARNING:sim.faas.system:retry scheduling pod pod-resnet50-inference-70\n",
      "WARNING:sim.faas.system:retry scheduling pod pod-resnet50-inference-71\n",
      "WARNING:sim.faas.system:retry scheduling pod pod-resnet50-inference-72\n",
      "WARNING:sim.faas.system:retry scheduling pod pod-resnet50-inference-73\n",
      "WARNING:sim.faas.system:retry scheduling pod pod-resnet50-inference-74\n",
      "WARNING:sim.faas.system:retry scheduling pod pod-resnet50-inference-75\n",
      "WARNING:sim.faas.system:retry scheduling pod pod-resnet50-inference-76\n",
      "WARNING:sim.faas.system:retry scheduling pod pod-resnet50-inference-77\n",
      "WARNING:sim.faas.system:retry scheduling pod pod-resnet50-inference-78\n",
      "WARNING:sim.faas.system:retry scheduling pod pod-resnet50-inference-79\n",
      "WARNING:sim.faas.system:retry scheduling pod pod-resnet50-inference-80\n",
      "WARNING:sim.faas.system:retry scheduling pod pod-resnet50-inference-81\n",
      "WARNING:sim.faas.system:retry scheduling pod pod-resnet50-inference-82\n",
      "WARNING:sim.faas.system:retry scheduling pod pod-resnet50-inference-83\n",
      "WARNING:sim.faas.system:retry scheduling pod pod-resnet50-inference-84\n",
      "WARNING:sim.faas.system:retry scheduling pod pod-resnet50-inference-85\n",
      "WARNING:sim.faas.system:retry scheduling pod pod-resnet50-inference-86\n",
      "WARNING:sim.faas.system:retry scheduling pod pod-resnet50-inference-87\n",
      "WARNING:sim.faas.system:retry scheduling pod pod-resnet50-inference-88\n",
      "WARNING:sim.faas.system:retry scheduling pod pod-resnet50-inference-89\n",
      "WARNING:sim.faas.system:retry scheduling pod pod-resnet50-inference-90\n",
      "WARNING:sim.faas.system:retry scheduling pod pod-resnet50-inference-91\n",
      "WARNING:sim.faas.system:retry scheduling pod pod-resnet50-inference-92\n",
      "WARNING:sim.faas.system:retry scheduling pod pod-resnet50-inference-93\n",
      "WARNING:sim.faas.system:retry scheduling pod pod-resnet50-inference-94\n",
      "WARNING:sim.faas.system:retry scheduling pod pod-resnet50-inference-95\n",
      "WARNING:sim.faas.system:retry scheduling pod pod-resnet50-inference-96\n",
      "WARNING:sim.faas.system:retry scheduling pod pod-resnet50-inference-97\n",
      "WARNING:sim.faas.system:retry scheduling pod pod-resnet50-inference-98\n",
      "WARNING:sim.faas.system:retry scheduling pod pod-resnet50-inference-99\n",
      "WARNING:sim.faas.system:retry scheduling pod pod-resnet50-inference-100\n",
      "WARNING:sim.faas.system:retry scheduling pod pod-resnet50-inference-101\n",
      "WARNING:sim.faas.system:retry scheduling pod pod-resnet50-inference-102\n",
      "WARNING:sim.faas.system:retry scheduling pod pod-resnet50-inference-103\n",
      "WARNING:sim.faas.system:retry scheduling pod pod-resnet50-inference-104\n",
      "WARNING:sim.faas.system:retry scheduling pod pod-resnet50-inference-105\n",
      "WARNING:sim.faas.system:retry scheduling pod pod-resnet50-inference-106\n",
      "WARNING:sim.faas.system:retry scheduling pod pod-resnet50-inference-107\n",
      "WARNING:sim.faas.system:retry scheduling pod pod-resnet50-inference-108\n",
      "WARNING:sim.faas.system:retry scheduling pod pod-resnet50-inference-109\n",
      "WARNING:sim.faas.system:retry scheduling pod pod-resnet50-inference-110\n",
      "WARNING:sim.faas.system:retry scheduling pod pod-resnet50-inference-111\n",
      "WARNING:sim.faas.system:retry scheduling pod pod-resnet50-inference-112\n",
      "WARNING:sim.faas.system:retry scheduling pod pod-resnet50-inference-113\n",
      "WARNING:sim.faas.system:retry scheduling pod pod-resnet50-inference-114\n",
      "WARNING:sim.faas.system:retry scheduling pod pod-resnet50-inference-115\n",
      "WARNING:sim.faas.system:retry scheduling pod pod-resnet50-inference-116\n",
      "WARNING:sim.faas.system:retry scheduling pod pod-resnet50-inference-117\n",
      "WARNING:sim.faas.system:retry scheduling pod pod-resnet50-inference-118\n",
      "WARNING:sim.faas.system:retry scheduling pod pod-resnet50-inference-119\n",
      "WARNING:sim.faas.system:retry scheduling pod pod-resnet50-inference-120\n",
      "WARNING:sim.faas.system:retry scheduling pod pod-resnet50-inference-121\n",
      "WARNING:sim.faas.system:retry scheduling pod pod-resnet50-inference-122\n",
      "WARNING:sim.faas.system:retry scheduling pod pod-resnet50-inference-123\n",
      "WARNING:sim.faas.system:retry scheduling pod pod-resnet50-inference-124\n",
      "WARNING:sim.faas.system:retry scheduling pod pod-resnet50-inference-125\n",
      "WARNING:sim.faas.system:retry scheduling pod pod-resnet50-inference-126\n",
      "WARNING:sim.faas.system:retry scheduling pod pod-resnet50-inference-127\n",
      "WARNING:sim.faas.system:retry scheduling pod pod-resnet50-inference-128\n",
      "WARNING:sim.faas.system:retry scheduling pod pod-resnet50-inference-129\n",
      "WARNING:sim.faas.system:retry scheduling pod pod-resnet50-inference-130\n",
      "WARNING:sim.faas.system:retry scheduling pod pod-resnet50-inference-131\n",
      "WARNING:sim.faas.system:retry scheduling pod pod-resnet50-inference-132\n",
      "INFO:sim.faas.system:pod pod-resnet50-inference-133 was scheduled to coral_0\n",
      "INFO:sim.faas.system:pod pod-resnet50-inference-134 was scheduled to coral_1\n",
      "INFO:sim.faas.system:pod pod-resnet50-inference-135 was scheduled to nano_4\n",
      "INFO:sim.faas.system:pod pod-resnet50-inference-136 was scheduled to rockpi_4\n",
      "INFO:sim.faas.system:pod pod-resnet50-inference-137 was scheduled to rockpi_4\n",
      "INFO:sim.faas.system:pod pod-resnet50-inference-138 was scheduled to rpi3_0\n",
      "INFO:sim.faas.system:pod pod-resnet50-inference-139 was scheduled to rpi3_1\n",
      "INFO:sim.faas.system:pod pod-resnet50-inference-140 was scheduled to rpi3_2\n",
      "INFO:sim.faas.system:pod pod-resnet50-inference-141 was scheduled to nano_8\n",
      "INFO:sim.faas.system:pod pod-resnet50-inference-142 was scheduled to rpi4_4\n",
      "INFO:sim.faas.system:pod pod-resnet50-inference-143 was scheduled to rpi4_5\n",
      "INFO:sim.faas.system:pod pod-resnet50-inference-144 was scheduled to rpi3_3\n",
      "INFO:sim.faas.system:pod pod-resnet50-inference-145 was scheduled to rpi3_4\n",
      "INFO:sim.faas.system:pod pod-resnet50-inference-146 was scheduled to rpi3_5\n",
      "INFO:sim.faas.system:pod pod-resnet50-inference-147 was scheduled to rpi3_6\n",
      "INFO:sim.faas.system:pod pod-resnet50-inference-148 was scheduled to rpi3_7\n",
      "INFO:sim.faas.system:pod pod-resnet50-inference-149 was scheduled to rpi3_8\n",
      "INFO:sim.faas.system:pod pod-resnet50-inference-150 was scheduled to rpi4_2\n",
      "INFO:sim.faas.system:pod pod-resnet50-inference-151 was scheduled to nano_9\n",
      "INFO:sim.faas.system:pod pod-resnet50-inference-152 was scheduled to nano_7\n",
      "INFO:sim.faas.system:pod pod-resnet50-inference-153 was scheduled to xeoncpu_25\n",
      "INFO:sim.faas.system:pod pod-resnet50-inference-154 was scheduled to xeoncpu_25\n",
      "INFO:sim.faas.system:pod pod-resnet50-inference-155 was scheduled to xeoncpu_25\n",
      "INFO:sim.faas.system:pod pod-resnet50-inference-156 was scheduled to xeoncpu_26\n",
      "INFO:sim.faas.system:pod pod-resnet50-inference-157 was scheduled to xeoncpu_26\n",
      "INFO:sim.faas.system:pod pod-resnet50-inference-158 was scheduled to xeoncpu_26\n",
      "INFO:sim.faas.system:pod pod-resnet50-inference-159 was scheduled to xeoncpu_27\n",
      "INFO:sim.faas.system:pod pod-resnet50-inference-160 was scheduled to xeoncpu_27\n",
      "INFO:sim.faas.system:pod pod-resnet50-inference-161 was scheduled to xeoncpu_27\n",
      "INFO:sim.faas.system:pod pod-resnet50-inference-162 was scheduled to nuc_0\n",
      "INFO:sim.faas.system:pod pod-resnet50-inference-163 was scheduled to nuc_0\n",
      "INFO:sim.faas.system:pod pod-resnet50-inference-164 was scheduled to nuc_0\n",
      "INFO:sim.faas.system:scale down speech-inference by 6\n",
      "INFO:sim.faas.system:scale down mobilenet-inference by 8\n"
     ]
    },
    {
     "name": "stdout",
     "output_type": "stream",
     "text": [
      "alterted max replicas for resnet50-inference is 81\n",
      "function_factor was 1 and config.scale_max was 81\n",
      "alterted max replicas for resnet50-inference is 81\n",
      "function_factor was 1 and config.scale_max was 81\n"
     ]
    },
    {
     "name": "stderr",
     "output_type": "stream",
     "text": [
      "WARNING:sim.faas.system:retry scheduling pod pod-resnet50-inference-69\n",
      "WARNING:sim.faas.system:retry scheduling pod pod-resnet50-inference-70\n",
      "WARNING:sim.faas.system:retry scheduling pod pod-resnet50-inference-71\n",
      "WARNING:sim.faas.system:retry scheduling pod pod-resnet50-inference-72\n",
      "WARNING:sim.faas.system:retry scheduling pod pod-resnet50-inference-73\n",
      "WARNING:sim.faas.system:retry scheduling pod pod-resnet50-inference-74\n",
      "WARNING:sim.faas.system:retry scheduling pod pod-resnet50-inference-75\n",
      "WARNING:sim.faas.system:retry scheduling pod pod-resnet50-inference-76\n",
      "WARNING:sim.faas.system:retry scheduling pod pod-resnet50-inference-77\n",
      "WARNING:sim.faas.system:retry scheduling pod pod-resnet50-inference-78\n",
      "WARNING:sim.faas.system:retry scheduling pod pod-resnet50-inference-79\n",
      "WARNING:sim.faas.system:retry scheduling pod pod-resnet50-inference-80\n",
      "WARNING:sim.faas.system:retry scheduling pod pod-resnet50-inference-81\n",
      "WARNING:sim.faas.system:retry scheduling pod pod-resnet50-inference-82\n",
      "WARNING:sim.faas.system:retry scheduling pod pod-resnet50-inference-83\n",
      "WARNING:sim.faas.system:retry scheduling pod pod-resnet50-inference-84\n",
      "WARNING:sim.faas.system:retry scheduling pod pod-resnet50-inference-85\n",
      "WARNING:sim.faas.system:retry scheduling pod pod-resnet50-inference-86\n",
      "WARNING:sim.faas.system:retry scheduling pod pod-resnet50-inference-87\n",
      "WARNING:sim.faas.system:retry scheduling pod pod-resnet50-inference-88\n",
      "WARNING:sim.faas.system:retry scheduling pod pod-resnet50-inference-89\n",
      "WARNING:sim.faas.system:retry scheduling pod pod-resnet50-inference-90\n",
      "WARNING:sim.faas.system:retry scheduling pod pod-resnet50-inference-91\n",
      "WARNING:sim.faas.system:retry scheduling pod pod-resnet50-inference-92\n",
      "WARNING:sim.faas.system:retry scheduling pod pod-resnet50-inference-93\n",
      "WARNING:sim.faas.system:retry scheduling pod pod-resnet50-inference-94\n",
      "WARNING:sim.faas.system:retry scheduling pod pod-resnet50-inference-95\n",
      "WARNING:sim.faas.system:retry scheduling pod pod-resnet50-inference-96\n",
      "WARNING:sim.faas.system:retry scheduling pod pod-resnet50-inference-97\n",
      "WARNING:sim.faas.system:retry scheduling pod pod-resnet50-inference-98\n",
      "WARNING:sim.faas.system:retry scheduling pod pod-resnet50-inference-99\n",
      "WARNING:sim.faas.system:retry scheduling pod pod-resnet50-inference-100\n",
      "WARNING:sim.faas.system:retry scheduling pod pod-resnet50-inference-101\n",
      "WARNING:sim.faas.system:retry scheduling pod pod-resnet50-inference-102\n",
      "WARNING:sim.faas.system:retry scheduling pod pod-resnet50-inference-103\n",
      "WARNING:sim.faas.system:retry scheduling pod pod-resnet50-inference-104\n",
      "WARNING:sim.faas.system:retry scheduling pod pod-resnet50-inference-105\n",
      "WARNING:sim.faas.system:retry scheduling pod pod-resnet50-inference-106\n",
      "WARNING:sim.faas.system:retry scheduling pod pod-resnet50-inference-107\n",
      "WARNING:sim.faas.system:retry scheduling pod pod-resnet50-inference-108\n",
      "WARNING:sim.faas.system:retry scheduling pod pod-resnet50-inference-109\n",
      "WARNING:sim.faas.system:retry scheduling pod pod-resnet50-inference-110\n",
      "WARNING:sim.faas.system:retry scheduling pod pod-resnet50-inference-111\n",
      "WARNING:sim.faas.system:retry scheduling pod pod-resnet50-inference-112\n",
      "WARNING:sim.faas.system:retry scheduling pod pod-resnet50-inference-113\n",
      "WARNING:sim.faas.system:retry scheduling pod pod-resnet50-inference-114\n",
      "WARNING:sim.faas.system:retry scheduling pod pod-resnet50-inference-115\n",
      "WARNING:sim.faas.system:retry scheduling pod pod-resnet50-inference-116\n",
      "WARNING:sim.faas.system:retry scheduling pod pod-resnet50-inference-117\n",
      "WARNING:sim.faas.system:retry scheduling pod pod-resnet50-inference-118\n",
      "WARNING:sim.faas.system:retry scheduling pod pod-resnet50-inference-119\n",
      "WARNING:sim.faas.system:retry scheduling pod pod-resnet50-inference-120\n",
      "WARNING:sim.faas.system:retry scheduling pod pod-resnet50-inference-121\n",
      "WARNING:sim.faas.system:retry scheduling pod pod-resnet50-inference-122\n",
      "WARNING:sim.faas.system:retry scheduling pod pod-resnet50-inference-123\n",
      "WARNING:sim.faas.system:retry scheduling pod pod-resnet50-inference-124\n",
      "WARNING:sim.faas.system:retry scheduling pod pod-resnet50-inference-125\n",
      "WARNING:sim.faas.system:retry scheduling pod pod-resnet50-inference-126\n",
      "WARNING:sim.faas.system:retry scheduling pod pod-resnet50-inference-127\n",
      "WARNING:sim.faas.system:retry scheduling pod pod-resnet50-inference-128\n",
      "WARNING:sim.faas.system:retry scheduling pod pod-resnet50-inference-129\n",
      "WARNING:sim.faas.system:retry scheduling pod pod-resnet50-inference-130\n",
      "WARNING:sim.faas.system:retry scheduling pod pod-resnet50-inference-131\n",
      "WARNING:sim.faas.system:retry scheduling pod pod-resnet50-inference-132\n",
      "INFO:sim.faas.system:pod pod-resnet50-inference-133 was scheduled to coral_0\n",
      "INFO:sim.faas.system:pod pod-resnet50-inference-134 was scheduled to coral_1\n",
      "INFO:sim.faas.system:pod pod-resnet50-inference-135 was scheduled to nano_4\n",
      "INFO:sim.faas.system:pod pod-resnet50-inference-136 was scheduled to rockpi_4\n",
      "INFO:sim.faas.system:pod pod-resnet50-inference-137 was scheduled to rockpi_4\n",
      "INFO:sim.faas.system:pod pod-resnet50-inference-138 was scheduled to rpi3_0\n",
      "INFO:sim.faas.system:pod pod-resnet50-inference-139 was scheduled to rpi3_1\n",
      "INFO:sim.faas.system:pod pod-resnet50-inference-140 was scheduled to rpi3_2\n",
      "INFO:sim.faas.system:pod pod-resnet50-inference-141 was scheduled to nano_8\n",
      "INFO:sim.faas.system:pod pod-resnet50-inference-142 was scheduled to rpi4_4\n",
      "INFO:sim.faas.system:pod pod-resnet50-inference-143 was scheduled to rpi4_5\n",
      "INFO:sim.faas.system:pod pod-resnet50-inference-144 was scheduled to rpi3_3\n",
      "INFO:sim.faas.system:pod pod-resnet50-inference-145 was scheduled to rpi3_4\n",
      "INFO:sim.faas.system:pod pod-resnet50-inference-146 was scheduled to rpi3_5\n",
      "INFO:sim.faas.system:pod pod-resnet50-inference-147 was scheduled to rpi3_6\n",
      "INFO:sim.faas.system:pod pod-resnet50-inference-148 was scheduled to rpi3_7\n",
      "INFO:sim.faas.system:pod pod-resnet50-inference-149 was scheduled to rpi3_8\n",
      "INFO:sim.faas.system:pod pod-resnet50-inference-150 was scheduled to rpi4_2\n",
      "INFO:sim.faas.system:pod pod-resnet50-inference-151 was scheduled to nano_9\n",
      "INFO:sim.faas.system:pod pod-resnet50-inference-152 was scheduled to nano_7\n",
      "INFO:sim.faas.system:pod pod-resnet50-inference-153 was scheduled to xeoncpu_25\n",
      "INFO:sim.faas.system:pod pod-resnet50-inference-154 was scheduled to xeoncpu_25\n",
      "INFO:sim.faas.system:pod pod-resnet50-inference-155 was scheduled to xeoncpu_25\n",
      "INFO:sim.faas.system:pod pod-resnet50-inference-156 was scheduled to xeoncpu_26\n",
      "INFO:sim.faas.system:pod pod-resnet50-inference-157 was scheduled to xeoncpu_26\n",
      "INFO:sim.faas.system:pod pod-resnet50-inference-158 was scheduled to xeoncpu_26\n",
      "INFO:sim.faas.system:pod pod-resnet50-inference-159 was scheduled to xeoncpu_27\n",
      "INFO:sim.faas.system:pod pod-resnet50-inference-160 was scheduled to xeoncpu_27\n",
      "INFO:sim.faas.system:pod pod-resnet50-inference-161 was scheduled to xeoncpu_27\n",
      "INFO:sim.faas.system:pod pod-resnet50-inference-162 was scheduled to nuc_0\n",
      "INFO:sim.faas.system:pod pod-resnet50-inference-163 was scheduled to nuc_0\n",
      "INFO:sim.faas.system:pod pod-resnet50-inference-164 was scheduled to nuc_0\n",
      "INFO:sim.faas.system:scale down resnet50-inference by 2\n",
      "INFO:sim.faas.system:scale down speech-inference by 1\n",
      "INFO:sim.faas.system:scale down mobilenet-inference by 2\n",
      "INFO:sim.faas.system:scale down resnet50-inference by 3\n",
      "INFO:sim.faas.system:scale down speech-inference by 1\n",
      "INFO:sim.faas.system:scale down mobilenet-inference by 2\n",
      "INFO:sim.faas.system:scale down speech-inference by 3\n",
      "INFO:sim.faas.system:scale down mobilenet-inference by 4\n",
      "INFO:sim.faas.system:scale down speech-inference by 3\n",
      "INFO:sim.faas.system:scale down mobilenet-inference by 4\n",
      "INFO:sim.faas.system:scale down resnet50-inference by 10\n",
      "INFO:sim.faas.system:scale down mobilenet-inference by 1\n",
      "INFO:sim.faas.system:scale down resnet50-inference by 5\n",
      "INFO:sim.faas.system:scale down speech-inference by 1\n",
      "INFO:sim.faas.system:scale down mobilenet-inference by 2\n",
      "INFO:sim.faas.system:scale down mobilenet-inference by 1\n",
      "INFO:sim.faas.system:scale down resnet50-inference by 8\n",
      "INFO:sim.faas.system:scale down resnet50-inference by 5\n",
      "INFO:sim.faas.system:scale down resnet50-inference by 3\n",
      "INFO:sim.faas.system:scale down speech-inference by 1\n",
      "INFO:sim.faas.system:scale down mobilenet-inference by 2\n"
     ]
    },
    {
     "name": "stderr",
     "output_type": "stream",
     "text": [
      "INFO:sim.faas.system:scale down mobilenet-inference by 1\n",
      "INFO:sim.faas.system:scale down resnet50-inference by 7\n",
      "INFO:sim.faas.system:scale down resnet50-inference by 6\n",
      "INFO:sim.faas.system:scale down resnet50-inference by 6\n",
      "INFO:sim.faas.system:scale down mobilenet-inference by 1\n",
      "INFO:sim.faas.system:scale down resnet50-inference by 8\n",
      "INFO:sim.faas.system:scale down resnet50-inference by 5\n",
      "INFO:sim.faas.system:scale down resnet50-inference by 8\n",
      "INFO:sim.faas.system:scale down resnet50-inference by 11\n",
      "INFO:sim.faas.system:scale down resnet50-inference by 6\n",
      "INFO:sim.faas.system:scale down resnet50-inference by 3\n",
      "INFO:sim.faas.system:scale down resnet50-inference by 18\n",
      "INFO:sim.faas.system:scale down resnet50-inference by 7\n",
      "INFO:sim.faas.system:scale down resnet50-inference by 5\n",
      "INFO:sim.faas.system:scale down resnet50-inference by 10\n",
      "INFO:sim.faas.system:scale down resnet50-inference by 11\n",
      "INFO:sim.faas.system:scale down resnet50-inference by 10\n",
      "INFO:sim.faas.system:scale down resnet50-inference by 5\n",
      "INFO:sim.faas.system:scale down resnet50-inference by 8\n",
      "INFO:sim.faas.system:scale down resnet50-inference by 5\n",
      "INFO:sim.faas.system:scale down resnet50-inference by 13\n",
      "INFO:sim.faas.system:scale down resnet50-inference by 2\n",
      "INFO:sim.faas.system:scale down resnet50-inference by 10\n",
      "INFO:sim.faas.system:scale down resnet50-inference by 1\n",
      "INFO:sim.faas.system:scale down resnet50-inference by 2\n",
      "INFO:sim.faas.system:scale down resnet50-inference by 13\n",
      "INFO:sim.faas.system:scale down resnet50-inference by 5\n",
      "INFO:sim.faas.system:scale down resnet50-inference by 1\n",
      "INFO:sim.faas.system:scale down resnet50-inference by 6\n",
      "INFO:sim.faas.system:scale down resnet50-inference by 2\n",
      "INFO:sim.faas.system:scale down resnet50-inference by 1\n",
      "INFO:sim.faas.system:scale down resnet50-inference by 3\n",
      "INFO:sim.faas.system:scale down resnet50-inference by 1\n",
      "INFO:sim.faassim:simulation ran 706.00s sim, 85.68s wall\n",
      "INFO:sim.faassim:simulation ran 706.00s sim, 94.65s wall\n",
      "INFO:sim.faassim:simulation ran 706.00s sim, 101.67s wall\n",
      "INFO:sim.faassim:simulation ran 706.00s sim, 110.71s wall\n"
     ]
    },
    {
     "name": "stdout",
     "output_type": "stream",
     "text": [
      "Done calculating... E2E runtime: 112.37s\n",
      "Ran \"Round Robin centralized\" in 85.68s\n",
      "Ran \"Round Robin on all nodes\" in 94.65s\n",
      "Ran \"Least Response Time centralized\" in 101.68s\n",
      "Ran \"Least Response Time on all nodes\" in 110.71s\n"
     ]
    }
   ],
   "source": [
    "\n",
    "import time\n",
    "from ext.jjnp21.automator.analyzer import BasicResultAnalyzer\n",
    "from ext.jjnp21.automator.experiment import *\n",
    "from ext.jjnp21.automator.factories.benchmark import ConstantBenchmarkFactory\n",
    "from ext.jjnp21.automator.factories.faas import LocalizedLoadBalancerFaaSFactory\n",
    "from ext.jjnp21.automator.factories.topology import RaithHeterogeneousUrbanSensingFactory, GlobalIndustrialIoTScenario, NationDistributedUrbanSensingFactory\n",
    "from ext.jjnp21.automator.main import ExperimentRunAutomator\n",
    "\n",
    "node_count = 100\n",
    "rps = 50\n",
    "duration = 500\n",
    "\n",
    "e1 = Experiment('Round Robin centralized',\n",
    "                lb_type=LoadBalancerType.ROUND_ROBIN,\n",
    "                lb_placement_strategy=LoadBalancerPlacementStrategy.CENTRAL,\n",
    "                client_lb_resolving_strategy=ClientLoadBalancerResolvingStrategy.LOWEST_PING,\n",
    "                client_placement_strategy=ClientPlacementStrategy.NONE,\n",
    "                benchmark_factory=ConstantBenchmarkFactory(rps, duration),\n",
    "                faas_factory=LocalizedLoadBalancerFaaSFactory(),\n",
    "                topology_factory=RaithHeterogeneousUrbanSensingFactory(client_ratio=0.6))\n",
    "e2 = Experiment('Round Robin on all nodes',\n",
    "                lb_type=LoadBalancerType.ROUND_ROBIN,\n",
    "                lb_placement_strategy=LoadBalancerPlacementStrategy.ALL_NODES,\n",
    "                client_lb_resolving_strategy=ClientLoadBalancerResolvingStrategy.LOWEST_PING,\n",
    "                client_placement_strategy=ClientPlacementStrategy.NONE,\n",
    "                benchmark_factory=ConstantBenchmarkFactory(rps, duration),\n",
    "                faas_factory=LocalizedLoadBalancerFaaSFactory(),\n",
    "                topology_factory=RaithHeterogeneousUrbanSensingFactory(client_ratio=0.6))\n",
    "e3 = Experiment('Least Response Time centralized',\n",
    "                lb_type=LoadBalancerType.LEAST_RESPONSE_TIME,\n",
    "                lb_placement_strategy=LoadBalancerPlacementStrategy.CENTRAL,\n",
    "                client_lb_resolving_strategy=ClientLoadBalancerResolvingStrategy.LOWEST_PING,\n",
    "                client_placement_strategy=ClientPlacementStrategy.NONE,\n",
    "                benchmark_factory=ConstantBenchmarkFactory(rps, duration),\n",
    "                faas_factory=LocalizedLoadBalancerFaaSFactory(),\n",
    "                topology_factory=RaithHeterogeneousUrbanSensingFactory(client_ratio=0.6))\n",
    "e4 = Experiment('Least Response Time on all nodes',\n",
    "                lb_type=LoadBalancerType.LEAST_RESPONSE_TIME,\n",
    "                lb_placement_strategy=LoadBalancerPlacementStrategy.ALL_NODES,\n",
    "                client_lb_resolving_strategy=ClientLoadBalancerResolvingStrategy.LOWEST_PING,\n",
    "                client_placement_strategy=ClientPlacementStrategy.NONE,\n",
    "                benchmark_factory=ConstantBenchmarkFactory(rps, duration),\n",
    "                faas_factory=LocalizedLoadBalancerFaaSFactory(),\n",
    "                topology_factory=RaithHeterogeneousUrbanSensingFactory(client_ratio=0.6))\n",
    "\n",
    "experiment_list = [e1, e2, e3, e4]\n",
    "\n",
    "automator = ExperimentRunAutomator(experiment_list, worker_count=4)\n",
    "start = time.time()\n",
    "results = automator.run()\n",
    "end = time.time()\n",
    "print(f'Done calculating... E2E runtime: {round(end - start, 2)}s')\n",
    "# results.sort('experiment.name')\n",
    "for r in results:\n",
    "    print(f'Ran \"{r.experiment.name}\" in {r.run_duration_seconds}s')\n",
    "    \n"
   ]
  },
  {
   "cell_type": "code",
   "execution_count": 2,
   "metadata": {
    "pycharm": {
     "name": "#%%\n"
    }
   },
   "outputs": [
    {
     "name": "stdout",
     "output_type": "stream",
     "text": [
      "successfully ran analysis\n"
     ]
    },
    {
     "data": {
      "text/html": [
       "<div>\n",
       "<style scoped>\n",
       "    .dataframe tbody tr th:only-of-type {\n",
       "        vertical-align: middle;\n",
       "    }\n",
       "\n",
       "    .dataframe tbody tr th {\n",
       "        vertical-align: top;\n",
       "    }\n",
       "\n",
       "    .dataframe thead th {\n",
       "        text-align: right;\n",
       "    }\n",
       "</style>\n",
       "<table border=\"1\" class=\"dataframe\">\n",
       "  <thead>\n",
       "    <tr style=\"text-align: right;\">\n",
       "      <th></th>\n",
       "      <th>name</th>\n",
       "      <th>E2E mean</th>\n",
       "      <th>E2E q50</th>\n",
       "      <th>E2E q75</th>\n",
       "      <th>E2E q90</th>\n",
       "      <th>E2E q99</th>\n",
       "      <th>FET mean</th>\n",
       "      <th>FET q50</th>\n",
       "      <th>FET q75</th>\n",
       "      <th>FET q90</th>\n",
       "      <th>...</th>\n",
       "      <th>tx_time_cl_lb q90</th>\n",
       "      <th>tx_time_cl_lb q99</th>\n",
       "      <th>tx_time_lb_fx mean</th>\n",
       "      <th>tx_time_lb_fx q50</th>\n",
       "      <th>tx_time_lb_fx q75</th>\n",
       "      <th>tx_time_lb_fx q90</th>\n",
       "      <th>tx_time_lb_fx q99</th>\n",
       "      <th>nodes_by_type</th>\n",
       "      <th>total_rq_by_type</th>\n",
       "      <th>avg_rq_by_type</th>\n",
       "    </tr>\n",
       "  </thead>\n",
       "  <tbody>\n",
       "    <tr>\n",
       "      <th>0</th>\n",
       "      <td>Round Robin centralized</td>\n",
       "      <td>0.1174</td>\n",
       "      <td>0.0742</td>\n",
       "      <td>0.1401</td>\n",
       "      <td>0.2787</td>\n",
       "      <td>0.5592</td>\n",
       "      <td>0.0814</td>\n",
       "      <td>0.0327</td>\n",
       "      <td>0.0966</td>\n",
       "      <td>0.1695</td>\n",
       "      <td>...</td>\n",
       "      <td>0.0186</td>\n",
       "      <td>0.0610</td>\n",
       "      <td>0.0221</td>\n",
       "      <td>0.0115</td>\n",
       "      <td>0.0199</td>\n",
       "      <td>0.0385</td>\n",
       "      <td>0.1486</td>\n",
       "      <td>{'rpi3': 9, 'rpi4': 6, 'tx2': 3, 'nuc': 6, 'ro...</td>\n",
       "      <td>{'rpi3': 15350, 'rpi4': 9380, 'tx2': 1965, 'nu...</td>\n",
       "      <td>{'rpi3': 1705.5555555555557, 'rpi4': 1563.3333...</td>\n",
       "    </tr>\n",
       "    <tr>\n",
       "      <th>1</th>\n",
       "      <td>Round Robin on all nodes</td>\n",
       "      <td>0.1176</td>\n",
       "      <td>0.0753</td>\n",
       "      <td>0.1402</td>\n",
       "      <td>0.2810</td>\n",
       "      <td>0.5585</td>\n",
       "      <td>0.0816</td>\n",
       "      <td>0.0332</td>\n",
       "      <td>0.0966</td>\n",
       "      <td>0.1695</td>\n",
       "      <td>...</td>\n",
       "      <td>0.0186</td>\n",
       "      <td>0.0612</td>\n",
       "      <td>0.0221</td>\n",
       "      <td>0.0115</td>\n",
       "      <td>0.0199</td>\n",
       "      <td>0.0387</td>\n",
       "      <td>0.1510</td>\n",
       "      <td>{'rpi3': 9, 'rpi4': 6, 'tx2': 3, 'nuc': 6, 'ro...</td>\n",
       "      <td>{'rpi3': 15427, 'rpi4': 9442, 'tx2': 1954, 'nu...</td>\n",
       "      <td>{'rpi3': 1714.111111111111, 'rpi4': 1573.66666...</td>\n",
       "    </tr>\n",
       "    <tr>\n",
       "      <th>2</th>\n",
       "      <td>Least Response Time centralized</td>\n",
       "      <td>0.0808</td>\n",
       "      <td>0.0521</td>\n",
       "      <td>0.1155</td>\n",
       "      <td>0.1520</td>\n",
       "      <td>0.4438</td>\n",
       "      <td>0.0503</td>\n",
       "      <td>0.0135</td>\n",
       "      <td>0.0713</td>\n",
       "      <td>0.0976</td>\n",
       "      <td>...</td>\n",
       "      <td>0.0185</td>\n",
       "      <td>0.0606</td>\n",
       "      <td>0.0169</td>\n",
       "      <td>0.0113</td>\n",
       "      <td>0.0171</td>\n",
       "      <td>0.0339</td>\n",
       "      <td>0.1070</td>\n",
       "      <td>{'rpi3': 9, 'rpi4': 6, 'tx2': 3, 'nuc': 6, 'ro...</td>\n",
       "      <td>{'rpi3': 4638, 'rpi4': 5773, 'tx2': 2622, 'nuc...</td>\n",
       "      <td>{'rpi3': 515.3333333333334, 'rpi4': 962.166666...</td>\n",
       "    </tr>\n",
       "    <tr>\n",
       "      <th>3</th>\n",
       "      <td>Least Response Time on all nodes</td>\n",
       "      <td>0.0811</td>\n",
       "      <td>0.0526</td>\n",
       "      <td>0.1156</td>\n",
       "      <td>0.1514</td>\n",
       "      <td>0.4436</td>\n",
       "      <td>0.0504</td>\n",
       "      <td>0.0135</td>\n",
       "      <td>0.0718</td>\n",
       "      <td>0.0976</td>\n",
       "      <td>...</td>\n",
       "      <td>0.0185</td>\n",
       "      <td>0.0606</td>\n",
       "      <td>0.0170</td>\n",
       "      <td>0.0113</td>\n",
       "      <td>0.0171</td>\n",
       "      <td>0.0338</td>\n",
       "      <td>0.1106</td>\n",
       "      <td>{'rpi3': 9, 'rpi4': 6, 'tx2': 3, 'nuc': 6, 'ro...</td>\n",
       "      <td>{'rpi3': 4742, 'rpi4': 5724, 'tx2': 2609, 'nuc...</td>\n",
       "      <td>{'rpi3': 526.8888888888889, 'rpi4': 954.0, 'tx...</td>\n",
       "    </tr>\n",
       "  </tbody>\n",
       "</table>\n",
       "<p>4 rows × 30 columns</p>\n",
       "</div>"
      ],
      "text/plain": [
       "                               name  E2E mean  E2E q50  E2E q75  E2E q90  \\\n",
       "0           Round Robin centralized    0.1174   0.0742   0.1401   0.2787   \n",
       "1          Round Robin on all nodes    0.1176   0.0753   0.1402   0.2810   \n",
       "2   Least Response Time centralized    0.0808   0.0521   0.1155   0.1520   \n",
       "3  Least Response Time on all nodes    0.0811   0.0526   0.1156   0.1514   \n",
       "\n",
       "   E2E q99  FET mean  FET q50  FET q75  FET q90  ...  tx_time_cl_lb q90  \\\n",
       "0   0.5592    0.0814   0.0327   0.0966   0.1695  ...             0.0186   \n",
       "1   0.5585    0.0816   0.0332   0.0966   0.1695  ...             0.0186   \n",
       "2   0.4438    0.0503   0.0135   0.0713   0.0976  ...             0.0185   \n",
       "3   0.4436    0.0504   0.0135   0.0718   0.0976  ...             0.0185   \n",
       "\n",
       "   tx_time_cl_lb q99  tx_time_lb_fx mean  tx_time_lb_fx q50  \\\n",
       "0             0.0610              0.0221             0.0115   \n",
       "1             0.0612              0.0221             0.0115   \n",
       "2             0.0606              0.0169             0.0113   \n",
       "3             0.0606              0.0170             0.0113   \n",
       "\n",
       "   tx_time_lb_fx q75  tx_time_lb_fx q90  tx_time_lb_fx q99  \\\n",
       "0             0.0199             0.0385             0.1486   \n",
       "1             0.0199             0.0387             0.1510   \n",
       "2             0.0171             0.0339             0.1070   \n",
       "3             0.0171             0.0338             0.1106   \n",
       "\n",
       "                                       nodes_by_type  \\\n",
       "0  {'rpi3': 9, 'rpi4': 6, 'tx2': 3, 'nuc': 6, 'ro...   \n",
       "1  {'rpi3': 9, 'rpi4': 6, 'tx2': 3, 'nuc': 6, 'ro...   \n",
       "2  {'rpi3': 9, 'rpi4': 6, 'tx2': 3, 'nuc': 6, 'ro...   \n",
       "3  {'rpi3': 9, 'rpi4': 6, 'tx2': 3, 'nuc': 6, 'ro...   \n",
       "\n",
       "                                    total_rq_by_type  \\\n",
       "0  {'rpi3': 15350, 'rpi4': 9380, 'tx2': 1965, 'nu...   \n",
       "1  {'rpi3': 15427, 'rpi4': 9442, 'tx2': 1954, 'nu...   \n",
       "2  {'rpi3': 4638, 'rpi4': 5773, 'tx2': 2622, 'nuc...   \n",
       "3  {'rpi3': 4742, 'rpi4': 5724, 'tx2': 2609, 'nuc...   \n",
       "\n",
       "                                      avg_rq_by_type  \n",
       "0  {'rpi3': 1705.5555555555557, 'rpi4': 1563.3333...  \n",
       "1  {'rpi3': 1714.111111111111, 'rpi4': 1573.66666...  \n",
       "2  {'rpi3': 515.3333333333334, 'rpi4': 962.166666...  \n",
       "3  {'rpi3': 526.8888888888889, 'rpi4': 954.0, 'tx...  \n",
       "\n",
       "[4 rows x 30 columns]"
      ]
     },
     "execution_count": 2,
     "metadata": {},
     "output_type": "execute_result"
    }
   ],
   "source": [
    "analyzer = BasicResultAnalyzer(results)\n",
    "analysis_df = analyzer.basic_kpis()\n",
    "analysis_df.to_csv('/home/jp/Documents/tmp/analysis.csv', sep=';')\n",
    "print('successfully ran analysis')\n",
    "analysis_df"
   ]
  },
  {
   "cell_type": "code",
   "execution_count": 6,
   "metadata": {},
   "outputs": [
    {
     "name": "stdout",
     "output_type": "stream",
     "text": [
      "time\n",
      "2021-06-19 17:52:19.699653    load-balancer\n",
      "2021-06-19 17:52:19.713909    load-balancer\n",
      "2021-06-19 17:52:19.718971    load-balancer\n",
      "2021-06-19 17:52:19.719427    load-balancer\n",
      "2021-06-19 17:52:19.731957    load-balancer\n",
      "                                  ...      \n",
      "2021-06-19 18:02:22.598186    load-balancer\n",
      "2021-06-19 18:02:22.614150    load-balancer\n",
      "2021-06-19 18:02:22.617846    load-balancer\n",
      "2021-06-19 18:02:22.621341    load-balancer\n",
      "2021-06-19 18:02:22.639865    load-balancer\n",
      "Name: lb_node, Length: 90438, dtype: object\n"
     ]
    }
   ],
   "source": [
    "import pandas as pd\n",
    "pd.set_option('display.max_rows', 500)\n",
    "inv = results[1].invocations\n",
    "inv.groupby('lb_node').agg('count')\n",
    "print(inv['lb_node'])\n",
    "# results[3].function_deployment['node'].unique()"
   ]
  },
  {
   "cell_type": "code",
   "execution_count": null,
   "metadata": {},
   "outputs": [],
   "source": [
    "import statistics\n",
    "\n",
    "def node_count(inv):\n",
    "    r = dict()\n",
    "    for n in inv['node'].unique():\n",
    "        r[n] = 0\n",
    "    for _, row in inv.iterrows():\n",
    "        r[row['node']] += 1\n",
    "    return r\n",
    "\n",
    "node_counts = dict()\n",
    "node_count_stdevs = dict()\n",
    "for r in results:\n",
    "    node_counts[r.experiment.name] = node_count(r.invocations)\n",
    "    node_count_stdevs[r.experiment.name] = statistics.variance(list(node_counts[r.experiment.name].values()))\n",
    "    \n",
    "min_stdev = min(list(node_count_stdevs.values()))\n",
    "for k, stdev in node_count_stdevs.items():\n",
    "    node_count_stdevs[k] = round(stdev / min_stdev, 2)\n",
    "\n",
    "# node_count(results[0].invocations)\n",
    "node_count_stdevs\n",
    "    "
   ]
  },
  {
   "cell_type": "code",
   "execution_count": null,
   "metadata": {},
   "outputs": [],
   "source": [
    "# List some values per node type\n",
    "import pandas as pd\n",
    "types = ['rpi3', 'rpi4', 'tx2', 'nuc', 'rockpi', 'nx', 'coral', 'nano', 'xeoncpu', 'xeongpu', 'cloudvm']\n",
    "rpi3_inv = r.invocations[r.invocations['node'].str.startswith('rpi3')]\n",
    "rows = []\n",
    "for r in results:\n",
    "    inv = r.fets[r.fets['node'].str.startswith(types[0])]\n",
    "#     print(inv)\n",
    "    row = {}\n",
    "    row['name'] = r.experiment.name\n",
    "    row['cnt'] = inv['t_wait'].count()\n",
    "    row['mean'] = inv['t_wait'].mean()\n",
    "    row['0.5'] = inv['t_wait'].quantile(0.5)\n",
    "    row['0.75'] = inv['t_wait'].quantile(0.75)\n",
    "    row['0.9'] = inv['t_wait'].quantile(0.9)\n",
    "    row['0.99'] = inv['t_wait'].quantile(0.99)\n",
    "    rows.append(row)\n",
    "df = pd.DataFrame(rows)\n",
    "df\n"
   ]
  },
  {
   "cell_type": "code",
   "execution_count": null,
   "metadata": {},
   "outputs": [],
   "source": [
    "r = results[1]\n",
    "inv = r.fets[r.invocations['t_wait'] != 0]\n",
    "# r.invocations.count()\n",
    "r.fets['t_wait'].max()"
   ]
  }
 ],
 "metadata": {
  "kernelspec": {
   "display_name": "Python 3",
   "language": "python",
   "name": "python3"
  },
  "language_info": {
   "codemirror_mode": {
    "name": "ipython",
    "version": 3
   },
   "file_extension": ".py",
   "mimetype": "text/x-python",
   "name": "python",
   "nbconvert_exporter": "python",
   "pygments_lexer": "ipython3",
   "version": "3.7.10"
  }
 },
 "nbformat": 4,
 "nbformat_minor": 1
}
