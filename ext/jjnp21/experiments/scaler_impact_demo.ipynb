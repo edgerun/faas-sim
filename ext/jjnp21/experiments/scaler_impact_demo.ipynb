{
 "cells": [
  {
   "cell_type": "code",
   "execution_count": null,
   "metadata": {},
   "outputs": [],
   "source": [
    "import time\n",
    "from ext.jjnp21.automator.analyzer import BasicResultAnalyzer\n",
    "from ext.jjnp21.automator.experiment import *\n",
    "from ext.jjnp21.automator.factories.benchmark import ConstantBenchmarkFactory\n",
    "from ext.jjnp21.automator.factories.faas import LocalizedLoadBalancerFaaSFactory\n",
    "from ext.jjnp21.automator.factories.topology import RaithHeterogeneousUrbanSensingFactory, GlobalIndustrialIoTScenario, NationDistributedUrbanSensingFactory\n",
    "from ext.jjnp21.automator.main import ExperimentRunAutomator\n",
    "from ext.jjnp21.automator.experiment import Experiment, LoadBalancerType\n",
    "import logging\n",
    "\n",
    "logging.basicConfig(level=logging.INFO)\n",
    "rps = 75\n",
    "duration = 500\n",
    "\n",
    "\n",
    "rrc = Experiment('Round Robin centralized',\n",
    "                lb_type=LoadBalancerType.ROUND_ROBIN,\n",
    "                lb_placement_strategy=LoadBalancerPlacementStrategy.CENTRAL,\n",
    "                client_lb_resolving_strategy=ClientLoadBalancerResolvingStrategy.LOWEST_PING,\n",
    "                client_placement_strategy=ClientPlacementStrategy.NONE,\n",
    "                benchmark_factory=ConstantBenchmarkFactory(rps, duration),\n",
    "                faas_factory=LocalizedLoadBalancerFaaSFactory(),\n",
    "                function_scaling_strategy = FunctionScalingStrategy.AVG_QUEUE_LENGTH,\n",
    "                topology_factory=RaithHeterogeneousUrbanSensingFactory(client_ratio=0.6))\n",
    "rrd = Experiment('Round Robin on all nodes',\n",
    "                lb_type=LoadBalancerType.ROUND_ROBIN,\n",
    "                lb_placement_strategy=LoadBalancerPlacementStrategy.ALL_NODES,\n",
    "                client_lb_resolving_strategy=ClientLoadBalancerResolvingStrategy.LOWEST_PING,\n",
    "                client_placement_strategy=ClientPlacementStrategy.NONE,\n",
    "                benchmark_factory=ConstantBenchmarkFactory(rps, duration),\n",
    "                faas_factory=LocalizedLoadBalancerFaaSFactory(),\n",
    "                function_scaling_strategy = FunctionScalingStrategy.AVG_QUEUE_LENGTH,\n",
    "                topology_factory=RaithHeterogeneousUrbanSensingFactory(client_ratio=0.6))\n",
    "lrtc = Experiment('Least Response Time centralized',\n",
    "                lb_type=LoadBalancerType.LEAST_RESPONSE_TIME,\n",
    "                lb_placement_strategy=LoadBalancerPlacementStrategy.CENTRAL,\n",
    "                client_lb_resolving_strategy=ClientLoadBalancerResolvingStrategy.LOWEST_PING,\n",
    "                client_placement_strategy=ClientPlacementStrategy.NONE,\n",
    "                benchmark_factory=ConstantBenchmarkFactory(rps, duration),\n",
    "                faas_factory=LocalizedLoadBalancerFaaSFactory(),\n",
    "                function_scaling_strategy = FunctionScalingStrategy.AVG_QUEUE_LENGTH,\n",
    "                topology_factory=RaithHeterogeneousUrbanSensingFactory(client_ratio=0.6))\n",
    "lrtd = Experiment('Least Response Time on all nodes',\n",
    "                lb_type=LoadBalancerType.LEAST_RESPONSE_TIME,\n",
    "                lb_placement_strategy=LoadBalancerPlacementStrategy.ALL_NODES,\n",
    "                client_lb_resolving_strategy=ClientLoadBalancerResolvingStrategy.LOWEST_PING,\n",
    "                client_placement_strategy=ClientPlacementStrategy.NONE,\n",
    "                benchmark_factory=ConstantBenchmarkFactory(rps, duration),\n",
    "                faas_factory=LocalizedLoadBalancerFaaSFactory(),\n",
    "                function_scaling_strategy = FunctionScalingStrategy.AVG_QUEUE_LENGTH,\n",
    "                topology_factory=RaithHeterogeneousUrbanSensingFactory(client_ratio=0.6))\n",
    "\n",
    "experiment_list = [rrc, rrd, lrtc, lrtd]\n",
    "automator = ExperimentRunAutomator(experiment_list, worker_count=4)\n",
    "start = time.time()\n",
    "results = automator.run()\n",
    "end = time.time()\n",
    "print(f'Done calculating... E2E runtime: {round(end - start, 2)}s')\n",
    "# results.sort('experiment.name')\n",
    "for r in results:\n",
    "    print(f'Ran \"{r.experiment.name}\" in {r.run_duration_seconds}s')\n"
   ]
  },
  {
   "cell_type": "code",
   "execution_count": null,
   "metadata": {
    "pycharm": {
     "name": "#%%\n"
    }
   },
   "outputs": [],
   "source": [
    "analyzer = BasicResultAnalyzer(results)\n",
    "analysis_df = analyzer.basic_kpis()\n",
    "analysis_df.to_csv('/home/jp/Documents/tmp/analysis.csv', sep=';')\n",
    "print('successfully ran analysis')\n",
    "analysis_df"
   ]
  },
  {
   "cell_type": "code",
   "execution_count": null,
   "metadata": {},
   "outputs": [],
   "source": [
    "r = results[0]\n",
    "r.function_deployment\n"
   ]
  }
 ],
 "metadata": {
  "kernelspec": {
   "display_name": "Python 3",
   "language": "python",
   "name": "python3"
  },
  "language_info": {
   "codemirror_mode": {
    "name": "ipython",
    "version": 3
   },
   "file_extension": ".py",
   "mimetype": "text/x-python",
   "name": "python",
   "nbconvert_exporter": "python",
   "pygments_lexer": "ipython3",
   "version": "3.7.10"
  }
 },
 "nbformat": 4,
 "nbformat_minor": 1
}
