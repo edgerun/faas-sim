{
 "cells": [
  {
   "cell_type": "code",
   "execution_count": 2,
   "metadata": {
    "pycharm": {
     "name": "#%%\n"
    }
   },
   "outputs": [],
   "source": [
    "import sys\n",
    "sys.path.append('/home/jp/Documents/GitProjects/faas-sim')\n",
    "from typing import List\n",
    "\n",
    "import matplotlib.pyplot as plt\n",
    "from pandas import DataFrame\n",
    "import numpy as np\n",
    "import pickle\n",
    "import datetime as dt\n",
    "import matplotlib.dates as md\n",
    "from matplotlib import ticker\n",
    "\n",
    "from ext.jjnp21.automator.experiment import Result\n",
    "\n",
    "\n",
    "\n",
    "def load_results(path) -> List[Result]:\n",
    "    with open(path, 'rb') as f:\n",
    "        results = pickle.load(f)\n",
    "        return results"
   ]
  },
  {
   "cell_type": "code",
   "execution_count": 3,
   "metadata": {
    "scrolled": true
   },
   "outputs": [
    {
     "data": {
      "text/plain": [
       "['/home/jp/Documents/GitProjects/faas-sim/ext/jjnp21/experiments/osmotic',\n",
       " '/usr/lib/python37.zip',\n",
       " '/usr/lib/python3.7',\n",
       " '/usr/lib/python3.7/lib-dynload',\n",
       " '',\n",
       " '/home/jp/Documents/GitProjects/old-faasim-for-eval/faas-sim/venv/lib/python3.7/site-packages',\n",
       " '/home/jp/Documents/GitProjects/old-faasim-for-eval/faas-sim/venv/lib/python3.7/site-packages/IPython/extensions',\n",
       " '/home/jp/.ipython']"
      ]
     },
     "execution_count": 3,
     "metadata": {},
     "output_type": "execute_result"
    }
   ],
   "source": []
  },
  {
   "cell_type": "code",
   "execution_count": 10,
   "metadata": {
    "pycharm": {
     "name": "#%%\n"
    }
   },
   "outputs": [],
   "source": [
    "# importing of raw data\n",
    "path = '/home/jp/Documents/tmp/'\n",
    "dumps = [\n",
    "    ('osmotic_basic_fixed_fx_scaling.dump', 'fixed_scaling'),\n",
    "#     ('osmotic_basic_openfaas_scaling.dump', 'openfaas_scaling_basic'),\n",
    "#     ('test.dump', 'test')\n",
    "]\n",
    "results = {}\n",
    "for filename, key in dumps:\n",
    "    results[key] = load_results(f'{path}/{filename}')"
   ]
  },
  {
   "cell_type": "code",
   "execution_count": 17,
   "metadata": {},
   "outputs": [
    {
     "data": {
      "text/plain": [
       "['25rps_2000s_city_rr_baseline',\n",
       " '25rps_2000s_city_lrt_baseline',\n",
       " '25rps_2000s_city_osmotic',\n",
       " '50rps_2000s_city_rr_baseline',\n",
       " '50rps_2000s_city_lrt_baseline',\n",
       " '50rps_2000s_city_osmotic',\n",
       " '75rps_2000s_city_lrt_baseline',\n",
       " '75rps_2000s_city_osmotic',\n",
       " '25rps_2000s_nation_osmotic',\n",
       " '25rps_2000s_nation_lrt_baseline',\n",
       " '75rps_2000s_city_rr_baseline',\n",
       " '25rps_2000s_nation_rr_baseline',\n",
       " '50rps_2000s_nation_osmotic',\n",
       " '50rps_2000s_nation_lrt_baseline',\n",
       " '75rps_2000s_nation_lrt_baseline',\n",
       " '25rps_2000s_global_lrt_baseline',\n",
       " '25rps_2000s_global_osmotic',\n",
       " '75rps_2000s_nation_osmotic',\n",
       " '75rps_2000s_global_osmotic',\n",
       " '50rps_2000s_global_osmotic',\n",
       " '75rps_2000s_nation_rr_baseline',\n",
       " '50rps_2000s_nation_rr_baseline',\n",
       " '50rps_2000s_global_lrt_baseline',\n",
       " '75rps_2000s_global_lrt_baseline',\n",
       " '75rps_2000s_global_rr_baseline',\n",
       " '25rps_2000s_global_rr_baseline']"
      ]
     },
     "execution_count": 17,
     "metadata": {},
     "output_type": "execute_result"
    }
   ],
   "source": [
    "list(map(lambda x: x.experiment.name, results['fixed_scaling']))"
   ]
  },
  {
   "cell_type": "code",
   "execution_count": 22,
   "metadata": {},
   "outputs": [
    {
     "data": {
      "text/html": [
       "<div>\n",
       "<style scoped>\n",
       "    .dataframe tbody tr th:only-of-type {\n",
       "        vertical-align: middle;\n",
       "    }\n",
       "\n",
       "    .dataframe tbody tr th {\n",
       "        vertical-align: top;\n",
       "    }\n",
       "\n",
       "    .dataframe thead th {\n",
       "        text-align: right;\n",
       "    }\n",
       "</style>\n",
       "<table border=\"1\" class=\"dataframe\">\n",
       "  <thead>\n",
       "    <tr style=\"text-align: right;\">\n",
       "      <th></th>\n",
       "      <th>value</th>\n",
       "      <th>function_name</th>\n",
       "    </tr>\n",
       "    <tr>\n",
       "      <th>time</th>\n",
       "      <th></th>\n",
       "      <th></th>\n",
       "    </tr>\n",
       "  </thead>\n",
       "  <tbody>\n",
       "    <tr>\n",
       "      <th>2022-02-01 23:19:42.132444</th>\n",
       "      <td>5</td>\n",
       "      <td>resnet50-inference</td>\n",
       "    </tr>\n",
       "    <tr>\n",
       "      <th>2022-02-01 23:19:42.132444</th>\n",
       "      <td>5</td>\n",
       "      <td>resnet50-training</td>\n",
       "    </tr>\n",
       "    <tr>\n",
       "      <th>2022-02-01 23:19:42.132444</th>\n",
       "      <td>5</td>\n",
       "      <td>mobilenet-inference</td>\n",
       "    </tr>\n",
       "    <tr>\n",
       "      <th>2022-02-01 23:19:42.132444</th>\n",
       "      <td>5</td>\n",
       "      <td>speech-inference</td>\n",
       "    </tr>\n",
       "    <tr>\n",
       "      <th>2022-02-01 23:19:42.132444</th>\n",
       "      <td>5</td>\n",
       "      <td>resnet50-preprocessing</td>\n",
       "    </tr>\n",
       "    <tr>\n",
       "      <th>2022-02-01 23:20:12.132444</th>\n",
       "      <td>15</td>\n",
       "      <td>resnet50-training</td>\n",
       "    </tr>\n",
       "    <tr>\n",
       "      <th>2022-02-01 23:20:12.132444</th>\n",
       "      <td>15</td>\n",
       "      <td>resnet50-preprocessing</td>\n",
       "    </tr>\n",
       "    <tr>\n",
       "      <th>2022-02-01 23:20:12.132444</th>\n",
       "      <td>32</td>\n",
       "      <td>resnet50-inference</td>\n",
       "    </tr>\n",
       "    <tr>\n",
       "      <th>2022-02-01 23:20:12.132444</th>\n",
       "      <td>32</td>\n",
       "      <td>mobilenet-inference</td>\n",
       "    </tr>\n",
       "    <tr>\n",
       "      <th>2022-02-01 23:20:12.132444</th>\n",
       "      <td>32</td>\n",
       "      <td>speech-inference</td>\n",
       "    </tr>\n",
       "    <tr>\n",
       "      <th>2022-02-01 23:20:42.132444</th>\n",
       "      <td>1</td>\n",
       "      <td>resnet50-inference</td>\n",
       "    </tr>\n",
       "    <tr>\n",
       "      <th>2022-02-01 23:21:12.132444</th>\n",
       "      <td>-1</td>\n",
       "      <td>resnet50-inference</td>\n",
       "    </tr>\n",
       "  </tbody>\n",
       "</table>\n",
       "</div>"
      ],
      "text/plain": [
       "                            value           function_name\n",
       "time                                                     \n",
       "2022-02-01 23:19:42.132444      5      resnet50-inference\n",
       "2022-02-01 23:19:42.132444      5       resnet50-training\n",
       "2022-02-01 23:19:42.132444      5     mobilenet-inference\n",
       "2022-02-01 23:19:42.132444      5        speech-inference\n",
       "2022-02-01 23:19:42.132444      5  resnet50-preprocessing\n",
       "2022-02-01 23:20:12.132444     15       resnet50-training\n",
       "2022-02-01 23:20:12.132444     15  resnet50-preprocessing\n",
       "2022-02-01 23:20:12.132444     32      resnet50-inference\n",
       "2022-02-01 23:20:12.132444     32     mobilenet-inference\n",
       "2022-02-01 23:20:12.132444     32        speech-inference\n",
       "2022-02-01 23:20:42.132444      1      resnet50-inference\n",
       "2022-02-01 23:21:12.132444     -1      resnet50-inference"
      ]
     },
     "execution_count": 22,
     "metadata": {},
     "output_type": "execute_result"
    }
   ],
   "source": [
    "r.scale\n",
    "# r.experiment.name"
   ]
  }
 ],
 "metadata": {
  "kernelspec": {
   "display_name": "Python 3 (ipykernel)",
   "language": "python",
   "name": "python3"
  },
  "language_info": {
   "codemirror_mode": {
    "name": "ipython",
    "version": 3
   },
   "file_extension": ".py",
   "mimetype": "text/x-python",
   "name": "python",
   "nbconvert_exporter": "python",
   "pygments_lexer": "ipython3",
   "version": "3.7.11"
  }
 },
 "nbformat": 4,
 "nbformat_minor": 1
}